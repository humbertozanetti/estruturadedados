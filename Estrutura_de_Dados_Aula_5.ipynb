{
  "nbformat": 4,
  "nbformat_minor": 0,
  "metadata": {
    "colab": {
      "provenance": [],
      "authorship_tag": "ABX9TyN6Ea+A57PfwemkDQg9M0bH",
      "include_colab_link": true
    },
    "kernelspec": {
      "name": "python3",
      "display_name": "Python 3"
    },
    "language_info": {
      "name": "python"
    }
  },
  "cells": [
    {
      "cell_type": "markdown",
      "metadata": {
        "id": "view-in-github",
        "colab_type": "text"
      },
      "source": [
        "<a href=\"https://colab.research.google.com/github/humbertozanetti/estruturadedados/blob/main/Estrutura_de_Dados_Aula_5.ipynb\" target=\"_parent\"><img src=\"https://colab.research.google.com/assets/colab-badge.svg\" alt=\"Open In Colab\"/></a>"
      ]
    },
    {
      "cell_type": "markdown",
      "source": [
        "\n",
        "# **ESTRUTURA DE DADOS - AULA 05**\n",
        "# **Prof. Dr. Humberto A. P. Zanetti**\n",
        "# Fatec Deputado Ary Fossen - Jundiaí\n",
        "\n",
        "\n",
        "---\n",
        "\n",
        "**Conteúdo da aula:**\n",
        "\n",
        "* O que é a estrutura Árvore?\n",
        "* O que são Árvores Binárias?\n",
        "* Implementando uma Árvore Binária\n",
        "* BÔNUS: Recursividade!\n",
        "\n",
        "**Fontes de consulta interessante:**\n",
        "* Verbete no Wikipedia sobre [Árvores Binárias](https://pt.wikipedia.org/wiki/%C3%81rvore_bin%C3%A1ria)\n",
        "* Vídeo [\"Introdução sobre Árvores Binárias\"](https://youtu.be/PgZflufXGUU?si=YKiWt77r2-FB5vsL)\n"
      ],
      "metadata": {
        "id": "KqGkSw_EuThs"
      }
    },
    {
      "cell_type": "markdown",
      "source": [
        "## **O que são Árvores?**\n",
        "\n"
      ],
      "metadata": {
        "id": "3JJUjW5LBhzL"
      }
    },
    {
      "cell_type": "markdown",
      "source": [
        "Árvores, no contexto de programação da ciência da computação, são estruturas de dados não lineares que organizam elementos hierarquicamente. Diferente das listas, onde os dados são sequenciais, em uma árvore os elementos (**nós**) estão dispostos de forma hierárquica, com uma raiz (nó **raiz**) que se conecta a outros nós, chamados de **filhos**. Esses filhos podem ter seus próprios ramos, e os nós que não possuem filhos são chamados de folhas. Árvores são eficientes e amplamente usadas em diversas aplicações como sistemas de arquivos, interfaces gráficas e bancos de dados. A terminologia usada, como \"pai\", \"filho\" e \"irmão\", vem de árvores genealógicas.\n",
        "Entre as aplicações mais comuns temos *parsing* de expressões em analisadores sintáticos, sistemas de buscas de prioridades, árvores de decisões, estruturas hierárquicas em linguagens de marcação, como HTML, entre outras aplicações onde a hierarquia deve ser implementada.\n",
        "\n",
        "Os termos mais comuns associados à Árvores são:\n",
        "\n",
        "* **Nó** (Node ou Key): Cada elemento de uma árvore é\n",
        "chamado de nó. Ele contém os dados e pode se conectar a outros nós.\n",
        "* **Nó Raiz** (Root): O nó no topo da árvore, sem nenhum nó pai. Todos os outros nós descendem deste nó.\n",
        "* **Subárvore** (Subtree): Uma árvore formada a partir de um nó e todos os seus descendentes. Qualquer nó com seus filhos pode ser considerado a raiz de uma subárvore.\n",
        "* **Grau** (Degree): O número de filhos que um nó possui. Para uma árvore, o grau máximo é o número máximo de filhos que qualquer nó pode ter.\n",
        "* **Nó Folha** (Leaf): Um nó que não possui filhos. É também conhecido como nó terminal ou nó externo.\n",
        "Aresta (Edge): A ligação entre dois nós em uma árvore, representando a relação entre um nó pai e um nó filho.\n",
        "* **Pai** (Parent): Um nó que tem um ou mais nós diretamente conectados abaixo dele (filhos). Um nó pode ter apenas um pai.\n",
        "* **Filho** (Child): Um nó que está diretamente conectado a outro nó superior (pai). Um nó pode ter vários filhos.\n",
        "* **Irmão** (Sibling): Nós que compartilham o mesmo nó pai são chamados de irmãos.\n",
        "* **Nível** (Level): A posição de um nó na árvore, medida a partir da raiz. O nível da raiz é 0, e o nível dos outros nós aumenta conforme a profundidade na árvore.\n",
        "* **Altura da Árvore** (Tree Height): A altura de uma árvore é o número máximo de níveis da raiz até o nó folha mais distante. A altura da árvore é igual ao nível do nó mais profundo.\n",
        "* **Profundidade** (Depth): A profundidade de um nó é a distância (ou o número de arestas) da raiz até aquele nó. A profundidade da raiz é 0.\n",
        "\n",
        "![Estrutura de uma Árvore](https://media.geeksforgeeks.org/wp-content/uploads/20221129094006/Treedatastructure.png)"
      ],
      "metadata": {
        "id": "GUt5WlwbG0iy"
      }
    },
    {
      "cell_type": "markdown",
      "source": [
        "## **O que são Árvores Binárias?**"
      ],
      "metadata": {
        "id": "bkhaOzqvG32m"
      }
    },
    {
      "cell_type": "markdown",
      "source": [
        "Uma árvore binária é uma coleção de nós em forma hierárquica, na qual os nós podem ter zero, um ou dois nós filhos. Uma árevore binária simples terá no máximo dois filhos (por isso **binária**), isto é, um filho **esquerdo** e um filho **direito**.\n",
        "\n",
        "![Árvore simples](https://notes.eddyerburgh.me/assets/img/data-structures-and-algorithms/data-structures/trees/tree.svg)\n",
        "\n",
        "Essas árvores são organizadas de modo que haja sempre uma subárvore na esquerda e direita.\n",
        "\n",
        "![Subárvore](https://www.hello-algo.com/en/chapter_tree/binary_tree.assets/binary_tree_definition.png)\n",
        "\n",
        "Uma **árvore binária cheia** (full binary tree) é chamada assim quando todos os nós tem **zero** ou **dois filhos** e nenhum nó tem apenas um filho.\n",
        "\n",
        "![Full tree](https://www.hello-algo.com/en/chapter_tree/binary_tree.assets/full_binary_tree.png)\n",
        "\n",
        "Uma **árvore binária perfeita** (perfect binary tree) é quando todos os nós estão com dois filhos tendo todos os níveis preenchidos, ou seja, ao inserir um novo nó, irá modificar a altura da árvore.\n",
        "\n",
        "![Perfect tree](https://www.hello-algo.com/en/chapter_tree/binary_tree.assets/perfect_binary_tree.png)\n",
        "\n",
        "\n",
        "Uma **árvore binária completa** (complete binary tree) apresenta todos os nós possíveis, exceto os nós mais baixos (folhas).\n",
        "\n",
        "![Complete tree](https://www.hello-algo.com/en/chapter_tree/binary_tree.assets/complete_binary_tree.png)\n",
        "\n",
        "Uma árvore está **balanceada** quando a diferença na altura das subárvores esquerda e direita para cada nó da árvores não é maior do que **1**. Já uma árvore **não balanceada** é uma árvore binária que tem uma diferença de mais de 1 entre a subárvore direita e esquerda.\n",
        "\n",
        "![Balanced Tree](https://www.techiedelight.com/wp-content/uploads/Height-Balanced-Tree-2.png)"
      ],
      "metadata": {
        "id": "QouKM_v5HCJN"
      }
    },
    {
      "cell_type": "markdown",
      "source": [
        "## **Criando uma Árvore Binária com Graphviz**\n",
        "\n",
        "Vamos fazer uma implementação simples de uma árvore binária usando a bilbioteca [Graphviz](https://graphviz.org), uma biblioteca para gerar imagens de estruturas como grafos e árvores. Podemos gerar essas representações gráficas a partir de manipulação dos próprios métodos da biblioteca ou por estruturas de objetos.\n",
        "Utilizando como exemplo a árvore abaixo, vamos criar sua implementação no Graphviz.\n",
        "\n",
        "![Exemplo árvore](https://cdn.programiz.com/sites/tutorial2program/files/perfect-binary-tree_0.png)"
      ],
      "metadata": {
        "id": "NxkIWWtScDGl"
      }
    },
    {
      "cell_type": "code",
      "source": [
        "from graphviz import Digraph\n",
        "from IPython.display import Image\n",
        "\n",
        "# Criar um gráfico de árvore binária\n",
        "grafico = Digraph()\n",
        "\n",
        "\n",
        "\n",
        "# Renderizar e visualizar a árvore\n",
        "grafico.render('arvore_binaria_simples', format='png')\n",
        "Image(filename='arvore_binaria_simples.png')"
      ],
      "metadata": {
        "id": "h8Q4XfNmjPwf"
      },
      "execution_count": null,
      "outputs": []
    },
    {
      "cell_type": "markdown",
      "source": [
        "## **Mas antes da implementação, vamos ver Recursividade!**\n",
        "\n",
        "\n",
        "A recursividade é um conceito fundamental na ciência da computação e está intimamente relacionada à forma como lidamos com estruturas como árvores. Para ensinar as varreduras de árvore, é essencial que se entendarecursividade, pois a maioria das operações em árvores, incluindo as varreduras, são implementadas de maneira recursiva.\n",
        "\n",
        "**Introdução à Recursividade**\n",
        "\n",
        "Recursividade ocorre quando uma função chama a si mesma diretamente ou indiretamente. Ela é uma técnica poderosa, especialmente útil para resolver problemas que podem ser quebrados em subproblemas menores de estrutura semelhante.\n",
        "\n",
        "**Exemplo de Recursividade Simples:**\n",
        "\n",
        "Vamos começar com um exemplo básico de recursão: o cálculo do fatorial de um número.\n",
        "\n",
        "O fatorial de um número 𝑛, denotado como 𝑛!, é o produto de todos os inteiros de 1 até 𝑛. A definição de fatorial é naturalmente recursiva:\n",
        "\n",
        "* 𝑛! = 𝑛 × (𝑛 − 1)!\n",
        "* 0! = 1 (caso base)\n",
        "\n",
        "**Implementação em Python:**"
      ],
      "metadata": {
        "id": "L4MkxuyOffUW"
      }
    },
    {
      "cell_type": "code",
      "source": [
        "def fatorial(n):\n",
        "    if n == 0:\n",
        "        return 1  # Caso base\n",
        "    else:\n",
        "        return n * fatorial(n - 1)  # Chamada recursiva\n"
      ],
      "metadata": {
        "id": "DTLM0OiohK5L"
      },
      "execution_count": null,
      "outputs": []
    },
    {
      "cell_type": "markdown",
      "source": [
        "1. **Caso Base**: A condição que interrompe as chamadas recursivas. Sem um caso base, a função recursiva chamaria a si mesma indefinidamente, causando um erro de \"recursão infinita\".\n",
        "    * No exemplo do fatorial, o caso base é 𝑛 = 0, onde a função retorna 1.\n",
        "\n",
        "2. **Chamada Recursiva**: A chamada da função dentro de si mesma, que resolve uma versão menor do problema.\n",
        "  * No fatorial, a chamada recursiva é **fatorial(n - 1)**.\n",
        "\n",
        "3. **Dividir e Conquistar**: A recursividade funciona bem em problemas que podem ser decompostos em subproblemas menores de estrutura similar, como as árvores."
      ],
      "metadata": {
        "id": "7lJo9eqYhaEi"
      }
    },
    {
      "cell_type": "markdown",
      "source": [
        "**Exercício 1**\n",
        "\n",
        "Implemente uma função recursiva que calcule a soma de todos os elementos de uma lista de números inteiros.\n",
        "\n",
        "**Regras:**\n",
        "* A função deve receber uma lista de números inteiros como entrada e retornar a\n",
        "soma de seus elementos.\n",
        "* Exemplo: Para a lista [1, 2, 3, 4], a função deve retornar 1+2+3+4=10.\n",
        "\n",
        "**Dica:**\n",
        "* Caso base: se a lista estiver vazia, a soma é 0.\n",
        "* Use recursividade para somar o primeiro elemento da lista com a soma dos elementos restantes."
      ],
      "metadata": {
        "id": "JuT5_-cHqKgY"
      }
    },
    {
      "cell_type": "markdown",
      "source": [
        "## **Implementando uma Árvore Binária com classe**\n",
        "\n",
        "* **inserir()**: Verifica se a árvore está vazia (ou seja, se não há uma raiz). Se estiver, insere o novo valor como a raiz.\n",
        "Se a árvore já tiver uma raiz, chama o método _inserir() passando a raiz e o valor a ser inserido como parâmetros.\n",
        "* **_inserir()**: Se o valor for menor que o valor do nó atual, a função tenta inserir à esquerda. Se a subárvore esquerda estiver vazia, o novo nó é criado lá. Se não estiver vazia, a função se chama recursivamente para continuar procurando a posição correta na subárvore esquerda.\n",
        "Se o valor for maior ou igual ao valor do nó atual, a inserção ocorre na direita, seguindo a mesma lógica recursiva.\n",
        "* **em_ordem**(ou in-order traversal): é uma das três principais maneiras de realizar a varredura ou percurso de uma árvore binária. Ele visita os nós da árvore em uma sequência particular:\n",
        "  * A função *em_ordem* recebe como parâmetro o nó atual que está sendo visitado.\n",
        "  * A função verifica se o nó é None (caso base da recursão). Se o nó não for None, ela continua:\n",
        "    * Primeiro, chama recursivamente *em_ordem* na subárvore esquerda.\n",
        "    * Depois, visita o nó atual (imprimindo seu valor, ou fazendo outra operação desejada).\n",
        "    * Por fim, chama recursivamente *em_ordem* na subárvore direita."
      ],
      "metadata": {
        "id": "dimkgGO3uRZC"
      }
    },
    {
      "cell_type": "code",
      "execution_count": null,
      "metadata": {
        "id": "m2b0OGH1dyPn"
      },
      "outputs": [],
      "source": [
        "class No:\n",
        "    def __init__(self, valor):\n",
        "        self.valor = valor\n",
        "        self.esquerda = None\n",
        "        self.direita = None\n",
        "\n",
        "class ArvoreBinaria:\n",
        "    def __init__(self):\n",
        "        self.raiz = None\n",
        "    # Verifica se a árvore está vazia; se estiver, insere o primeiro nó (raiz)\n",
        "    def inserir(self, valor):\n",
        "        if self.raiz is None:\n",
        "            self.raiz = No(valor)\n",
        "        # Chama a função recursiva para inserir o valor no lugar certo\n",
        "        else:\n",
        "            self._inserir(self.raiz, valor)\n",
        "\n",
        "    def _inserir(self, atual, valor):\n",
        "        # Caso o valor seja menor que o nó atual, insere à esquerda\n",
        "        if valor < atual.valor:\n",
        "            if atual.esquerda is None:\n",
        "                atual.esquerda = No(valor)\n",
        "            # Continua recursivamente à esquerda\n",
        "            else:\n",
        "                self._inserir(atual.esquerda, valor)\n",
        "        # Caso o valor seja maior ou igual, insere à direita\n",
        "        else:\n",
        "            if atual.direita is None:\n",
        "                atual.direita = No(valor)\n",
        "            # Continua recursivamente à direita\n",
        "            else:\n",
        "                self._inserir(atual.direita, valor)\n",
        "\n",
        "    def em_ordem(self, no):\n",
        "        if no is not None:\n",
        "             # Passo 1: Varre a subárvore esquerda\n",
        "            self.em_ordem(no.esquerda)\n",
        "            # Passo 2: Visita o nó atual (imprime o valor)\n",
        "            print(no.valor, end=' ')\n",
        "            # Passo 3: Varre a subárvore direita\n",
        "            self.em_ordem(no.direita)\n",
        "\n",
        "    def pre_ordem(self, no):\n",
        "        if no is not None:\n",
        "            # Passo 1: Visita o nó atual\n",
        "            print(no.valor, end=' ')\n",
        "\n",
        "            # Passo 2: Varre a subárvore esquerda\n",
        "            self.pre_ordem(no.esquerda)\n",
        "\n",
        "            # Passo 3: Varre a subárvore direita\n",
        "            self.pre_ordem(no.direita)\n",
        "\n",
        "# Exemplo de uso\n",
        "arvore = ArvoreBinaria()\n",
        "valores = [8, 4, 12, 2, 6, 10, 14]\n",
        "for val in valores:\n",
        "    arvore.inserir(val)\n",
        "arvore.em_ordem(arvore.raiz)\n",
        "\n"
      ]
    },
    {
      "cell_type": "markdown",
      "source": [
        "![Árvore no formato vetor](https://taylorial.com/dstruct/bstArray2Tree.svg)\n",
        "\n",
        "Vamos renderizar agora utilizando o Graphviz:"
      ],
      "metadata": {
        "id": "BYtd-rG4WFl8"
      }
    },
    {
      "cell_type": "code",
      "source": [
        "from graphviz import Digraph\n",
        "from IPython.display import Image\n",
        "\n",
        "def desenhar_arvore(no, grafico=None):\n",
        "    if grafico is None:\n",
        "        grafico = Digraph()\n",
        "        grafico.node(str(no.valor), str(no.valor))\n",
        "    if no.esquerda:\n",
        "        grafico.node(str(no.esquerda.valor), str(no.esquerda.valor))\n",
        "        grafico.edge(str(no.valor), str(no.esquerda.valor))\n",
        "        desenhar_arvore(no.esquerda, grafico)\n",
        "    if no.direita:\n",
        "        grafico.node(str(no.direita.valor), str(no.direita.valor))\n",
        "        grafico.edge(str(no.valor), str(no.direita.valor))\n",
        "        desenhar_arvore(no.direita, grafico)\n",
        "    return grafico\n",
        "\n",
        "arvore_grafica = desenhar_arvore(arvore.raiz)\n",
        "arvore_grafica.render('arvore', format='png', cleanup=True)\n",
        "Image(filename='arvore.png')\n",
        "\n"
      ],
      "metadata": {
        "id": "5xNekBcld8U_"
      },
      "execution_count": null,
      "outputs": []
    },
    {
      "cell_type": "markdown",
      "source": [
        "## **Mais um pouco sobre Varredura de Árvore**\n",
        "\n",
        "1. **Pré-ordem (Pre-order Traversal):**\n",
        "* Ordem: Visita-se o nó atual (raiz), depois a subárvore esquerda, seguida da subárvore direita.\n",
        "* Sequência: Nó raiz → Subárvore esquerda → Subárvore direita.\n",
        "* Exemplo: Para uma árvore com raiz 10, filho esquerdo 5 e direito 15, a varredura pré-ordem seria: 10 → 5 → 15.\n",
        "\n",
        "![Preorder Traversal](https://miro.medium.com/v2/resize:fit:720/format:webp/0*5qHyEmP9Ws2OAled)\n",
        "\n",
        "\n",
        "2. **In-ordem (In-order Traversal):**\n",
        "* Ordem: Visita-se a subárvore esquerda, depois o nó atual (raiz), seguido da subárvore direita.\n",
        "* Sequência: Subárvore esquerda → Nó raiz → Subárvore direita.\n",
        "* Exemplo: Para a mesma árvore, a varredura in-ordem seria: 5 → 10 → 15.\n",
        "* **Usada nas árvores de busca**, por isso o maior foco nessa aula.\n",
        "\n",
        "![Inorder Traversal](https://miro.medium.com/v2/resize:fit:720/format:webp/0*aeoSpNbvM2BqhGAq)\n",
        "\n",
        "\n",
        "3. **Pós-ordem (Post-order Traversal):**\n",
        "* Ordem: Visita-se primeiro a subárvore esquerda, depois a subárvore direita, e finalmente o nó atual (raiz).\n",
        "* Sequência: Subárvore esquerda → Subárvore direita → Nó raiz.\n",
        "* Exemplo: Para a árvore, a varredura pós-ordem seria: 5 → 15 → 10.\n",
        "\n",
        "![Postorder Traversal](https://miro.medium.com/v2/resize:fit:720/format:webp/0*GrznbolwX5ml3CFB)"
      ],
      "metadata": {
        "id": "Nrcfv6v4Tw7k"
      }
    },
    {
      "cell_type": "markdown",
      "source": [
        "**Exercício 2**\n",
        "\n",
        "Implemente o método pre_ordem para fazer a varredura da árvore pelo procedimento Pré-ordem.\n",
        "\n",
        "*Em ordem*: Visita a subárvore esquerda, depois o nó atual e, por fim, a subárvore direita.\n",
        "\n",
        "*Pré-ordem*: Visita o nó primeiro, depois a subárvore esquerda e, por fim, a subárvore direita.\n"
      ],
      "metadata": {
        "id": "ePrGiDlAhOR-"
      }
    }
  ]
}