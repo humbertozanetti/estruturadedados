{
  "nbformat": 4,
  "nbformat_minor": 0,
  "metadata": {
    "colab": {
      "provenance": [],
      "authorship_tag": "ABX9TyML2seKYJkqIe+8guTiX1r7",
      "include_colab_link": true
    },
    "kernelspec": {
      "name": "python3",
      "display_name": "Python 3"
    },
    "language_info": {
      "name": "python"
    }
  },
  "cells": [
    {
      "cell_type": "markdown",
      "metadata": {
        "id": "view-in-github",
        "colab_type": "text"
      },
      "source": [
        "<a href=\"https://colab.research.google.com/github/humbertozanetti/estruturadedados/blob/main/Notebooks/Estrutura_de_Dados_Aula_04.ipynb\" target=\"_parent\"><img src=\"https://colab.research.google.com/assets/colab-badge.svg\" alt=\"Open In Colab\"/></a>"
      ]
    },
    {
      "cell_type": "markdown",
      "source": [
        "# **ESTRUTURA DE DADOS - AULA 04**\n",
        "# **Prof. Dr. Humberto A. P. Zanetti**\n",
        "# Fatec Deputado Ary Fossen - Jundiaí\n",
        "\n",
        "\n",
        "---\n",
        "\n",
        "**Conteúdo da aula:**\n",
        "+ Pandas\n",
        "  - Series\n",
        "  - Dataframe\n",
        "\n"
      ],
      "metadata": {
        "id": "OyROfwvltbhh"
      }
    },
    {
      "cell_type": "markdown",
      "source": [
        "## **O que é Pandas?**\n",
        "O Pandas é uma biblioteca de código aberto para manipulação e análise de dados em Python. Ele fornece estruturas de dados flexíveis e eficientes, especialmente projetadas para lidar com grandes volumes de dados de forma organizada.\n",
        "\n",
        "Principais Características:   \n",
        "+ Fácil manipulação de tabelas e planilhas (semelhante ao Excel).\n",
        "+ Suporte para importação e exportação de arquivos CSV, Excel, JSON e SQL.\n",
        "+ Ferramentas poderosas para filtragem, agregação, ordenação e limpeza de dados.\n",
        "+ Compatível com outras bibliotecas populares, como NumPy e Matplotlib."
      ],
      "metadata": {
        "id": "7oPVyLb-tu6D"
      }
    },
    {
      "cell_type": "markdown",
      "source": [
        "## **O que é um Series?**\n",
        "\n",
        "Um *Series* é uma estrutura de dados unidimensional da biblioteca Pandas, semelhante a um vetor ou uma lista em Python, mas com funcionalidades adicionais.\n",
        "É composta por:\n",
        "+ **Valores**: os dados propriamente ditos.\n",
        "+ **Índices**: os rótulos associados a cada valor, similar às chaves de um dicionário.\n",
        "\n",
        "**Quando Usar uma Series?**\n",
        "+ Quando precisamos armazenar e manipular uma única sequência de valores.\n",
        "+ Quando queremos realizar cálculos estatísticos rápidos.\n",
        "+ Quando precisamos de um dicionário avançado, já que a Series combina chaves e valores."
      ],
      "metadata": {
        "id": "BBSVmDxjubUe"
      }
    },
    {
      "cell_type": "markdown",
      "source": [
        "## **O que é um DataFrame?**\n",
        "Um DataFrame é uma estrutura de dados bidimensional da biblioteca Pandas, semelhante a uma tabela do Excel, um banco de dados ou uma planilha. Ele organiza os dados em linhas e colunas, permitindo a manipulação e análise de forma eficiente.  \n",
        "Características principais de um DataFrame:  \n",
        "+ **É bidimensional**: contém linhas e colunas organizadas.\n",
        "+ **Cada coluna pode ter um tipo de dado diferente** (exemplo: números, textos, datas).\n",
        "+ **Indexação flexível**: pode ter rótulos personalizados para linhas e colunas.\n",
        "+ **Métodos poderosos para manipulação de dados**: filtragem, agregação, ordenação, estatísticas descritivas e muito mais.\n",
        "\n",
        "**Series x Dataframes**\n",
        "\n",
        "| Característica\t| Series |\tDataFrame |\n",
        "| :----:  | :----:  | :----:  |\n",
        "| Estrutura |\tUnidimensional |\tBidimensional |\n",
        "| Semelhante a |\tVetor/Lista\t| Tabela |\n",
        "| Índices |\tSim\t| Sim |\n",
        "| Colunas\t| 1\t| Múltiplas |\n",
        "\n",
        "**Se o DataFrame é uma tabela, a Series é uma única coluna dessa tabela!**"
      ],
      "metadata": {
        "id": "8raCsfqqt8gI"
      }
    },
    {
      "cell_type": "markdown",
      "source": [
        "## **Utilizando Series e Dataframe**"
      ],
      "metadata": {
        "id": "XD2_S6yMtpSh"
      }
    },
    {
      "cell_type": "markdown",
      "source": [
        "**Criando um Series**"
      ],
      "metadata": {
        "id": "irisprrDzLeg"
      }
    },
    {
      "cell_type": "code",
      "execution_count": 1,
      "metadata": {
        "colab": {
          "base_uri": "https://localhost:8080/"
        },
        "id": "KyQQRx4htZcA",
        "outputId": "0818b3df-a4e5-4098-dec4-a2ca2fff6c9e"
      },
      "outputs": [
        {
          "output_type": "stream",
          "name": "stdout",
          "text": [
            "0    10\n",
            "1    20\n",
            "2    30\n",
            "3    40\n",
            "dtype: int64\n"
          ]
        }
      ],
      "source": [
        "import pandas as pd\n",
        "\n",
        "dados = [10, 20, 30, 40]\n",
        "serie = pd.Series(dados)\n",
        "\n",
        "print(serie)"
      ]
    },
    {
      "cell_type": "markdown",
      "source": [
        "**Observação**: Notem que assim como em NumPy, nossa \"base\" acaba sendo uma lista para a transformação."
      ],
      "metadata": {
        "id": "4DpveyJMx1eZ"
      }
    }
  ]
}