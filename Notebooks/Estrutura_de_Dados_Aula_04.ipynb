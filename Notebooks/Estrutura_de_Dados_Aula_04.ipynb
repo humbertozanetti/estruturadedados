{
  "nbformat": 4,
  "nbformat_minor": 0,
  "metadata": {
    "colab": {
      "provenance": [],
      "authorship_tag": "ABX9TyOQs8EsVCVDPPmcWWxVdc2T",
      "include_colab_link": true
    },
    "kernelspec": {
      "name": "python3",
      "display_name": "Python 3"
    },
    "language_info": {
      "name": "python"
    }
  },
  "cells": [
    {
      "cell_type": "markdown",
      "metadata": {
        "id": "view-in-github",
        "colab_type": "text"
      },
      "source": [
        "<a href=\"https://colab.research.google.com/github/humbertozanetti/estruturadedados/blob/main/Notebooks/Estrutura_de_Dados_Aula_04.ipynb\" target=\"_parent\"><img src=\"https://colab.research.google.com/assets/colab-badge.svg\" alt=\"Open In Colab\"/></a>"
      ]
    },
    {
      "cell_type": "markdown",
      "source": [
        "# **ESTRUTURA DE DADOS - AULA 04**\n",
        "# **Prof. Dr. Humberto A. P. Zanetti**\n",
        "# Fatec Deputado Ary Fossen - Jundiaí\n",
        "\n",
        "\n",
        "---\n",
        "\n",
        "**Conteúdo da aula:**\n",
        "+ Pandas\n",
        "  - Series\n",
        "  - Dataframe\n",
        "\n"
      ],
      "metadata": {
        "id": "OyROfwvltbhh"
      }
    },
    {
      "cell_type": "markdown",
      "source": [
        "## **O que é Pandas?**\n",
        "O Pandas é uma biblioteca de código aberto para manipulação e análise de dados em Python. Ele fornece estruturas de dados flexíveis e eficientes, especialmente projetadas para lidar com grandes volumes de dados de forma organizada.\n",
        "\n",
        "Principais Características:   \n",
        "+ Fácil manipulação de tabelas e planilhas (semelhante ao Excel).\n",
        "+ Suporte para importação e exportação de arquivos CSV, Excel, JSON e SQL.\n",
        "+ Ferramentas poderosas para filtragem, agregação, ordenação e limpeza de dados.\n",
        "+ Compatível com outras bibliotecas populares, como NumPy e Matplotlib."
      ],
      "metadata": {
        "id": "7oPVyLb-tu6D"
      }
    },
    {
      "cell_type": "markdown",
      "source": [
        "## **O que é um Series?**\n",
        "\n",
        "Um *Series* é uma estrutura de dados unidimensional da biblioteca Pandas, semelhante a um vetor ou uma lista em Python, mas com funcionalidades adicionais.\n",
        "É composta por:\n",
        "+ **Valores**: os dados propriamente ditos.\n",
        "+ **Índices**: os rótulos associados a cada valor, similar às chaves de um dicionário.\n",
        "\n",
        "**Quando Usar uma Series?**\n",
        "+ Quando precisamos armazenar e manipular uma única sequência de valores.\n",
        "+ Quando queremos realizar cálculos estatísticos rápidos.\n",
        "+ Quando precisamos de um **dicionário avançado**, já que a Series combina chaves e valores."
      ],
      "metadata": {
        "id": "BBSVmDxjubUe"
      }
    },
    {
      "cell_type": "markdown",
      "source": [
        "## **O que é um DataFrame?**\n",
        "Um DataFrame é uma estrutura de dados bidimensional da biblioteca Pandas, semelhante a uma tabela do Excel, um banco de dados ou uma planilha. Ele organiza os dados em linhas e colunas, permitindo a manipulação e análise de forma eficiente.  \n",
        "Características principais de um DataFrame:  \n",
        "+ **É bidimensional**: contém linhas e colunas organizadas.\n",
        "+ **Cada coluna pode ter um tipo de dado diferente** (exemplo: números, textos, datas).\n",
        "+ **Indexação flexível**: pode ter rótulos personalizados para linhas e colunas.\n",
        "+ **Métodos poderosos para manipulação de dados**: filtragem, agregação, ordenação, estatísticas descritivas e muito mais.\n",
        "\n",
        "**Series x Dataframes**\n",
        "\n",
        "| Característica\t| Series |\tDataFrame |\n",
        "| :----:  | :----:  | :----:  |\n",
        "| Estrutura |\tUnidimensional |\tBidimensional |\n",
        "| Semelhante a |\tVetor/Lista\t| Tabela |\n",
        "| Índices |\tSim\t| Sim |\n",
        "| Colunas\t| 1\t| Múltiplas |\n",
        "\n",
        "**Se o DataFrame é uma tabela, a Series é uma única coluna dessa tabela!**"
      ],
      "metadata": {
        "id": "8raCsfqqt8gI"
      }
    },
    {
      "cell_type": "markdown",
      "source": [
        "## **Utilizando Series e Dataframe**"
      ],
      "metadata": {
        "id": "XD2_S6yMtpSh"
      }
    },
    {
      "cell_type": "markdown",
      "source": [
        "**Criando uma Series**"
      ],
      "metadata": {
        "id": "irisprrDzLeg"
      }
    },
    {
      "cell_type": "code",
      "execution_count": null,
      "metadata": {
        "colab": {
          "base_uri": "https://localhost:8080/"
        },
        "id": "KyQQRx4htZcA",
        "outputId": "0818b3df-a4e5-4098-dec4-a2ca2fff6c9e"
      },
      "outputs": [
        {
          "output_type": "stream",
          "name": "stdout",
          "text": [
            "0    10\n",
            "1    20\n",
            "2    30\n",
            "3    40\n",
            "dtype: int64\n"
          ]
        }
      ],
      "source": [
        "import pandas as pd\n",
        "\n",
        "dados = [10, 20, 30, 40]\n",
        "serie = pd.Series(dados)\n",
        "\n",
        "print(serie)"
      ]
    },
    {
      "cell_type": "markdown",
      "source": [
        "**Observações**:\n",
        "+ Notem que assim como em NumPy, nossa \"base\" acaba sendo uma lista para a transformação.\n",
        "+ É associado uma metadado dado chamado `dtype` com o valor `int64`, indicando que os valores são do tipo inteiro de 64 bits.\n",
        "\n",
        "| Tipo Pandas   | Descrição                          | Tipo NumPy equivalente |\n",
        "| :-----------: | :--------------------------------: | :--------------------: |\n",
        "| `int64`     | Números inteiros                | `np.int64`       |\n",
        "| `float64`   | Números de ponto flutuante      | `np.float64`     |\n",
        "| `bool`      | Valores booleanos (`True`/`False`) | `np.bool_`   |\n",
        "| `object`    | Texto ou valores mistos         | `np.object_`     |\n",
        "| `category`  | Categorias otimizadas para memória | `np.object_` |\n",
        "| `datetime64` | Datas e horários       | `np.timedelta64` |\n"
      ],
      "metadata": {
        "id": "4DpveyJMx1eZ"
      }
    },
    {
      "cell_type": "markdown",
      "source": [
        "O Pandas definie automaticamente o tipo pelo contexto."
      ],
      "metadata": {
        "id": "IKVynkfJ2ERO"
      }
    },
    {
      "cell_type": "code",
      "source": [
        "import pandas as pd\n",
        "\n",
        "s1 = pd.Series([1, 2, 3, 4])  # Inferido como int64\n",
        "s2 = pd.Series([1.5, 2.7, 3.9])  # Inferido como float64\n",
        "s3 = pd.Series(['a', 'b', 'c'])  # Inferido como object (texto)\n",
        "s4 = pd.Series([True, False, True])  # Inferido como bool\n",
        "\n",
        "print(s1.dtype)\n",
        "print(s2.dtype)\n",
        "print(s3.dtype)\n",
        "print(s4.dtype)\n"
      ],
      "metadata": {
        "id": "7Z7h3YA118qO"
      },
      "execution_count": null,
      "outputs": []
    },
    {
      "cell_type": "markdown",
      "source": [
        "Mas também podemos redefinir, caso necessário:\n"
      ],
      "metadata": {
        "id": "fXwMh4Bv16cc"
      }
    },
    {
      "cell_type": "code",
      "source": [
        "s = pd.Series([1, 2, 3], dtype='int32')\n",
        "print(s.dtype)"
      ],
      "metadata": {
        "id": "4_JXUxeK2NSB"
      },
      "execution_count": null,
      "outputs": []
    },
    {
      "cell_type": "markdown",
      "source": [
        "Se o `dtype` estiver incorreto ou precisar de otimização, podemos convertê-lo usando `.astype()`:"
      ],
      "metadata": {
        "id": "C0_itLM121Ip"
      }
    },
    {
      "cell_type": "code",
      "source": [
        "s = pd.Series([1, 2, 3])\n",
        "s = s.astype('float32')  # Convertendo para float32\n",
        "print(s.dtype)"
      ],
      "metadata": {
        "id": "eQKNlfp324QT"
      },
      "execution_count": null,
      "outputs": []
    },
    {
      "cell_type": "markdown",
      "source": [
        "**Trabalhando com tipos especiais (`datetime`, `category`)**  \n",
        "\n",
        "**Datas**"
      ],
      "metadata": {
        "id": "ECxNBHc96zM1"
      }
    },
    {
      "cell_type": "code",
      "source": [
        "s = pd.Series(['2024-03-01', '2024-03-02'])\n",
        "s = pd.to_datetime(s)\n",
        "print(s.dtype)"
      ],
      "metadata": {
        "id": "Gbc6qmJx6772"
      },
      "execution_count": null,
      "outputs": []
    },
    {
      "cell_type": "markdown",
      "source": [
        "**Category** (economiza memória e acelera operações em dados repetitivos)"
      ],
      "metadata": {
        "id": "9FuHEo4d68RN"
      }
    },
    {
      "cell_type": "code",
      "source": [
        "s = pd.Series(['alto', 'médio', 'baixo', 'alto', 'médio'], dtype='category')\n",
        "print(s.dtype)"
      ],
      "metadata": {
        "id": "C98VDqJJ3CJt"
      },
      "execution_count": null,
      "outputs": []
    },
    {
      "cell_type": "markdown",
      "source": [
        "## **Índices e Acessos em Series**"
      ],
      "metadata": {
        "id": "FPj2SJBZ3B2s"
      }
    },
    {
      "cell_type": "markdown",
      "source": [
        "Como vimos, os índices são gerados automaticamente, mas podemos definir índices personalizados para os elementos:"
      ],
      "metadata": {
        "id": "uU_cpLxU7-Rn"
      }
    },
    {
      "cell_type": "code",
      "source": [
        "serie = pd.Series([10, 20, 30, 40], index=['a', 'b', 'c', 'd'])\n",
        "print(serie)"
      ],
      "metadata": {
        "id": "bBi_2j9i7_eB"
      },
      "execution_count": null,
      "outputs": []
    },
    {
      "cell_type": "markdown",
      "source": [
        "Se criarmos uma Series a partir de um dicionário, as chaves se tornam os índices automaticamente:"
      ],
      "metadata": {
        "id": "XMp4LZvD8nej"
      }
    },
    {
      "cell_type": "code",
      "source": [
        "dados = {'Betina': 6, 'Carlos': 25, 'Ana': 30}\n",
        "serie = pd.Series(dados)\n",
        "\n",
        "print(serie)"
      ],
      "metadata": {
        "id": "Kfyoa7di8qni"
      },
      "execution_count": null,
      "outputs": []
    },
    {
      "cell_type": "markdown",
      "source": [
        "Acessamos valores pelos índices:"
      ],
      "metadata": {
        "id": "QtXoqHmZ83D5"
      }
    },
    {
      "cell_type": "code",
      "source": [
        "dados = {'Betina': 6, 'Carlos': 25, 'Ana': 30}\n",
        "serie = pd.Series(dados)\n",
        "\n",
        "# acessando apenas um valor\n",
        "print('Valor do índice \"Betina\":', serie['Betina'])\n",
        "\n",
        "# acessando vários valores\n",
        "print(serie[['Carlos', 'Ana']])\n",
        "\n",
        "# e podemos usar filtros\n",
        "print(serie[serie > 10])"
      ],
      "metadata": {
        "id": "FsJNJfAC8_3a"
      },
      "execution_count": null,
      "outputs": []
    },
    {
      "cell_type": "markdown",
      "source": [
        "**Operações**"
      ],
      "metadata": {
        "id": "vcZnHzsH970v"
      }
    },
    {
      "cell_type": "code",
      "source": [
        "# dobrar os valores dentro da série\n",
        "serie_dobro = serie * 2\n",
        "print(serie_dobro)\n",
        "\n",
        "print(serie.mean())   # Média\n",
        "print(serie.sum())    # Soma\n",
        "print(serie.max())    # Maior valor\n",
        "print(serie.min())    # Menor valor"
      ],
      "metadata": {
        "id": "qD8pK_eu99pV"
      },
      "execution_count": null,
      "outputs": []
    },
    {
      "cell_type": "markdown",
      "source": [
        "Veremos mais operações vetorizadas a seguir com Dataframes!"
      ],
      "metadata": {
        "id": "9GXxhgY_2cXu"
      }
    },
    {
      "cell_type": "markdown",
      "source": [
        "## **Trabalhando com DataFrame**"
      ],
      "metadata": {
        "id": "CWKlCS96-XSN"
      }
    },
    {
      "cell_type": "markdown",
      "source": [
        "Podemos criar um DataFrame manualmente informando as colunas:"
      ],
      "metadata": {
        "id": "Lh1GW1VU_KqU"
      }
    },
    {
      "cell_type": "code",
      "source": [
        "dados = [['Betina', 6, 'Itatiba'], ['Carlos', 25, 'Rio de Janeiro'], ['Ana', 30, 'Belo Horizonte']]\n",
        "df = pd.DataFrame(dados, columns=['Nome', 'Idade', 'Cidade'])\n",
        "print(df)"
      ],
      "metadata": {
        "id": "ohS1K1ua_MCG"
      },
      "execution_count": null,
      "outputs": []
    },
    {
      "cell_type": "markdown",
      "source": [
        "Cada **chave do dicionário** se torna um nome de coluna, e os **valores** são as linhas da tabela."
      ],
      "metadata": {
        "id": "CMpdEEpO_TK1"
      }
    },
    {
      "cell_type": "code",
      "source": [
        "dados = {\n",
        "    'Nome': ['Betina', 'Carlos', 'Ana'],\n",
        "    'Idade': [6, 25, 30],\n",
        "    'Cidade': ['Itatiba', 'Rio de Janeiro', 'Belo Horizonte']\n",
        "}\n",
        "\n",
        "df = pd.DataFrame(dados)\n",
        "print(df)"
      ],
      "metadata": {
        "id": "FQEo5IhX_sUm"
      },
      "execution_count": null,
      "outputs": []
    },
    {
      "cell_type": "markdown",
      "source": [
        "Criando um DataFrame a partir de uma lista de listas:"
      ],
      "metadata": {
        "id": "pAjd__XA_3_d"
      }
    },
    {
      "cell_type": "code",
      "source": [
        "dados = [['Betina', 6, 'Itatiba'], ['Carlos', 25, 'Rio de Janeiro'], ['Ana', 30, 'Belo Horizonte']]\n",
        "df = pd.DataFrame(dados, columns=['Nome', 'Idade', 'Cidade'])\n",
        "print(df)"
      ],
      "metadata": {
        "id": "OIU9mgTG_6CD"
      },
      "execution_count": null,
      "outputs": []
    },
    {
      "cell_type": "markdown",
      "source": [
        "## **Acessando os dados em DataFrames**"
      ],
      "metadata": {
        "id": "qW5voQl3ATAu"
      }
    },
    {
      "cell_type": "markdown",
      "source": [
        "Selecionando uma coluna (que é uma Series):"
      ],
      "metadata": {
        "id": "di6DfWsYAavx"
      }
    },
    {
      "cell_type": "code",
      "source": [
        "print(df['Nome'])  # Retorna a coluna 'Nome' como uma Series"
      ],
      "metadata": {
        "id": "Ez8mT0PkAfPA"
      },
      "execution_count": null,
      "outputs": []
    },
    {
      "cell_type": "markdown",
      "source": [
        "Selecionando várias colunas:"
      ],
      "metadata": {
        "id": "9Bjjba-wFKHJ"
      }
    },
    {
      "cell_type": "code",
      "source": [
        "print(df[['Nome', 'Idade']])  # Retorna um DataFrame com as colunas escolhidas"
      ],
      "metadata": {
        "id": "f7mXwSjqFN2W"
      },
      "execution_count": null,
      "outputs": []
    },
    {
      "cell_type": "markdown",
      "source": [
        "Selecionando uma linha específica pelo índice:"
      ],
      "metadata": {
        "id": "GpHFF6VVFTdk"
      }
    },
    {
      "cell_type": "code",
      "source": [
        "print(df.loc[0])  # Acessa a primeira linha pelo índice\n",
        "print(df.loc[1])  # Acessa a segunda linha pelo número da posição"
      ],
      "metadata": {
        "id": "NWTW208GFY-D"
      },
      "execution_count": null,
      "outputs": []
    },
    {
      "cell_type": "markdown",
      "source": [
        "E filtros:"
      ],
      "metadata": {
        "id": "KZAtcl3WGDkd"
      }
    },
    {
      "cell_type": "code",
      "source": [
        "df_maiores = df[df['Idade'] > 18]  # Retorna apenas as linhas onde a idade é maior que 18\n",
        "print(df_maiores)"
      ],
      "metadata": {
        "id": "fIn-xMRCGG0e"
      },
      "execution_count": null,
      "outputs": []
    },
    {
      "cell_type": "markdown",
      "source": [
        "## **Modificando e adicionando dados**"
      ],
      "metadata": {
        "id": "ayTeCQjMGPKT"
      }
    },
    {
      "cell_type": "markdown",
      "source": [
        "Adicionando uma coluna nova:"
      ],
      "metadata": {
        "id": "bsFBpOyHGdtW"
      }
    },
    {
      "cell_type": "code",
      "source": [
        "df['Profissão'] = ['Estudante', 'Engenheiro', 'Médico']\n",
        "print(df)"
      ],
      "metadata": {
        "id": "6_rR4y3wIpjJ"
      },
      "execution_count": null,
      "outputs": []
    },
    {
      "cell_type": "markdown",
      "source": [
        "Modificar valores:"
      ],
      "metadata": {
        "id": "sRHdcQ4WIsR5"
      }
    },
    {
      "cell_type": "code",
      "source": [
        "df.loc[df['Nome'] == 'Carlos', 'Idade'] = 26  # Altera a idade de Carlos para 26\n",
        "print(df)"
      ],
      "metadata": {
        "id": "KIq-rg3YIvox"
      },
      "execution_count": null,
      "outputs": []
    },
    {
      "cell_type": "markdown",
      "source": [
        "Remover uma coluna:"
      ],
      "metadata": {
        "id": "xgc6rAgOI1qM"
      }
    },
    {
      "cell_type": "code",
      "source": [
        "df = df.drop(columns=['Profissão'])\n",
        "print(df)"
      ],
      "metadata": {
        "id": "AkYl2ECHI5Ve"
      },
      "execution_count": null,
      "outputs": []
    },
    {
      "cell_type": "markdown",
      "source": [
        "Remover uma linha:"
      ],
      "metadata": {
        "id": "lo-iXzZuI7y-"
      }
    },
    {
      "cell_type": "code",
      "source": [
        "df = df.drop(index=1) # ou apenas `df.drop(1)`\n",
        "print(df)"
      ],
      "metadata": {
        "id": "ABsxvk8iJOaS"
      },
      "execution_count": null,
      "outputs": []
    },
    {
      "cell_type": "markdown",
      "source": [
        "## **Iterando valores em Series e Dataframes**\n",
        "\n",
        "É possível utilizar laços para acessar os dados em Series ou Dataframes, mas sempre será **mais lento** que ações vetorizadas (como visto em NumPy)."
      ],
      "metadata": {
        "id": "4zqSBN7bzjVg"
      }
    },
    {
      "cell_type": "markdown",
      "source": [
        "**Percorrendo Series com `for`**"
      ],
      "metadata": {
        "id": "M-7vEMAEzoxF"
      }
    },
    {
      "cell_type": "code",
      "source": [
        "import pandas as pd\n",
        "\n",
        "s = pd.Series([10, 20, 30, 40])\n",
        "\n",
        "for valor in s:\n",
        "    print(valor)\n"
      ],
      "metadata": {
        "id": "1nrO5NLG0CCN",
        "outputId": "887e72c8-f9d1-43dc-dd97-20365a3ebe03",
        "colab": {
          "base_uri": "https://localhost:8080/"
        }
      },
      "execution_count": 4,
      "outputs": [
        {
          "output_type": "stream",
          "name": "stdout",
          "text": [
            "10\n",
            "20\n",
            "30\n",
            "40\n"
          ]
        }
      ]
    },
    {
      "cell_type": "markdown",
      "source": [
        "**Percorrendo DataFrame com `for`**\n",
        "\n",
        "O `for` por padrão, irá percorrer os **nomes das colunas** e não os valores."
      ],
      "metadata": {
        "id": "EF7RgM9y0GBV"
      }
    },
    {
      "cell_type": "code",
      "source": [
        "df = pd.DataFrame({\n",
        "    'Nome': ['Ana', 'Carlos', 'Beatriz'],\n",
        "    'Idade': [25, 30, 22]\n",
        "})\n",
        "\n",
        "for coluna in df:\n",
        "    print(coluna)\n"
      ],
      "metadata": {
        "id": "xU8lCpIs0Kyo",
        "outputId": "71396f11-2ac4-4858-a14e-530e5aac00fe",
        "colab": {
          "base_uri": "https://localhost:8080/"
        }
      },
      "execution_count": 5,
      "outputs": [
        {
          "output_type": "stream",
          "name": "stdout",
          "text": [
            "Nome\n",
            "Idade\n"
          ]
        }
      ]
    },
    {
      "cell_type": "markdown",
      "source": [
        "**Percorrendo Linhas com `iterrows()`**  \n",
        "\n",
        "Retorna cada linha como um par `(índice, Series)`, permitindo acessar os valores."
      ],
      "metadata": {
        "id": "VYJKRy5e0cZB"
      }
    },
    {
      "cell_type": "code",
      "source": [
        "for indice, linha in df.iterrows():\n",
        "    print(f\"Nome: {linha['Nome']}, Idade: {linha['Idade']}\")"
      ],
      "metadata": {
        "id": "qK6KLz750pOJ",
        "outputId": "2b0e577b-9bb1-4dda-dcc6-cd2a9755fc05",
        "colab": {
          "base_uri": "https://localhost:8080/"
        }
      },
      "execution_count": 6,
      "outputs": [
        {
          "output_type": "stream",
          "name": "stdout",
          "text": [
            "Nome: Ana, Idade: 25\n",
            "Nome: Carlos, Idade: 30\n",
            "Nome: Beatriz, Idade: 22\n"
          ]
        }
      ]
    },
    {
      "cell_type": "markdown",
      "source": [
        "**Percorrendo Linhas com `itertuples()` (Mais Eficiente!)**  \n",
        "\n",
        "Cria tuplas nomeadas, preservando tipos e sendo mais rápido que `iterrows()`:"
      ],
      "metadata": {
        "id": "8wJKlkG60wGN"
      }
    },
    {
      "cell_type": "code",
      "source": [
        "for linha in df.itertuples(index=False):\n",
        "    print(f\"Nome: {linha.Nome}, Idade: {linha.Idade}\")"
      ],
      "metadata": {
        "id": "tmL6ancZ0_hB",
        "outputId": "0a7c6f52-836e-4845-8626-1858a3e1e75b",
        "colab": {
          "base_uri": "https://localhost:8080/"
        }
      },
      "execution_count": 7,
      "outputs": [
        {
          "output_type": "stream",
          "name": "stdout",
          "text": [
            "Nome: Ana, Idade: 25\n",
            "Nome: Carlos, Idade: 30\n",
            "Nome: Beatriz, Idade: 22\n"
          ]
        }
      ]
    },
    {
      "cell_type": "markdown",
      "source": [
        "**Percorrendo Valores com `apply()`**\n",
        "\n",
        "É a melhor abordagem para percorrer colunas e aplicar funções, se comparado ao `for`."
      ],
      "metadata": {
        "id": "Htb3x78P1DMd"
      }
    },
    {
      "cell_type": "code",
      "source": [
        "df['Idade'].apply(lambda x: print(f\"Idade: {x}\"))"
      ],
      "metadata": {
        "id": "jFBDd01E1T7U"
      },
      "execution_count": null,
      "outputs": []
    },
    {
      "cell_type": "markdown",
      "source": [
        "## **Algumas operações vetorizadas**"
      ],
      "metadata": {
        "id": "-AFKwg5Y2kVV"
      }
    },
    {
      "cell_type": "markdown",
      "source": [
        "Uma das vantagens de usar Pandas (assim como NumPy) é o uso de oprações vetorizadas, que produzem um trabalho mais rápido que no uso de laços de repetições e em armazenamento de memória.\n"
      ],
      "metadata": {
        "id": "cyxGKM-i2qRB"
      }
    },
    {
      "cell_type": "markdown",
      "source": [
        "**Operações matemáticas diretas**\n",
        "\n",
        "As operações básicas são aplicadas diretamente sobre Series ou colunas de DataFrame (inclusive usando NumPy):"
      ],
      "metadata": {
        "id": "NlHOmDvW3loN"
      }
    },
    {
      "cell_type": "code",
      "source": [
        "import pandas as pd\n",
        "import numpy as np\n",
        "\n",
        "df = pd.DataFrame({\n",
        "    'A': [10, 20, 30],\n",
        "    'B': [5, 10, 15]\n",
        "})\n",
        "\n",
        "df['Soma'] = df['A'] + df['B']\n",
        "df['Produto'] = df['A'] * df['B']\n",
        "df['Raiz_A'] = np.sqrt(df['A'])\n"
      ],
      "metadata": {
        "id": "orB5m8G33r19"
      },
      "execution_count": null,
      "outputs": []
    },
    {
      "cell_type": "markdown",
      "source": [
        "**Operações estatísticas**"
      ],
      "metadata": {
        "id": "wMcxyOTO35TB"
      }
    },
    {
      "cell_type": "code",
      "source": [
        "print(df['A'].mean())   # Média\n",
        "print(df['A'].sum())    # Soma total\n",
        "print(df['A'].std())    # Desvio padrão\n",
        "print(df['A'].min())    # Mínimo\n",
        "print(df['A'].max())    # Máximo"
      ],
      "metadata": {
        "id": "oUCvZBiJ39PR"
      },
      "execution_count": null,
      "outputs": []
    },
    {
      "cell_type": "markdown",
      "source": [
        "**Filtros**"
      ],
      "metadata": {
        "id": "xHB8DkEH4A0N"
      }
    },
    {
      "cell_type": "code",
      "source": [
        "df_filtrado = df[df['A'] > 15]\n",
        "print(df_filtrado)"
      ],
      "metadata": {
        "id": "C_PZzn3J4DpJ"
      },
      "execution_count": null,
      "outputs": []
    },
    {
      "cell_type": "markdown",
      "source": [
        "**Aplicação de funções lambdas (`apply()`)**  \n",
        "\n",
        "A função `apply()` permite aplicar funções a colunas ou linhas:"
      ],
      "metadata": {
        "id": "9rz8RxDl4IaR"
      }
    },
    {
      "cell_type": "code",
      "source": [
        "df['Dobro_A'] = df['A'].apply(lambda x: x * 2)"
      ],
      "metadata": {
        "id": "L2fdEyy64U3T"
      },
      "execution_count": null,
      "outputs": []
    },
    {
      "cell_type": "markdown",
      "source": [
        "Caso precise trabalhar linha por linha, pode-se usa o parâmetro `axis`:"
      ],
      "metadata": {
        "id": "U8wXSKrN4WKd"
      }
    },
    {
      "cell_type": "code",
      "source": [
        "df['Soma_Linhas'] = df.apply(lambda row: row['A'] + row['B'], axis=1)"
      ],
      "metadata": {
        "id": "DE2a_SOS4gOR"
      },
      "execution_count": null,
      "outputs": []
    },
    {
      "cell_type": "markdown",
      "source": [
        "**Transformação e substituição de valores**"
      ],
      "metadata": {
        "id": "9I4M85r24n_C"
      }
    },
    {
      "cell_type": "code",
      "source": [
        "df['B'] = df['B'].replace({5: 50, 10: 100})  # Substitui valores específicos\n",
        "df['A'] = df['A'].map(lambda x: x * 2)  # Multiplica por 2 cada valor de 'A'"
      ],
      "metadata": {
        "id": "iiFnWnvT4twB"
      },
      "execution_count": null,
      "outputs": []
    },
    {
      "cell_type": "markdown",
      "source": [
        "**Manipulação de strings**  \n",
        "\n",
        "Colunas com textos também suportam trabalos com vetorização"
      ],
      "metadata": {
        "id": "HI8ldwe34y9Z"
      }
    },
    {
      "cell_type": "code",
      "source": [
        "df_nomes = pd.DataFrame({'Nome': ['ana', 'CARLOS', 'Beatriz']})\n",
        "df_nomes['Nome'] = df_nomes['Nome'].str.capitalize()  # Capitaliza os nomes"
      ],
      "metadata": {
        "id": "LA4KgAX-42iJ"
      },
      "execution_count": null,
      "outputs": []
    }
  ]
}