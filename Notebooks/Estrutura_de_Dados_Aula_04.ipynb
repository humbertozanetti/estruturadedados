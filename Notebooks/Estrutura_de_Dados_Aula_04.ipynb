{
  "nbformat": 4,
  "nbformat_minor": 0,
  "metadata": {
    "colab": {
      "provenance": [],
      "authorship_tag": "ABX9TyPfIymm1XlywgFYOydRsr/a",
      "include_colab_link": true
    },
    "kernelspec": {
      "name": "python3",
      "display_name": "Python 3"
    },
    "language_info": {
      "name": "python"
    }
  },
  "cells": [
    {
      "cell_type": "markdown",
      "metadata": {
        "id": "view-in-github",
        "colab_type": "text"
      },
      "source": [
        "<a href=\"https://colab.research.google.com/github/humbertozanetti/estruturadedados/blob/main/Notebooks/Estrutura_de_Dados_Aula_04.ipynb\" target=\"_parent\"><img src=\"https://colab.research.google.com/assets/colab-badge.svg\" alt=\"Open In Colab\"/></a>"
      ]
    },
    {
      "cell_type": "markdown",
      "source": [
        "# **ESTRUTURA DE DADOS - AULA 04**\n",
        "# **Prof. Dr. Humberto A. P. Zanetti**\n",
        "# Fatec Deputado Ary Fossen - Jundiaí\n",
        "\n",
        "\n",
        "---\n",
        "\n",
        "**Conteúdo da aula:**\n",
        "+ Pandas\n",
        "  - Series\n",
        "  - Dataframe\n",
        "\n"
      ],
      "metadata": {
        "id": "OyROfwvltbhh"
      }
    },
    {
      "cell_type": "markdown",
      "source": [
        "## **O que é Pandas?**\n",
        "O Pandas é uma biblioteca de código aberto para manipulação e análise de dados em Python. Ele fornece estruturas de dados flexíveis e eficientes, especialmente projetadas para lidar com grandes volumes de dados de forma organizada.\n",
        "Pandas tem uma extensa [documentação](https://pandas.pydata.org/docs/) e muita referência.\n",
        "\n",
        "**Principais Características:**   \n",
        "+ Fácil manipulação de tabelas e planilhas (semelhante ao Excel).\n",
        "+ Suporte para importação e exportação de arquivos CSV, Excel, JSON e SQL.\n",
        "+ Ferramentas poderosas para filtragem, agregação, ordenação e limpeza de dados.\n",
        "+ Compatível com outras bibliotecas populares, como NumPy e Matplotlib."
      ],
      "metadata": {
        "id": "7oPVyLb-tu6D"
      }
    },
    {
      "cell_type": "markdown",
      "source": [
        "## **O que é um Series?**\n",
        "\n",
        "Um *Series* é uma estrutura de dados unidimensional da biblioteca Pandas, semelhante a um vetor ou uma lista em Python, mas com funcionalidades adicionais.\n",
        "É composta por:\n",
        "+ **Valores**: os dados propriamente ditos.\n",
        "+ **Índices**: os rótulos associados a cada valor, similar às chaves de um dicionário.\n",
        "\n",
        "**Quando Usar uma Series?**\n",
        "+ Quando precisamos armazenar e manipular uma única sequência de valores.\n",
        "+ Quando queremos realizar cálculos estatísticos rápidos.\n",
        "+ Quando precisamos de um **dicionário avançado**, já que a Series combina chaves e valores."
      ],
      "metadata": {
        "id": "BBSVmDxjubUe"
      }
    },
    {
      "cell_type": "markdown",
      "source": [
        "## **O que é um DataFrame?**\n",
        "Um DataFrame é uma estrutura de dados bidimensional da biblioteca Pandas, semelhante a uma tabela do Excel, um banco de dados ou uma planilha. Ele organiza os dados em linhas e colunas, permitindo a manipulação e análise de forma eficiente.  \n",
        "Características principais de um DataFrame:  \n",
        "+ **É bidimensional**: contém linhas e colunas organizadas.\n",
        "+ **Cada coluna pode ter um tipo de dado diferente** (exemplo: números, textos, datas).\n",
        "+ **Indexação flexível**: pode ter rótulos personalizados para linhas e colunas.\n",
        "+ **Métodos poderosos para manipulação de dados**: filtragem, agregação, ordenação, estatísticas descritivas e muito mais.\n",
        "\n",
        "**Series x Dataframes**\n",
        "\n",
        "| Característica\t| Series |\tDataFrame |\n",
        "| :----:  | :----:  | :----:  |\n",
        "| Estrutura |\tUnidimensional |\tBidimensional |\n",
        "| Semelhante a |\tVetor/Lista\t| Tabela |\n",
        "| Índices |\tSim\t| Sim |\n",
        "| Colunas\t| 1\t| Múltiplas |\n",
        "\n",
        "**Se o DataFrame é uma tabela, a Series é uma única coluna dessa tabela!**"
      ],
      "metadata": {
        "id": "8raCsfqqt8gI"
      }
    },
    {
      "cell_type": "markdown",
      "source": [
        "## **Utilizando Series e Dataframe**"
      ],
      "metadata": {
        "id": "XD2_S6yMtpSh"
      }
    },
    {
      "cell_type": "markdown",
      "source": [
        "**Criando uma Series**"
      ],
      "metadata": {
        "id": "irisprrDzLeg"
      }
    },
    {
      "cell_type": "code",
      "execution_count": 1,
      "metadata": {
        "id": "KyQQRx4htZcA",
        "outputId": "7aeae74e-f879-4631-81e6-a3a1080cce5f",
        "colab": {
          "base_uri": "https://localhost:8080/"
        }
      },
      "outputs": [
        {
          "output_type": "stream",
          "name": "stdout",
          "text": [
            "0    10\n",
            "1    20\n",
            "2    30\n",
            "3    40\n",
            "dtype: int64\n"
          ]
        }
      ],
      "source": [
        "import pandas as pd\n",
        "\n",
        "dados = [10, 20, 30, 40]\n",
        "serie = pd.Series(dados)\n",
        "\n",
        "print(serie)"
      ]
    },
    {
      "cell_type": "markdown",
      "source": [
        "**Observações**:\n",
        "+ Notem que assim como em NumPy, nossa \"base\" acaba sendo uma lista para a transformação.\n",
        "+ É associado uma metadado dado chamado `dtype` com o valor `int64`, indicando que os valores são do tipo inteiro de 64 bits.\n",
        "\n",
        "| Tipo Pandas   | Descrição                          | Tipo NumPy equivalente |\n",
        "| :-----------: | :--------------------------------: | :--------------------: |\n",
        "| `int64`     | Números inteiros                | `np.int64`       |\n",
        "| `float64`   | Números de ponto flutuante      | `np.float64`     |\n",
        "| `bool`      | Valores booleanos (`True`/`False`) | `np.bool_`   |\n",
        "| `object`    | Texto ou valores mistos         | `np.object_`     |\n",
        "| `category`  | Categorias otimizadas para memória | `np.object_` |\n",
        "| `datetime64` | Datas e horários       | `np.timedelta64` |\n"
      ],
      "metadata": {
        "id": "4DpveyJMx1eZ"
      }
    },
    {
      "cell_type": "markdown",
      "source": [
        "O Pandas definie automaticamente o tipo pelo contexto."
      ],
      "metadata": {
        "id": "IKVynkfJ2ERO"
      }
    },
    {
      "cell_type": "code",
      "source": [
        "import pandas as pd\n",
        "\n",
        "s1 = pd.Series([1, 2, 3, 4])  # Inferido como int64\n",
        "s2 = pd.Series([1.5, 2.7, 3.9])  # Inferido como float64\n",
        "s3 = pd.Series(['a', 'b', 'c'])  # Inferido como object (texto)\n",
        "s4 = pd.Series([True, False, True])  # Inferido como bool\n",
        "\n",
        "print(s1.dtype)\n",
        "print(s2.dtype)\n",
        "print(s3.dtype)\n",
        "print(s4.dtype)\n"
      ],
      "metadata": {
        "id": "7Z7h3YA118qO",
        "outputId": "adbe6028-29a9-47b8-d9d2-e01c9914ae62",
        "colab": {
          "base_uri": "https://localhost:8080/"
        }
      },
      "execution_count": 2,
      "outputs": [
        {
          "output_type": "stream",
          "name": "stdout",
          "text": [
            "int64\n",
            "float64\n",
            "object\n",
            "bool\n"
          ]
        }
      ]
    },
    {
      "cell_type": "markdown",
      "source": [
        "Mas também podemos redefinir, caso necessário:\n"
      ],
      "metadata": {
        "id": "fXwMh4Bv16cc"
      }
    },
    {
      "cell_type": "code",
      "source": [
        "s = pd.Series([1, 2, 3], dtype='int32')\n",
        "print(s.dtype)"
      ],
      "metadata": {
        "id": "4_JXUxeK2NSB"
      },
      "execution_count": null,
      "outputs": []
    },
    {
      "cell_type": "markdown",
      "source": [
        "Se o `dtype` estiver incorreto ou precisar de otimização, podemos convertê-lo usando `.astype()`:"
      ],
      "metadata": {
        "id": "C0_itLM121Ip"
      }
    },
    {
      "cell_type": "code",
      "source": [
        "s = pd.Series([1, 2, 3])\n",
        "s = s.astype('float32')\n",
        "print(s.dtype)"
      ],
      "metadata": {
        "id": "eQKNlfp324QT"
      },
      "execution_count": null,
      "outputs": []
    },
    {
      "cell_type": "markdown",
      "source": [
        "**Trabalhando com tipos especiais (`datetime`, `category`)**  \n",
        "\n",
        "**Datas**"
      ],
      "metadata": {
        "id": "ECxNBHc96zM1"
      }
    },
    {
      "cell_type": "code",
      "source": [
        "s = pd.Series(['2024-03-01', '2024-03-02'])\n",
        "s = pd.to_datetime(s)\n",
        "print(s.dtype)"
      ],
      "metadata": {
        "id": "Gbc6qmJx6772",
        "outputId": "255e50eb-3df9-4c0d-f220-8b92a517fc34",
        "colab": {
          "base_uri": "https://localhost:8080/"
        }
      },
      "execution_count": 3,
      "outputs": [
        {
          "output_type": "stream",
          "name": "stdout",
          "text": [
            "datetime64[ns]\n"
          ]
        }
      ]
    },
    {
      "cell_type": "markdown",
      "source": [
        "**Category** (economiza memória e acelera operações em dados repetitivos)"
      ],
      "metadata": {
        "id": "9FuHEo4d68RN"
      }
    },
    {
      "cell_type": "code",
      "source": [
        "s = pd.Series(['alto', 'médio', 'baixo', 'alto', 'médio'], dtype='category')\n",
        "print(s.dtype)"
      ],
      "metadata": {
        "id": "C98VDqJJ3CJt",
        "outputId": "6f1cf7ff-8a4e-4b07-830b-331a055234aa",
        "colab": {
          "base_uri": "https://localhost:8080/"
        }
      },
      "execution_count": 4,
      "outputs": [
        {
          "output_type": "stream",
          "name": "stdout",
          "text": [
            "category\n"
          ]
        }
      ]
    },
    {
      "cell_type": "markdown",
      "source": [
        "## **Índices e Acessos em Series**"
      ],
      "metadata": {
        "id": "FPj2SJBZ3B2s"
      }
    },
    {
      "cell_type": "markdown",
      "source": [
        "Como vimos, os índices são gerados automaticamente, mas podemos definir índices personalizados para os elementos:"
      ],
      "metadata": {
        "id": "uU_cpLxU7-Rn"
      }
    },
    {
      "cell_type": "code",
      "source": [
        "serie = pd.Series([10, 20, 30, 40], index=['a', 'b', 'c', 'd'])\n",
        "print(serie)"
      ],
      "metadata": {
        "id": "bBi_2j9i7_eB",
        "outputId": "57cf3759-4c61-4462-aa7b-ac1fc74e8784",
        "colab": {
          "base_uri": "https://localhost:8080/"
        }
      },
      "execution_count": 5,
      "outputs": [
        {
          "output_type": "stream",
          "name": "stdout",
          "text": [
            "a    10\n",
            "b    20\n",
            "c    30\n",
            "d    40\n",
            "dtype: int64\n"
          ]
        }
      ]
    },
    {
      "cell_type": "markdown",
      "source": [
        "Se criarmos uma Series a partir de um dicionário, as chaves se tornam os índices automaticamente:"
      ],
      "metadata": {
        "id": "XMp4LZvD8nej"
      }
    },
    {
      "cell_type": "code",
      "source": [
        "dados = {'Betina': 6, 'Carlos': 25, 'Ana': 30}\n",
        "serie = pd.Series(dados)\n",
        "\n",
        "print(serie)"
      ],
      "metadata": {
        "id": "Kfyoa7di8qni",
        "outputId": "48676a14-5526-48fa-e5e5-6b8d954452f7",
        "colab": {
          "base_uri": "https://localhost:8080/"
        }
      },
      "execution_count": 6,
      "outputs": [
        {
          "output_type": "stream",
          "name": "stdout",
          "text": [
            "Betina     6\n",
            "Carlos    25\n",
            "Ana       30\n",
            "dtype: int64\n"
          ]
        }
      ]
    },
    {
      "cell_type": "markdown",
      "source": [
        "Acessamos valores pelos índices:"
      ],
      "metadata": {
        "id": "QtXoqHmZ83D5"
      }
    },
    {
      "cell_type": "code",
      "source": [
        "dados = {'Betina': 6, 'Carlos': 25, 'Ana': 30}\n",
        "serie = pd.Series(dados)\n",
        "\n",
        "# acessando apenas um valor\n",
        "print('Valor do índice \"Betina\":', serie['Betina'])\n",
        "\n",
        "# acessando vários valores\n",
        "print(serie[['Carlos', 'Ana']])\n",
        "\n",
        "# e podemos usar filtros\n",
        "print(serie[serie > 10])"
      ],
      "metadata": {
        "id": "FsJNJfAC8_3a",
        "outputId": "dc3ca2be-8f86-4074-ff3b-8460fa79ed8f",
        "colab": {
          "base_uri": "https://localhost:8080/"
        }
      },
      "execution_count": 7,
      "outputs": [
        {
          "output_type": "stream",
          "name": "stdout",
          "text": [
            "Valor do índice \"Betina\": 6\n",
            "Carlos    25\n",
            "Ana       30\n",
            "dtype: int64\n",
            "Carlos    25\n",
            "Ana       30\n",
            "dtype: int64\n"
          ]
        }
      ]
    },
    {
      "cell_type": "markdown",
      "source": [
        "**Operações**"
      ],
      "metadata": {
        "id": "vcZnHzsH970v"
      }
    },
    {
      "cell_type": "code",
      "source": [
        "# dobrar os valores dentro da série\n",
        "serie_dobro = serie * 2\n",
        "print(serie_dobro)\n",
        "\n",
        "print(serie.mean())   # Média\n",
        "print(serie.sum())    # Soma\n",
        "print(serie.max())    # Maior valor\n",
        "print(serie.min())    # Menor valor"
      ],
      "metadata": {
        "id": "qD8pK_eu99pV",
        "outputId": "531be384-d199-453e-fcb7-15f66cabbd81",
        "colab": {
          "base_uri": "https://localhost:8080/"
        }
      },
      "execution_count": 8,
      "outputs": [
        {
          "output_type": "stream",
          "name": "stdout",
          "text": [
            "Betina    12\n",
            "Carlos    50\n",
            "Ana       60\n",
            "dtype: int64\n",
            "20.333333333333332\n",
            "61\n",
            "30\n",
            "6\n"
          ]
        }
      ]
    },
    {
      "cell_type": "markdown",
      "source": [
        "Veremos mais operações vetorizadas a seguir com Dataframes!"
      ],
      "metadata": {
        "id": "9GXxhgY_2cXu"
      }
    },
    {
      "cell_type": "markdown",
      "source": [
        "## **Trabalhando com DataFrame**"
      ],
      "metadata": {
        "id": "CWKlCS96-XSN"
      }
    },
    {
      "cell_type": "markdown",
      "source": [
        "Podemos criar um DataFrame manualmente informando as colunas:"
      ],
      "metadata": {
        "id": "Lh1GW1VU_KqU"
      }
    },
    {
      "cell_type": "code",
      "source": [
        "dados = [['Betina', 6, 'Itatiba'], ['Carlos', 25, 'Rio de Janeiro'], ['Ana', 30, 'Belo Horizonte']]\n",
        "df = pd.DataFrame(dados, columns=['Nome', 'Idade', 'Cidade'])\n",
        "print(df)"
      ],
      "metadata": {
        "id": "ohS1K1ua_MCG",
        "outputId": "d5c4da12-654f-4a4b-d906-c537fce429bc",
        "colab": {
          "base_uri": "https://localhost:8080/"
        }
      },
      "execution_count": 9,
      "outputs": [
        {
          "output_type": "stream",
          "name": "stdout",
          "text": [
            "     Nome  Idade          Cidade\n",
            "0  Betina      6         Itatiba\n",
            "1  Carlos     25  Rio de Janeiro\n",
            "2     Ana     30  Belo Horizonte\n"
          ]
        }
      ]
    },
    {
      "cell_type": "markdown",
      "source": [
        "Cada **chave do dicionário** se torna um nome de coluna, e os **valores** são as linhas da tabela."
      ],
      "metadata": {
        "id": "CMpdEEpO_TK1"
      }
    },
    {
      "cell_type": "code",
      "source": [
        "dados = {\n",
        "    'Nome': ['Betina', 'Carlos', 'Ana'],\n",
        "    'Idade': [6, 25, 30],\n",
        "    'Cidade': ['Itatiba', 'Rio de Janeiro', 'Belo Horizonte']\n",
        "}\n",
        "\n",
        "df = pd.DataFrame(dados)\n",
        "print(df)"
      ],
      "metadata": {
        "id": "FQEo5IhX_sUm",
        "outputId": "6f25051f-6bee-47c0-8ef6-f8a2e5075ebc",
        "colab": {
          "base_uri": "https://localhost:8080/"
        }
      },
      "execution_count": 10,
      "outputs": [
        {
          "output_type": "stream",
          "name": "stdout",
          "text": [
            "     Nome  Idade          Cidade\n",
            "0  Betina      6         Itatiba\n",
            "1  Carlos     25  Rio de Janeiro\n",
            "2     Ana     30  Belo Horizonte\n"
          ]
        }
      ]
    },
    {
      "cell_type": "markdown",
      "source": [
        "Criando um DataFrame a partir de uma lista de listas:"
      ],
      "metadata": {
        "id": "pAjd__XA_3_d"
      }
    },
    {
      "cell_type": "code",
      "source": [
        "dados = [['Betina', 6, 'Itatiba'], ['Carlos', 25, 'Rio de Janeiro'], ['Ana', 30, 'Belo Horizonte']]\n",
        "df = pd.DataFrame(dados, columns=['Nome', 'Idade', 'Cidade'])\n",
        "print(df)"
      ],
      "metadata": {
        "id": "OIU9mgTG_6CD",
        "outputId": "1c486124-3e85-4b93-9b5c-45f9d11a775b",
        "colab": {
          "base_uri": "https://localhost:8080/"
        }
      },
      "execution_count": 11,
      "outputs": [
        {
          "output_type": "stream",
          "name": "stdout",
          "text": [
            "     Nome  Idade          Cidade\n",
            "0  Betina      6         Itatiba\n",
            "1  Carlos     25  Rio de Janeiro\n",
            "2     Ana     30  Belo Horizonte\n"
          ]
        }
      ]
    },
    {
      "cell_type": "markdown",
      "source": [
        "## **Acessando os dados em DataFrames**"
      ],
      "metadata": {
        "id": "qW5voQl3ATAu"
      }
    },
    {
      "cell_type": "markdown",
      "source": [
        "Selecionando uma coluna (que é uma Series):"
      ],
      "metadata": {
        "id": "di6DfWsYAavx"
      }
    },
    {
      "cell_type": "code",
      "source": [
        "print(df['Nome'])  # Retorna a coluna 'Nome' como uma Series"
      ],
      "metadata": {
        "id": "Ez8mT0PkAfPA",
        "outputId": "1f591e59-6c5f-4a8e-ff5e-34e43f85fcdc",
        "colab": {
          "base_uri": "https://localhost:8080/"
        }
      },
      "execution_count": 12,
      "outputs": [
        {
          "output_type": "stream",
          "name": "stdout",
          "text": [
            "0    Betina\n",
            "1    Carlos\n",
            "2       Ana\n",
            "Name: Nome, dtype: object\n"
          ]
        }
      ]
    },
    {
      "cell_type": "markdown",
      "source": [
        "Selecionando várias colunas:"
      ],
      "metadata": {
        "id": "9Bjjba-wFKHJ"
      }
    },
    {
      "cell_type": "code",
      "source": [
        "print(df[['Nome', 'Idade']])  # Retorna um DataFrame com as colunas escolhidas"
      ],
      "metadata": {
        "id": "f7mXwSjqFN2W",
        "outputId": "c50368e8-3350-4056-fe9e-82351153739b",
        "colab": {
          "base_uri": "https://localhost:8080/"
        }
      },
      "execution_count": 13,
      "outputs": [
        {
          "output_type": "stream",
          "name": "stdout",
          "text": [
            "     Nome  Idade\n",
            "0  Betina      6\n",
            "1  Carlos     25\n",
            "2     Ana     30\n"
          ]
        }
      ]
    },
    {
      "cell_type": "markdown",
      "source": [
        "Selecionando uma linha específica pelo índice:"
      ],
      "metadata": {
        "id": "GpHFF6VVFTdk"
      }
    },
    {
      "cell_type": "code",
      "source": [
        "print(df.loc[0])  # Acessa a primeira linha pelo índice\n",
        "print(df.loc[1])  # Acessa a segunda linha pelo número da posição"
      ],
      "metadata": {
        "id": "NWTW208GFY-D",
        "outputId": "0f2da083-3f15-4faa-ce35-4b7363af6ccc",
        "colab": {
          "base_uri": "https://localhost:8080/"
        }
      },
      "execution_count": 14,
      "outputs": [
        {
          "output_type": "stream",
          "name": "stdout",
          "text": [
            "Nome       Betina\n",
            "Idade           6\n",
            "Cidade    Itatiba\n",
            "Name: 0, dtype: object\n",
            "Nome              Carlos\n",
            "Idade                 25\n",
            "Cidade    Rio de Janeiro\n",
            "Name: 1, dtype: object\n"
          ]
        }
      ]
    },
    {
      "cell_type": "markdown",
      "source": [
        "E filtros:"
      ],
      "metadata": {
        "id": "KZAtcl3WGDkd"
      }
    },
    {
      "cell_type": "code",
      "source": [
        "df_maiores = df[df['Idade'] > 18]  # Retorna apenas as linhas onde a idade é maior que 18\n",
        "print(df_maiores)"
      ],
      "metadata": {
        "id": "fIn-xMRCGG0e",
        "outputId": "fe63cc0e-a18e-421e-a6f8-b4264674867d",
        "colab": {
          "base_uri": "https://localhost:8080/"
        }
      },
      "execution_count": 15,
      "outputs": [
        {
          "output_type": "stream",
          "name": "stdout",
          "text": [
            "     Nome  Idade          Cidade\n",
            "1  Carlos     25  Rio de Janeiro\n",
            "2     Ana     30  Belo Horizonte\n"
          ]
        }
      ]
    },
    {
      "cell_type": "markdown",
      "source": [
        "## **Modificando e adicionando dados**"
      ],
      "metadata": {
        "id": "ayTeCQjMGPKT"
      }
    },
    {
      "cell_type": "markdown",
      "source": [
        "Adicionando uma coluna nova:"
      ],
      "metadata": {
        "id": "bsFBpOyHGdtW"
      }
    },
    {
      "cell_type": "code",
      "source": [
        "df['Profissão'] = ['Estudante', 'Engenheiro', 'Médico']\n",
        "print(df)"
      ],
      "metadata": {
        "id": "6_rR4y3wIpjJ",
        "outputId": "a865a8b8-bd07-4886-bb47-e5cde9308580",
        "colab": {
          "base_uri": "https://localhost:8080/"
        }
      },
      "execution_count": 18,
      "outputs": [
        {
          "output_type": "stream",
          "name": "stdout",
          "text": [
            "     Nome  Idade          Cidade   Profissão\n",
            "0  Betina      6         Itatiba   Estudante\n",
            "1  Carlos     25  Rio de Janeiro  Engenheiro\n",
            "2     Ana     30  Belo Horizonte      Médico\n"
          ]
        }
      ]
    },
    {
      "cell_type": "markdown",
      "source": [
        "Modificar valores:"
      ],
      "metadata": {
        "id": "sRHdcQ4WIsR5"
      }
    },
    {
      "cell_type": "code",
      "source": [
        "df.loc[df['Nome'] == 'Carlos', 'Idade'] = 26  # Altera a idade de Carlos para 26\n",
        "print(df)"
      ],
      "metadata": {
        "id": "KIq-rg3YIvox",
        "outputId": "cb5a8689-7541-4dda-ffa9-9ff4b97cd8a9",
        "colab": {
          "base_uri": "https://localhost:8080/"
        }
      },
      "execution_count": 19,
      "outputs": [
        {
          "output_type": "stream",
          "name": "stdout",
          "text": [
            "     Nome  Idade          Cidade   Profissão\n",
            "0  Betina      6         Itatiba   Estudante\n",
            "1  Carlos     26  Rio de Janeiro  Engenheiro\n",
            "2     Ana     30  Belo Horizonte      Médico\n"
          ]
        }
      ]
    },
    {
      "cell_type": "markdown",
      "source": [
        "Remover uma coluna:"
      ],
      "metadata": {
        "id": "xgc6rAgOI1qM"
      }
    },
    {
      "cell_type": "code",
      "source": [
        "df = df.drop(columns=['Profissão'])\n",
        "print(df)"
      ],
      "metadata": {
        "id": "AkYl2ECHI5Ve",
        "outputId": "2f969d56-2bc4-454f-c65a-f9316f11b1e0",
        "colab": {
          "base_uri": "https://localhost:8080/"
        }
      },
      "execution_count": 20,
      "outputs": [
        {
          "output_type": "stream",
          "name": "stdout",
          "text": [
            "     Nome  Idade          Cidade\n",
            "0  Betina      6         Itatiba\n",
            "1  Carlos     26  Rio de Janeiro\n",
            "2     Ana     30  Belo Horizonte\n"
          ]
        }
      ]
    },
    {
      "cell_type": "markdown",
      "source": [
        "Remover uma linha:"
      ],
      "metadata": {
        "id": "lo-iXzZuI7y-"
      }
    },
    {
      "cell_type": "code",
      "source": [
        "df = df.drop(index=1) # ou apenas `df.drop(1)`\n",
        "print(df)"
      ],
      "metadata": {
        "id": "ABsxvk8iJOaS"
      },
      "execution_count": null,
      "outputs": []
    },
    {
      "cell_type": "markdown",
      "source": [
        "## **Iterando valores em Series e Dataframes**\n",
        "\n",
        "É possível utilizar laços para acessar os dados em Series ou Dataframes, mas sempre será **mais lento** que ações vetorizadas (como visto em NumPy)."
      ],
      "metadata": {
        "id": "4zqSBN7bzjVg"
      }
    },
    {
      "cell_type": "markdown",
      "source": [
        "**Percorrendo Series com `for`**"
      ],
      "metadata": {
        "id": "M-7vEMAEzoxF"
      }
    },
    {
      "cell_type": "code",
      "source": [
        "import pandas as pd\n",
        "\n",
        "s = pd.Series([10, 20, 30, 40])\n",
        "\n",
        "for valor in s:\n",
        "    print(valor)\n"
      ],
      "metadata": {
        "id": "1nrO5NLG0CCN",
        "outputId": "b4130bda-6569-467d-96ad-39eac57786ac",
        "colab": {
          "base_uri": "https://localhost:8080/"
        }
      },
      "execution_count": 21,
      "outputs": [
        {
          "output_type": "stream",
          "name": "stdout",
          "text": [
            "10\n",
            "20\n",
            "30\n",
            "40\n"
          ]
        }
      ]
    },
    {
      "cell_type": "markdown",
      "source": [
        "**Percorrendo DataFrame com `for`**\n",
        "\n",
        "O `for` por padrão, irá percorrer os **nomes das colunas** e não os valores."
      ],
      "metadata": {
        "id": "EF7RgM9y0GBV"
      }
    },
    {
      "cell_type": "code",
      "source": [
        "df = pd.DataFrame({\n",
        "    'Nome': ['Ana', 'Carlos', 'Beatriz'],\n",
        "    'Idade': [25, 30, 22]\n",
        "})\n",
        "\n",
        "for coluna in df:\n",
        "    print(coluna)\n"
      ],
      "metadata": {
        "id": "xU8lCpIs0Kyo",
        "outputId": "e7ea1d13-a4a9-4d1c-aefe-5bf38126a21b",
        "colab": {
          "base_uri": "https://localhost:8080/"
        }
      },
      "execution_count": 22,
      "outputs": [
        {
          "output_type": "stream",
          "name": "stdout",
          "text": [
            "Nome\n",
            "Idade\n"
          ]
        }
      ]
    },
    {
      "cell_type": "markdown",
      "source": [
        "**Percorrendo Linhas com `iterrows()`**  \n",
        "\n",
        "Retorna cada linha como um par `(índice, Series)`, permitindo acessar os valores."
      ],
      "metadata": {
        "id": "VYJKRy5e0cZB"
      }
    },
    {
      "cell_type": "code",
      "source": [
        "for indice, linha in df.iterrows():\n",
        "    print(f\"Nome: {linha['Nome']}, Idade: {linha['Idade']}\")"
      ],
      "metadata": {
        "id": "qK6KLz750pOJ",
        "outputId": "1ecba7f5-7cf6-4ca1-8af6-f79f85fc6bde",
        "colab": {
          "base_uri": "https://localhost:8080/"
        }
      },
      "execution_count": 23,
      "outputs": [
        {
          "output_type": "stream",
          "name": "stdout",
          "text": [
            "Nome: Ana, Idade: 25\n",
            "Nome: Carlos, Idade: 30\n",
            "Nome: Beatriz, Idade: 22\n"
          ]
        }
      ]
    },
    {
      "cell_type": "markdown",
      "source": [
        "**Percorrendo Linhas com `itertuples()` (Mais Eficiente!)**  \n",
        "\n",
        "Cria tuplas nomeadas, preservando tipos e sendo mais rápido que `iterrows()`:"
      ],
      "metadata": {
        "id": "8wJKlkG60wGN"
      }
    },
    {
      "cell_type": "code",
      "source": [
        "for linha in df.itertuples(index=False):\n",
        "    print(f\"Nome: {linha.Nome}, Idade: {linha.Idade}\")"
      ],
      "metadata": {
        "id": "tmL6ancZ0_hB",
        "outputId": "b0aec10a-6a08-4237-ce93-7f40b85c86ee",
        "colab": {
          "base_uri": "https://localhost:8080/"
        }
      },
      "execution_count": 24,
      "outputs": [
        {
          "output_type": "stream",
          "name": "stdout",
          "text": [
            "Nome: Ana, Idade: 25\n",
            "Nome: Carlos, Idade: 30\n",
            "Nome: Beatriz, Idade: 22\n"
          ]
        }
      ]
    },
    {
      "cell_type": "markdown",
      "source": [
        "**Percorrendo Valores com `apply()`**\n",
        "\n",
        "É a melhor abordagem para percorrer colunas e aplicar funções, se comparado ao `for`."
      ],
      "metadata": {
        "id": "Htb3x78P1DMd"
      }
    },
    {
      "cell_type": "code",
      "source": [
        "df['Idade'].apply(lambda x: print(f\"Idade: {x}\"))"
      ],
      "metadata": {
        "id": "jFBDd01E1T7U",
        "outputId": "c30dc057-ea27-4eda-c9c9-ad093cc22998",
        "colab": {
          "base_uri": "https://localhost:8080/",
          "height": 230
        }
      },
      "execution_count": 25,
      "outputs": [
        {
          "output_type": "stream",
          "name": "stdout",
          "text": [
            "Idade: 25\n",
            "Idade: 30\n",
            "Idade: 22\n"
          ]
        },
        {
          "output_type": "execute_result",
          "data": {
            "text/plain": [
              "0    None\n",
              "1    None\n",
              "2    None\n",
              "Name: Idade, dtype: object"
            ],
            "text/html": [
              "<div>\n",
              "<style scoped>\n",
              "    .dataframe tbody tr th:only-of-type {\n",
              "        vertical-align: middle;\n",
              "    }\n",
              "\n",
              "    .dataframe tbody tr th {\n",
              "        vertical-align: top;\n",
              "    }\n",
              "\n",
              "    .dataframe thead th {\n",
              "        text-align: right;\n",
              "    }\n",
              "</style>\n",
              "<table border=\"1\" class=\"dataframe\">\n",
              "  <thead>\n",
              "    <tr style=\"text-align: right;\">\n",
              "      <th></th>\n",
              "      <th>Idade</th>\n",
              "    </tr>\n",
              "  </thead>\n",
              "  <tbody>\n",
              "    <tr>\n",
              "      <th>0</th>\n",
              "      <td>None</td>\n",
              "    </tr>\n",
              "    <tr>\n",
              "      <th>1</th>\n",
              "      <td>None</td>\n",
              "    </tr>\n",
              "    <tr>\n",
              "      <th>2</th>\n",
              "      <td>None</td>\n",
              "    </tr>\n",
              "  </tbody>\n",
              "</table>\n",
              "</div><br><label><b>dtype:</b> object</label>"
            ]
          },
          "metadata": {},
          "execution_count": 25
        }
      ]
    },
    {
      "cell_type": "markdown",
      "source": [
        "## **Algumas operações vetorizadas**"
      ],
      "metadata": {
        "id": "-AFKwg5Y2kVV"
      }
    },
    {
      "cell_type": "markdown",
      "source": [
        "Uma das vantagens de usar Pandas (assim como NumPy) é o uso de oprações vetorizadas, que produzem um trabalho mais rápido que no uso de laços de repetições e em armazenamento de memória.\n"
      ],
      "metadata": {
        "id": "cyxGKM-i2qRB"
      }
    },
    {
      "cell_type": "markdown",
      "source": [
        "**Operações matemáticas diretas**\n",
        "\n",
        "As operações básicas são aplicadas diretamente sobre Series ou colunas de DataFrame (inclusive usando NumPy):"
      ],
      "metadata": {
        "id": "NlHOmDvW3loN"
      }
    },
    {
      "cell_type": "code",
      "source": [
        "import pandas as pd\n",
        "import numpy as np\n",
        "\n",
        "df = pd.DataFrame({\n",
        "    'A': [10, 20, 30],\n",
        "    'B': [5, 10, 15]\n",
        "})\n",
        "\n",
        "df['Soma'] = df['A'] + df['B']\n",
        "df['Produto'] = df['A'] * df['B']\n",
        "df['Raiz_A'] = np.sqrt(df['A'])\n",
        "\n",
        "print(df['Raiz_A'])\n"
      ],
      "metadata": {
        "id": "orB5m8G33r19",
        "outputId": "5a8661fa-d482-4b4a-d4b8-8c6f0a432181",
        "colab": {
          "base_uri": "https://localhost:8080/"
        }
      },
      "execution_count": 30,
      "outputs": [
        {
          "output_type": "stream",
          "name": "stdout",
          "text": [
            "0    3.162278\n",
            "1    4.472136\n",
            "2    5.477226\n",
            "Name: Raiz_A, dtype: float64\n"
          ]
        }
      ]
    },
    {
      "cell_type": "markdown",
      "source": [
        "**Operações estatísticas**"
      ],
      "metadata": {
        "id": "wMcxyOTO35TB"
      }
    },
    {
      "cell_type": "code",
      "source": [
        "print(df['A'].mean())   # Média\n",
        "print(df['A'].sum())    # Soma total\n",
        "print(df['A'].std())    # Desvio padrão\n",
        "print(df['A'].min())    # Mínimo\n",
        "print(df['A'].max())    # Máximo"
      ],
      "metadata": {
        "id": "oUCvZBiJ39PR",
        "outputId": "a3621f33-ed15-4f45-86a5-29f1f9bc6219",
        "colab": {
          "base_uri": "https://localhost:8080/"
        }
      },
      "execution_count": 31,
      "outputs": [
        {
          "output_type": "stream",
          "name": "stdout",
          "text": [
            "20.0\n",
            "60\n",
            "10.0\n",
            "10\n",
            "30\n"
          ]
        }
      ]
    },
    {
      "cell_type": "markdown",
      "source": [
        "**Filtros**"
      ],
      "metadata": {
        "id": "xHB8DkEH4A0N"
      }
    },
    {
      "cell_type": "code",
      "source": [
        "df_filtrado = df[df['A'] > 15]\n",
        "print(df_filtrado)"
      ],
      "metadata": {
        "id": "C_PZzn3J4DpJ",
        "outputId": "21e9aaa2-bf05-427b-8b90-2de1a8d44793",
        "colab": {
          "base_uri": "https://localhost:8080/"
        }
      },
      "execution_count": 32,
      "outputs": [
        {
          "output_type": "stream",
          "name": "stdout",
          "text": [
            "    A   B  Soma  Produto    Raiz_A\n",
            "1  20  10    30      200  4.472136\n",
            "2  30  15    45      450  5.477226\n"
          ]
        }
      ]
    },
    {
      "cell_type": "markdown",
      "source": [
        "**Aplicação de funções lambdas (`apply()`)**  \n",
        "\n",
        "A função `apply()` permite aplicar funções a colunas ou linhas:"
      ],
      "metadata": {
        "id": "9rz8RxDl4IaR"
      }
    },
    {
      "cell_type": "code",
      "source": [
        "df['Dobro_A'] = df['A'].apply(lambda x: x * 2)\n",
        "\n",
        "print(df['Dobro_A'])"
      ],
      "metadata": {
        "id": "L2fdEyy64U3T",
        "outputId": "a3bb78de-e471-4f38-f7e8-90b7753aaae0",
        "colab": {
          "base_uri": "https://localhost:8080/"
        }
      },
      "execution_count": 34,
      "outputs": [
        {
          "output_type": "stream",
          "name": "stdout",
          "text": [
            "0    20\n",
            "1    40\n",
            "2    60\n",
            "Name: Dobro_A, dtype: int64\n"
          ]
        }
      ]
    },
    {
      "cell_type": "markdown",
      "source": [
        "Caso precise trabalhar linha por linha, pode-se usa o parâmetro `axis`:"
      ],
      "metadata": {
        "id": "U8wXSKrN4WKd"
      }
    },
    {
      "cell_type": "code",
      "source": [
        "df['Soma_Linhas'] = df.apply(lambda row: row['A'] + row['B'], axis=1)\n",
        "\n",
        "print(df['Soma_Linhas'])"
      ],
      "metadata": {
        "id": "DE2a_SOS4gOR",
        "outputId": "a0d73955-836b-435b-e565-346aa151de9b",
        "colab": {
          "base_uri": "https://localhost:8080/"
        }
      },
      "execution_count": 35,
      "outputs": [
        {
          "output_type": "stream",
          "name": "stdout",
          "text": [
            "0    15.0\n",
            "1    30.0\n",
            "2    45.0\n",
            "Name: Soma_Linhas, dtype: float64\n"
          ]
        }
      ]
    },
    {
      "cell_type": "markdown",
      "source": [
        "**Transformação e substituição de valores**"
      ],
      "metadata": {
        "id": "9I4M85r24n_C"
      }
    },
    {
      "cell_type": "code",
      "source": [
        "df['B'] = df['B'].replace({5: 50, 10: 100})  # Substitui valores específicos\n",
        "df['A'] = df['A'].map(lambda x: x * 2)  # Multiplica por 2 cada valor de 'A'\n",
        "\n",
        "print(df)"
      ],
      "metadata": {
        "id": "iiFnWnvT4twB",
        "outputId": "9e759974-965f-4a9a-9e21-c82c7c0a42aa",
        "colab": {
          "base_uri": "https://localhost:8080/"
        }
      },
      "execution_count": 37,
      "outputs": [
        {
          "output_type": "stream",
          "name": "stdout",
          "text": [
            "     A    B  Soma  Produto    Raiz_A  Dobro_A  Soma_Linhas\n",
            "0   40   50    15       50  3.162278       20         15.0\n",
            "1   80  100    30      200  4.472136       40         30.0\n",
            "2  120   15    45      450  5.477226       60         45.0\n"
          ]
        }
      ]
    },
    {
      "cell_type": "markdown",
      "source": [
        "**Manipulação de strings**  \n",
        "\n",
        "Colunas com textos também suportam trabalos com vetorização"
      ],
      "metadata": {
        "id": "HI8ldwe34y9Z"
      }
    },
    {
      "cell_type": "code",
      "source": [
        "df_nomes = pd.DataFrame({'Nome': ['ana', 'CARLOS', 'Beatriz']})\n",
        "df_nomes['Nome'] = df_nomes['Nome'].str.capitalize()  # Capitaliza os nomes\n",
        "\n",
        "print(df_nomes)"
      ],
      "metadata": {
        "id": "LA4KgAX-42iJ",
        "outputId": "79777fcf-cbe4-4210-adb2-121fc4f1854d",
        "colab": {
          "base_uri": "https://localhost:8080/"
        }
      },
      "execution_count": 39,
      "outputs": [
        {
          "output_type": "stream",
          "name": "stdout",
          "text": [
            "      Nome\n",
            "0      Ana\n",
            "1   Carlos\n",
            "2  Beatriz\n"
          ]
        }
      ]
    },
    {
      "cell_type": "markdown",
      "source": [
        "# **Exemplo prático!**  \n",
        "\n",
        "Vamos imaginar uma planilha com 4 notas, a qual gostaríamos de analisar algumas informações, como média da sala, maior nota, taxa de aprovação, etc.\n",
        "\n",
        "Primeiro, vamos criar um arquivo .csv para manipular:"
      ],
      "metadata": {
        "id": "MPjcsrY05MRK"
      }
    },
    {
      "cell_type": "code",
      "source": [
        "import pandas as pd\n",
        "\n",
        "# Dicionário com os dados dos alunos\n",
        "dados = {\n",
        "    'Aluno': ['Ana', 'Carlos', 'Beatriz', 'Daniel', 'Eduarda'],\n",
        "    'Nota1': [8.0, 5.5, 7.5, 9.0, 4.5],\n",
        "    'Nota2': [7.5, 6.0, 8.5, 9.5, 5.0],\n",
        "    'Nota3': [9.0, 5.0, 7.0, 8.0, 4.0],\n",
        "    'Nota4': [6.5, 4.5, 8.0, 9.0, 3.5]\n",
        "}\n",
        "\n",
        "# criando um DataFrame\n",
        "df = pd.DataFrame(dados)\n",
        "\n",
        "# salvando como CSV\n",
        "df.to_csv('notas_alunos.csv', index=False)\n",
        "print('Arquivo CSV criado com sucesso!')\n"
      ],
      "metadata": {
        "id": "E41VndE25sud",
        "outputId": "7ca70cee-00b8-4378-dd3a-b9609965e786",
        "colab": {
          "base_uri": "https://localhost:8080/"
        }
      },
      "execution_count": 40,
      "outputs": [
        {
          "output_type": "stream",
          "name": "stdout",
          "text": [
            "Arquivo CSV criado com sucesso!\n"
          ]
        }
      ]
    },
    {
      "cell_type": "markdown",
      "source": [
        "Depois, vamos \"consumir\" esses dados e calcular média das notas, maior e menor nota, verificar quantos alunos foram aprovados e exibir as informações:"
      ],
      "metadata": {
        "id": "-WSve8fB51_F"
      }
    },
    {
      "cell_type": "code",
      "source": [
        "import pandas as pd\n",
        "\n",
        "# lendo o arquivo\n",
        "df = pd.read_csv('notas_alunos.csv')\n",
        "\n",
        "# média de cada aluno\n",
        "df['Média'] = df[['Nota1', 'Nota2', 'Nota3', 'Nota4']].mean(axis=1)\n",
        "\n",
        "# Aprovação (média >= 6.0)\n",
        "df['Situação'] = df['Média'].apply(lambda x: 'Aprovado' if x >= 6 else 'Reprovado')\n",
        "\n",
        "# média geral da turma\n",
        "media_geral = df['Média'].mean()\n",
        "\n",
        "# maior e menor nota\n",
        "maior_nota = df['Média'].max()\n",
        "menor_nota = df['Média'].min()\n",
        "\n",
        "# Nome dos alunos com maior e menor nota\n",
        "aluno_maior_nota = df[df['Média'] == maior_nota]['Aluno'].values[0]\n",
        "aluno_menor_nota = df[df['Média'] == menor_nota]['Aluno'].values[0]\n",
        "\n",
        "# percentual de aprovação\n",
        "percentual_aprovacao = (df[df['Situação'] == 'Aprovado'].shape[0] / df.shape[0]) * 100\n",
        "\n",
        "\n",
        "print(df)\n",
        "print('\\n Média geral da turma:', round(media_geral, 2))\n",
        "print(f' Maior nota: {maior_nota} - Aluno: {aluno_maior_nota}')\n",
        "print(f' Menor nota: {menor_nota} - Aluno: {aluno_menor_nota}')\n",
        "print(f' Percentual de aprovação: {percentual_aprovacao:.2f}%')\n"
      ],
      "metadata": {
        "id": "ZhFRWYK65-gZ",
        "outputId": "6e6170f6-880b-4ae0-8971-1a832762a078",
        "colab": {
          "base_uri": "https://localhost:8080/"
        }
      },
      "execution_count": 41,
      "outputs": [
        {
          "output_type": "stream",
          "name": "stdout",
          "text": [
            "     Aluno  Nota1  Nota2  Nota3  Nota4  Média   Situação\n",
            "0      Ana    8.0    7.5    9.0    6.5  7.750   Aprovado\n",
            "1   Carlos    5.5    6.0    5.0    4.5  5.250  Reprovado\n",
            "2  Beatriz    7.5    8.5    7.0    8.0  7.750   Aprovado\n",
            "3   Daniel    9.0    9.5    8.0    9.0  8.875   Aprovado\n",
            "4  Eduarda    4.5    5.0    4.0    3.5  4.250  Reprovado\n",
            "\n",
            " Média geral da turma: 6.78\n",
            " Maior nota: 8.875 - Aluno: Daniel\n",
            " Menor nota: 4.25 - Aluno: Eduarda\n",
            " Percentual de aprovação: 60.00%\n"
          ]
        }
      ]
    },
    {
      "cell_type": "markdown",
      "source": [
        "# **EXTRA: Matplotlib**"
      ],
      "metadata": {
        "id": "C6wuLaYWCm4K"
      }
    },
    {
      "cell_type": "markdown",
      "source": [
        "O Matplotlib é uma biblioteca para visualização de dados em Python. Ele é amplamente utilizado para criar gráficos de linha, barras, dispersão, histogramas, gráficos de pizza e muito mais.\n",
        "\n",
        "**Principais características:**\n",
        "+ Suporte a vários tipos de gráficos\n",
        "+ Personalização completa (cores, estilos, rótulos, legendas)\n",
        "+ Facilidade de integração com Pandas e NumPy\n",
        "+ Compatível com ambientes interativos tipo \"notebooks\" (como aqui no Colab!)\n",
        "\n",
        "Além disso possui uma excelente [documentação](https://matplotlib.org/) e vasto número de exemplos na comunidade."
      ],
      "metadata": {
        "id": "DeBlWvU_DD1g"
      }
    },
    {
      "cell_type": "markdown",
      "source": [
        "## Fundamentos da bilbioteca\n",
        "\n",
        "O Matplotlib organiza os gráficos em uma estrutura hierárquica composta por Figura, Eixos e Eixos X e Y.\n",
        "\n",
        "**Figura e Eixos**  \n",
        "+ Figura (*Figure*): Representa toda a área do gráfico.\n",
        "+ Eixos (*Axes*): Cada gráfico dentro da Figura.\n",
        "+ Eixos X e Y (*Axis*): Representam os limites dos gráficos.\n",
        "+ Estilos (*Styles*): Permite personalizar cores, legendas, rótulos e estilos de linha.\n",
        "+ Plotagem (`plot()`): Método principal para desenhar gráficos de linha, dispersão e outros."
      ],
      "metadata": {
        "id": "UhmrdeTWDqGc"
      }
    },
    {
      "cell_type": "markdown",
      "source": [
        "**Gráfico de linha**"
      ],
      "metadata": {
        "id": "pNXtRQNUEtU3"
      }
    },
    {
      "cell_type": "code",
      "source": [
        "import matplotlib.pyplot as plt\n",
        "\n",
        "# Dados\n",
        "anos = [2018, 2019, 2020, 2021, 2022]\n",
        "vendas = [5000, 7000, 8000, 7500, 9000]\n",
        "\n",
        "# Criando o gráfico\n",
        "plt.plot(anos, vendas, marker='o', linestyle='-', color='b', label='Vendas')\n",
        "\n",
        "# Adicionando rótulos e título\n",
        "plt.xlabel('Ano')\n",
        "plt.ylabel('Vendas')\n",
        "plt.title('Vendas ao longo dos anos')\n",
        "plt.legend()\n",
        "plt.style.use('ggplot') # outros estilos: seaborn, classic, bmh, fivethirtyeight\n",
        "plt.grid(axis='y', linestyle='--', alpha=0.7)\n",
        "\n",
        "plt.xticks(anos)\n",
        "\n",
        "# Exibindo o gráfico\n",
        "plt.show()\n"
      ],
      "metadata": {
        "id": "1koyTUb5EzV0",
        "outputId": "18734460-7013-41f2-9009-d36dd398eb89",
        "colab": {
          "base_uri": "https://localhost:8080/",
          "height": 477
        }
      },
      "execution_count": 43,
      "outputs": [
        {
          "output_type": "display_data",
          "data": {
            "text/plain": [
              "<Figure size 640x480 with 1 Axes>"
            ],
            "image/png": "[encoded data removed]"
          },
          "metadata": {}
        }
      ]
    },
    {
      "cell_type": "markdown",
      "source": [
        "**Gráfico de barras**"
      ],
      "metadata": {
        "id": "2sFRHY9yE9Is"
      }
    },
    {
      "cell_type": "code",
      "source": [
        "import matplotlib.pyplot as plt\n",
        "\n",
        "categorias = ['Eletrônicos', 'Móveis', 'Roupas', 'Alimentos']\n",
        "vendas = [5000, 3000, 4000, 7000]\n",
        "\n",
        "plt.bar(categorias, vendas, color='skyblue')\n",
        "\n",
        "plt.xlabel('Categoria')\n",
        "plt.ylabel('Vendas')\n",
        "plt.title('Vendas por Categoria')\n",
        "\n",
        "plt.show()\n"
      ],
      "metadata": {
        "id": "9a8Fk46iFAQ6",
        "outputId": "30826ea8-f78b-486b-ebc5-780421e6ef74",
        "colab": {
          "base_uri": "https://localhost:8080/",
          "height": 477
        }
      },
      "execution_count": 44,
      "outputs": [
        {
          "output_type": "display_data",
          "data": {
            "text/plain": [
              "<Figure size 640x480 with 1 Axes>"
            ],
            "image/png": "[encoded data removed]"
          },
          "metadata": {}
        }
      ]
    },
    {
      "cell_type": "markdown",
      "source": [
        "**Gráfico de dispersão** (útil para visualizar a relação entre duas variáveis)"
      ],
      "metadata": {
        "id": "ilo95UjOFrny"
      }
    },
    {
      "cell_type": "code",
      "source": [
        "import matplotlib.pyplot as plt\n",
        "\n",
        "altura = [1.60, 1.65, 1.70, 1.75, 1.80, 1.85]\n",
        "peso = [60, 65, 70, 75, 80, 85]\n",
        "\n",
        "plt.scatter(altura, peso, color='r')\n",
        "\n",
        "plt.xlabel('Altura (m)')\n",
        "plt.ylabel('Peso (kg)')\n",
        "plt.title('Relação entre Altura e Peso')\n",
        "\n",
        "plt.show()\n"
      ],
      "metadata": {
        "id": "gRELdsGoGELu",
        "outputId": "28036e20-bf46-45b0-939b-f95781a067a5",
        "colab": {
          "base_uri": "https://localhost:8080/",
          "height": 477
        }
      },
      "execution_count": 45,
      "outputs": [
        {
          "output_type": "display_data",
          "data": {
            "text/plain": [
              "<Figure size 640x480 with 1 Axes>"
            ],
            "image/png": "[encoded data removed]"
          },
          "metadata": {}
        }
      ]
    },
    {
      "cell_type": "markdown",
      "source": [
        "**Histograma** (muito interessante para visualizar a distribuição de dados)"
      ],
      "metadata": {
        "id": "uNya7wDKtYov"
      }
    },
    {
      "cell_type": "code",
      "source": [
        "import numpy as np\n",
        "import matplotlib.pyplot as plt\n",
        "\n",
        "idades = np.random.normal(30, 5, 200)\n",
        "\n",
        "plt.hist(idades, bins=10, color='purple', edgecolor='black')\n",
        "\n",
        "plt.xlabel('Idade')\n",
        "plt.ylabel('Frequência')\n",
        "plt.title('Distribuição de Idades')\n",
        "\n",
        "plt.show()\n"
      ],
      "metadata": {
        "id": "UreAxVlVtgNQ",
        "outputId": "61e77ac2-de51-4c32-a828-b2852d61e25c",
        "colab": {
          "base_uri": "https://localhost:8080/",
          "height": 477
        }
      },
      "execution_count": 46,
      "outputs": [
        {
          "output_type": "display_data",
          "data": {
            "text/plain": [
              "<Figure size 640x480 with 1 Axes>"
            ],
            "image/png": "[encoded data removed]"
          },
          "metadata": {}
        }
      ]
    },
    {
      "cell_type": "markdown",
      "source": [
        "**Gráfico de pizza**"
      ],
      "metadata": {
        "id": "E_c1kulotynn"
      }
    },
    {
      "cell_type": "code",
      "source": [
        "import matplotlib.pyplot as plt\n",
        "\n",
        "categorias = ['Eletrônicos', 'Móveis', 'Roupas', 'Alimentos']\n",
        "vendas = [5000, 3000, 4000, 7000]\n",
        "\n",
        "plt.pie(vendas, labels=categorias, autopct='%1.1f%%', colors=['blue', 'green', 'red', 'orange'])\n",
        "\n",
        "plt.title('Distribuição de Vendas')\n",
        "\n",
        "plt.show()\n"
      ],
      "metadata": {
        "id": "CmnnopVPt4Zg",
        "outputId": "f2f38192-24c1-4275-ce30-7acfe0a7be26",
        "colab": {
          "base_uri": "https://localhost:8080/",
          "height": 429
        }
      },
      "execution_count": 47,
      "outputs": [
        {
          "output_type": "display_data",
          "data": {
            "text/plain": [
              "<Figure size 640x480 with 1 Axes>"
            ],
            "image/png": "[encoded data removed]"
          },
          "metadata": {}
        }
      ]
    },
    {
      "cell_type": "markdown",
      "source": [
        "**Múltiplos gráficos** (`subplots`)"
      ],
      "metadata": {
        "id": "N-YXL0Wyugpk"
      }
    },
    {
      "cell_type": "code",
      "source": [
        "import matplotlib.pyplot as plt\n",
        "\n",
        "fig, axs = plt.subplots(1, 2, figsize=(10, 5))\n",
        "\n",
        "# Primeiro gráfico\n",
        "axs[0].plot([1, 2, 3], [4, 5, 6])\n",
        "axs[0].set_title('Gráfico 1')\n",
        "\n",
        "# Segundo gráfico\n",
        "axs[1].bar(['A', 'B', 'C'], [10, 20, 30])\n",
        "axs[1].set_title('Gráfico 2')\n",
        "\n",
        "plt.show()\n"
      ],
      "metadata": {
        "id": "NsZlMoRSuMIq",
        "outputId": "f01e4fed-8df0-47c5-fd4b-83448417f6cf",
        "colab": {
          "base_uri": "https://localhost:8080/",
          "height": 469
        }
      },
      "execution_count": 48,
      "outputs": [
        {
          "output_type": "display_data",
          "data": {
            "text/plain": [
              "<Figure size 1000x500 with 2 Axes>"
            ],
            "image/png": "[encoded data removed]"
          },
          "metadata": {}
        }
      ]
    },
    {
      "cell_type": "markdown",
      "source": [
        "## **Exemplo com Pandas**"
      ],
      "metadata": {
        "id": "fbAaEcEaxew3"
      }
    },
    {
      "cell_type": "code",
      "source": [
        "import csv\n",
        "\n",
        "dados = [\n",
        "    [\"produto\", \"categoria\", \"valor_venda\"],\n",
        "    [\"Celular\", \"Eletrônicos\", 1200],\n",
        "    [\"Notebook\", \"Eletrônicos\", 3500],\n",
        "    [\"Fone de Ouvido\", \"Eletrônicos\", 200],\n",
        "    [\"Geladeira\", \"Eletrodomésticos\", 2500],\n",
        "    [\"Fogão\", \"Eletrodomésticos\", 1800],\n",
        "    [\"Liquidificador\", \"Eletrodomésticos\", 300],\n",
        "    [\"Camiseta\", \"Vestuário\", 50],\n",
        "    [\"Calça Jeans\", \"Vestuário\", 120],\n",
        "    [\"Tênis\", \"Vestuário\", 250],\n",
        "    [\"Livro\", \"Papelaria\", 40],\n",
        "    [\"Caderno\", \"Papelaria\", 25],\n",
        "    [\"Caneta\", \"Papelaria\", 5]\n",
        "]\n",
        "\n",
        "with open('vendas.csv', mode='w', newline='', encoding='utf-8') as arquivo:\n",
        "    escritor = csv.writer(arquivo)\n",
        "    escritor.writerows(dados)\n",
        "\n",
        "print(\"Arquivo 'vendas.csv' criado com sucesso!\")\n"
      ],
      "metadata": {
        "id": "7rsfCwRAx0qv",
        "outputId": "9c729c27-f165-4928-f3f1-2bf777b62acd",
        "colab": {
          "base_uri": "https://localhost:8080/"
        }
      },
      "execution_count": 49,
      "outputs": [
        {
          "output_type": "stream",
          "name": "stdout",
          "text": [
            "Arquivo 'vendas.csv' criado com sucesso!\n"
          ]
        }
      ]
    },
    {
      "cell_type": "code",
      "source": [
        "import pandas as pd\n",
        "import matplotlib.pyplot as plt\n",
        "\n",
        "# gerando o DataFrame a partir do CSV\n",
        "df = pd.read_csv('vendas.csv')\n",
        "\n",
        "# exibindo as 5 primeiras linhas\n",
        "print(df.head())\n",
        "\n",
        "# agrupando os dados por categoria e somando as vendas\n",
        "vendas_por_categoria = df.groupby('categoria')['valor_venda'].sum()\n",
        "\n",
        "# Criando gráfico de barras\n",
        "plt.figure(figsize=(10, 5))\n",
        "vendas_por_categoria.plot(kind='bar', color='skyblue')\n",
        "plt.title('Total de Vendas por Categoria')\n",
        "plt.xlabel('Categoria')\n",
        "plt.ylabel('Valor Total de Vendas')\n",
        "plt.xticks(rotation=45)\n",
        "plt.grid(axis='y', linestyle='--', alpha=0.7)\n",
        "\n",
        "plt.show()\n"
      ],
      "metadata": {
        "id": "Ww47pdy6xhLL",
        "outputId": "1fa9e300-ceae-4051-8b95-9744d64217af",
        "colab": {
          "base_uri": "https://localhost:8080/",
          "height": 677
        }
      },
      "execution_count": 50,
      "outputs": [
        {
          "output_type": "stream",
          "name": "stdout",
          "text": [
            "          produto         categoria  valor_venda\n",
            "0         Celular       Eletrônicos         1200\n",
            "1        Notebook       Eletrônicos         3500\n",
            "2  Fone de Ouvido       Eletrônicos          200\n",
            "3       Geladeira  Eletrodomésticos         2500\n",
            "4           Fogão  Eletrodomésticos         1800\n"
          ]
        },
        {
          "output_type": "display_data",
          "data": {
            "text/plain": [
              "<Figure size 1000x500 with 1 Axes>"
            ],
            "image/png": "[encoded data removed]"
          },
          "metadata": {}
        }
      ]
    },
    {
      "cell_type": "markdown",
      "source": [
        "## **Exercício**\n",
        "\n",
        "Imagine que você recebeu um arquivo .csv com dados de vendas de uma pequena loja, e que necessita analisar esses dados para tomar algumas decisões. Dentre essas informações é preciso:\n",
        "+ Média das vendas (valor médio de Total_Venda).\n",
        "+ Maior e menor venda, incluindo qual produto teve essas vendas.\n",
        "+ Percentual de produtos que venderam acima da média geral.\n",
        "\n",
        "Para teste, use o seguinte dicionário para gerar o arquivo. csv:\n",
        "\n",
        "```\n",
        "dados_vendas = {\n",
        "    'Produto': ['Notebook', 'Celular', 'Tablet', 'Monitor', 'Teclado'],\n",
        "    'Quantidade': [10, 50, 30, 15, 40],\n",
        "    'Preco_Unitario': [3000, 1500, 1200, 800, 200]\n",
        "}\n",
        "```\n",
        "\n",
        "Crie também os seguintes gráficos:\n",
        "+ Gráfico de Barras (Produto x Total de Venda):  o total vendido por produto e identificar facilmente o maior e menor valor.\n",
        "+ Gráfico de pizza: qual produto representa maior ou menor parte do faturamento total da loja.\n",
        "+ Gráfico de destaque (produtos acima da média): escolha um gráfico que mostre os produtos que venderam acima da média\n",
        "\n"
      ],
      "metadata": {
        "id": "Mwz0qAuA6mJu"
      }
    }
  ]
}