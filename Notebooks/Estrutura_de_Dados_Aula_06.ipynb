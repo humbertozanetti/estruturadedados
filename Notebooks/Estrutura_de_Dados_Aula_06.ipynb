{
  "nbformat": 4,
  "nbformat_minor": 0,
  "metadata": {
    "colab": {
      "provenance": [],
      "authorship_tag": "ABX9TyMY6Oq2MnvJYhYcH0+cknhG",
      "include_colab_link": true
    },
    "kernelspec": {
      "name": "python3",
      "display_name": "Python 3"
    },
    "language_info": {
      "name": "python"
    }
  },
  "cells": [
    {
      "cell_type": "markdown",
      "metadata": {
        "id": "view-in-github",
        "colab_type": "text"
      },
      "source": [
        "<a href=\"https://colab.research.google.com/github/humbertozanetti/estruturadedados/blob/main/Notebooks/Estrutura_de_Dados_Aula_06.ipynb\" target=\"_parent\"><img src=\"https://colab.research.google.com/assets/colab-badge.svg\" alt=\"Open In Colab\"/></a>"
      ]
    },
    {
      "cell_type": "markdown",
      "source": [
        "# **ESTRUTURA DE DADOS - AULA 06**\n",
        "# **Prof. Dr. Humberto A. P. Zanetti**\n",
        "# Fatec Deputado Ary Fossen - Jundiaí\n",
        "\n",
        "\n",
        "---\n",
        "\n",
        "**Conteúdo da aula:**\n",
        "\n",
        "* Implementando uma Fila\n",
        "\n",
        "**Fontes de consulta interessante:**\n",
        "* https://docs.python.org/pt-br/3/tutorial/datastructures.html\n",
        "\n"
      ],
      "metadata": {
        "id": "-pq7QwxdY8IL"
      }
    },
    {
      "cell_type": "markdown",
      "source": [
        "#  **A estrutura Fila**\n",
        "\n",
        "A estrutura de dados Fila é amplamente utilizada em várias aplicações devido à sua natureza FIFO (*First In*, *First Out*). FIFO são comumente usados em circuitos eletrônicos de **buffer** e controle de fluxo, que vai desde o hardware até o software. Na forma de um hardware o FIFO consiste basicamente de um conjunto de ler e escrever ponteiros, armazenamento e lógica de controle. Armazenamento pode ser SRAM, *flip-flops* ou qualquer outra forma adequada de armazenamento. Para o FIFO, de tamanho não trivial, uma SRAM de porta dupla geralmente é utilizada quando uma porta é usada para a escrita e a outra para leitura.\n",
        "\n",
        "Algumas outras aplicações comuns:\n",
        "\n",
        "![Imagem de uma Fila](https://upload.wikimedia.org/wikipedia/commons/d/d3/Fifo_queue.png)\n",
        "\n",
        "\n",
        "**1. Gerenciamento de Tarefas**\n",
        "Exemplo: Em sistemas operacionais, as tarefas ou processos podem ser gerenciados usando filas. Por exemplo, em um sistema de impressão, os documentos a serem impressos são organizados em uma fila, sendo impressos na ordem em que foram enviados.\n",
        "\n",
        "**2. Filas de Mensagens**\n",
        "Exemplo: Em sistemas de troca de mensagens, como filas de mensagens em servidores ou aplicações distribuídas, as mensagens são armazenadas em uma fila até que possam ser processadas. Isso é comum em arquiteturas de microsserviços.\n",
        "\n",
        "**3. Sistemas de Filtragem de Pacotes em Redes**\n",
        "Exemplo: Roteadores e firewalls utilizam filas para gerenciar pacotes de dados, determinando a ordem em que os pacotes devem ser processados ou descartados.\n",
        "\n",
        "**4. Algoritmos de Pesquisa em Largura (BFS - *Breadth-First Search*)**\n",
        "Exemplo: Em grafos, o algoritmo de busca em largura (BFS) utiliza uma fila para explorar todos os nós de um grafo em níveis, sendo crucial para tarefas como encontrar o caminho mais curto ou explorar áreas em jogos.\n",
        "\n",
        "**5. Agendamento de Processos em Sistemas Operacionais**\n",
        "Exemplo: O agendador de processos de um sistema operacional pode utilizar uma fila para determinar qual processo deve ser executado em seguida, especialmente em sistemas multitarefa.\n",
        "\n",
        "**6. Sistemas de Controle de Tráfego**\n",
        "Exemplo: Em sistemas de controle de tráfego aéreo, as aeronaves aguardam em filas para pouso ou decolagem, garantindo que a ordem seja respeitada.\n",
        "\n",
        "**7. Streaming de Dados**\n",
        "Exemplo: Em aplicações de streaming de vídeo ou áudio, os dados são armazenados em uma fila antes de serem transmitidos, garantindo uma reprodução suave.\n",
        "\n",
        "**8. Filas de Execução em Jogos**\n",
        "Exemplo: Em jogos multiplayer, as ações dos jogadores podem ser enfileiradas para garantir que sejam processadas na ordem correta, proporcionando uma experiência justa e organizada.\n",
        "\n"
      ],
      "metadata": {
        "id": "3lZo35EEawsg"
      }
    },
    {
      "cell_type": "markdown",
      "source": [
        "# **Classe No**\n",
        "\n",
        "Assim no em Pilha, vamos usar uma classe No:\n",
        "\n"
      ],
      "metadata": {
        "id": "rt9wFGThbtEH"
      }
    },
    {
      "cell_type": "code",
      "source": [
        "class No:\n",
        "    def __init__(self, valor):\n",
        "        self.valor = valor\n",
        "        self.proximo = None"
      ],
      "metadata": {
        "id": "ydnL7z6tcUsq"
      },
      "execution_count": null,
      "outputs": []
    },
    {
      "cell_type": "markdown",
      "source": [
        "A classe No representa cada elemento na fila.\n",
        "\n",
        "**Atributos:**\n",
        "* **valor**: O valor armazenado no nó.\n",
        "* **proximo**: Referência para o próximo nó na fila."
      ],
      "metadata": {
        "id": "Vf5j0rRucl-3"
      }
    },
    {
      "cell_type": "markdown",
      "source": [
        "# Classe Fila\n",
        "\n",
        "A classe Fila controla a fila usando os nós.\n",
        "\n",
        "**Atributos:**\n",
        "\n",
        "* frente: Referência para o primeiro nó (início da fila).\n",
        "* tras: Referência para o último nó (fim da fila).\n",
        "\n",
        "**Métodos:**\n",
        "\n",
        "* **\\_\\_init\\_\\_(self)**: Inicializa a fila vazia.\n",
        "* **esta_vazia(self)**: Retorna True se a fila estiver vazia, caso contrário, False.\n",
        "* **enqueue(self, valor)**: Adiciona um valor à fila.\n",
        "* **dequeue(self)**: Remove e retorna o valor na frente da fila.\n",
        "* **ver_frente(self)**: Retorna o valor na frente da fila sem removê-lo\n",
        "\n"
      ],
      "metadata": {
        "id": "q6G3dj3BP7cy"
      }
    },
    {
      "cell_type": "code",
      "source": [
        "class Fila:\n",
        "    def __init__(self):\n",
        "        self.frente = None\n",
        "        self.tras = None\n",
        "\n",
        "    def esta_vazia(self):\n",
        "        return self.frente is None\n",
        "\n",
        "    def enqueue(self, valor):\n",
        "        novo_no = No(valor)\n",
        "        if self.esta_vazia():\n",
        "            self.frente = novo_no\n",
        "            self.tras = novo_no\n",
        "        else:\n",
        "            self.tras.proximo = novo_no\n",
        "            self.tras = novo_no\n",
        "\n",
        "    def dequeue(self):\n",
        "        if self.esta_vazia():\n",
        "            return None\n",
        "        valor = self.frente.valor\n",
        "        self.frente = self.frente.proximo\n",
        "        if self.frente is None:\n",
        "            self.tras = None\n",
        "        return valor\n",
        "\n",
        "    def ver_frente(self):\n",
        "        if self.esta_vazia():\n",
        "            return None\n",
        "        return self.frente.valor\n"
      ],
      "metadata": {
        "id": "hAowk9uiROOG"
      },
      "execution_count": null,
      "outputs": []
    }
  ]
}