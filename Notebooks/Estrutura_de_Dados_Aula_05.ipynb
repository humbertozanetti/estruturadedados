{
  "nbformat": 4,
  "nbformat_minor": 0,
  "metadata": {
    "colab": {
      "provenance": [],
      "authorship_tag": "ABX9TyM6/SHzGpuPZkvE7FPWWrVq",
      "include_colab_link": true
    },
    "kernelspec": {
      "name": "python3",
      "display_name": "Python 3"
    },
    "language_info": {
      "name": "python"
    }
  },
  "cells": [
    {
      "cell_type": "markdown",
      "metadata": {
        "id": "view-in-github",
        "colab_type": "text"
      },
      "source": [
        "<a href=\"https://colab.research.google.com/github/humbertozanetti/estruturadedados/blob/main/Notebooks/Estrutura_de_Dados_Aula_05.ipynb\" target=\"_parent\"><img src=\"https://colab.research.google.com/assets/colab-badge.svg\" alt=\"Open In Colab\"/></a>"
      ]
    },
    {
      "cell_type": "markdown",
      "source": [
        "# **ESTRUTURA DE DADOS - AULA 05**\n",
        "# **Prof. Dr. Humberto A. P. Zanetti**\n",
        "# Fatec Deputado Ary Fossen - Jundiaí\n",
        "\n",
        "\n",
        "---\n",
        "\n",
        "**Conteúdo da aula:**\n",
        "\n",
        "* Introdução a Orientação a Objetos\n",
        "* Implementando uma Pilha\n",
        "\n",
        "**Fontes de consulta interessante:**\n",
        "* https://docs.python.org/pt-br/3/tutorial/datastructures.html\n",
        "\n"
      ],
      "metadata": {
        "id": "-pq7QwxdY8IL"
      }
    },
    {
      "cell_type": "markdown",
      "source": [
        "#  **Programação Orientada a Objetos -  Introdução**\n",
        "\n",
        "Programação Orientada a Objetos (POO) é um paradigma de programação que organiza o software em torno de objetos em vez de funções e lógica. Objetos são entidades que combinam dados e comportamento.\n",
        "\n",
        "## **Conceitos Fundamentais**\n",
        "\n",
        "## Classe\n",
        "\n",
        "Uma classe é uma estrutura ou blueprint que define um tipo de objeto. Ela descreve quais dados (atributos) e comportamentos (métodos) os objetos desse tipo terão. Em outras palavras, a classe é o modelo para criar objetos.\n",
        "\n",
        "## Objeto\n",
        "\n",
        "Um objeto é uma instância de uma classe. Ele é a realização concreta do modelo definido pela classe, com valores específicos atribuídos aos seus atributos. Objetos interagem entre si para realizar tarefas e resolver problemas.\n",
        "\n",
        "## Encapsulamento\n",
        "\n",
        "Encapsulamento é o princípio de esconder os detalhes internos de um objeto e expor apenas o que é necessário. Isso significa que os dados de um objeto são protegidos do acesso direto por código fora do objeto, permitindo que as mudanças internas sejam feitas sem afetar o resto do código.\n",
        "\n",
        "## Herança\n",
        "\n",
        "Herança permite que uma nova classe herde os atributos e métodos de uma classe existente. Isso promove a reutilização de código e estabelece uma hierarquia entre classes. A classe que herda é chamada de subclasse, e a classe de onde se herda é a superclasse.\n",
        "\n",
        "## Polimorfismo\n",
        "\n",
        "Polimorfismo permite que objetos de diferentes classes sejam tratados como se fossem do mesmo tipo de classe, geralmente por meio de uma interface comum. Isso facilita o uso de uma única interface para diferentes implementações, permitindo que o mesmo método possa agir de maneira diferente dependendo do objeto.\n",
        "\n",
        "## Abstração\n",
        "\n",
        "Abstração é o processo de simplificar um sistema complexo escondendo detalhes desnecessários, enquanto destaca os aspectos mais importantes. Na POO, abstração permite que você se concentre no que um objeto faz, em vez de como ele o faz.\n",
        "\n",
        "## Por que Usar POO?\n",
        "\n",
        "* **Modularidade**: Permite que você divida um programa em partes menores e gerenciáveis.\n",
        "* **Reutilização de Código**: Através da herança, você pode reutilizar código existente em novas aplicações.\n",
        "* **Facilidade de Manutenção**: O encapsulamento torna o código mais fácil de manter e modificar, pois as mudanças em um objeto não afetam outras partes do programa.\n",
        "* **Simplicidade**: Abstração e polimorfismo ajudam a simplificar o desenvolvimento, ocultando a complexidade e permitindo que você se concentre nos conceitos de alto nível."
      ],
      "metadata": {
        "id": "3lZo35EEawsg"
      }
    },
    {
      "cell_type": "markdown",
      "source": [
        "# **Classes e Objetos em Python**\n",
        "\n",
        "Classes permitem agrupar dados (**atributos**) e operações (**métodos**) que podem ser realizadas sobre esses dados.\n",
        "\n"
      ],
      "metadata": {
        "id": "rt9wFGThbtEH"
      }
    },
    {
      "cell_type": "code",
      "source": [
        "class NomeDaClasse:\n",
        "    def __init__(self, atributo1, atributoN...):\n",
        "        self.atributo1 = atributo1\n",
        "        self.atributoN = atributoN\n",
        "\n",
        "    def metodo(self):\n",
        "        # Código do método\n",
        "        pass\n"
      ],
      "metadata": {
        "id": "ydnL7z6tcUsq"
      },
      "execution_count": null,
      "outputs": []
    },
    {
      "cell_type": "markdown",
      "source": [
        "**\\_\\_init\\_\\_**: É o método construtor, chamado automaticamente quando você cria uma nova instância da classe. Ele é usado para inicializar os atributos do objeto. é um dos \"métodos mágicos\" mais famosos em Python!\n",
        "\n",
        "**self**: Refere-se à instância atual da classe. É necessário para acessar atributos e métodos dentro da classe."
      ],
      "metadata": {
        "id": "Vf5j0rRucl-3"
      }
    },
    {
      "cell_type": "code",
      "source": [
        "class Matriz:\n",
        "    def __init__(self, linhas, colunas):\n",
        "        self.linhas = linhas\n",
        "        self.colunas = colunas\n",
        "        self.matriz = [[None for _ in range(colunas)] for _ in range(linhas)]\n",
        "        # preenche a matriz com valor 'None'  (vazio)"
      ],
      "metadata": {
        "id": "ygDXPOtzg07w"
      },
      "execution_count": null,
      "outputs": []
    },
    {
      "cell_type": "markdown",
      "source": [
        "Nesse exemplo vemos o que \"qualifica\" nossa matriz, ou seja, quais **atributos** ela deve ter (linhas e colunas). No método \\_\\_init\\_\\_ nós definimos 2 coisas muito importantes:\n",
        "* quais serão nossos atributos;\n",
        "* e, ao criar um objeto da classe (ou seja, usá-la) quais parâmetros deverão ser informados.\n",
        "\n",
        "A classe por si só não á manipulável, ela é apenas um modelo. Para de fato criar algo que podemos manipular, **temos que criar um objeto a partir da classe**. Essa ação é chama de ***instância***.\n",
        "\n",
        "**Exemplo:**\n",
        "Vamos criar uma matriz 2x2 a partir de nossa classe 'Matriz', e vamos ver se nossa matriz é cheio de 'None':"
      ],
      "metadata": {
        "id": "GcGbdFxJjxoa"
      }
    },
    {
      "cell_type": "code",
      "source": [
        "class Matriz:\n",
        "    def __init__(self, linhas, colunas):\n",
        "        self.linhas = linhas\n",
        "        self.colunas = colunas\n",
        "        self.matriz = [[None for _ in range(colunas)] for _ in range(linhas)]\n",
        "        # preenche a matriz com valor 'None'  (vazio)\n",
        "\n",
        "mat1 = Matriz(2,2)\n",
        "print(mat1.matriz)\n",
        "mat2 = Matriz(10,5)\n",
        "print(mat2.matriz)"
      ],
      "metadata": {
        "id": "FBJpzkbuk_YS"
      },
      "execution_count": null,
      "outputs": []
    },
    {
      "cell_type": "markdown",
      "source": [
        "Uma das grandes vantagens da POO, como já citado, é o encapsulamento, ou seja, orientar as ações através de métodos. Então, vamos criar 2 métodos que são interessantes para manipular uma matriz:\n",
        "* **inserir_dado**: Permite inserir um dado em uma posição específica da matriz, definida pelos índices de linha e coluna. Verifica se os índices fornecidos estão dentro dos limites da matriz antes de realizar a inserção.\n",
        "* **obter_dado**: Retorna o dado armazenado na posição especificada pela linha e coluna. Também verifica se os índices estão dentro dos limites para evitar erros."
      ],
      "metadata": {
        "id": "p9dY72zrpApu"
      }
    },
    {
      "cell_type": "code",
      "source": [
        "class Matriz:\n",
        "    def __init__(self, linhas, colunas):\n",
        "        self.linhas = linhas\n",
        "        self.colunas = colunas\n",
        "        self.matriz = [[None for _ in range(colunas)] for _ in range(linhas)]\n",
        "\n",
        "    def inserir_dado(self, linha, coluna, dado):\n",
        "        if 0 <= linha < self.linhas and 0 <= coluna < self.colunas:\n",
        "            self.matriz[linha][coluna] = dado\n",
        "        else:\n",
        "            print(\"Erro: Índices de linha ou coluna fora dos limites.\")\n",
        "\n",
        "    def obter_dado(self, linha, coluna):\n",
        "        if 0 <= linha < self.linhas and 0 <= coluna < self.colunas:\n",
        "            return self.matriz[linha][coluna]\n",
        "        else:\n",
        "            print(\"Erro: Índices de linha ou coluna fora dos limites.\")\n",
        "            return None\n",
        "\n",
        "mat = Matriz(2,2)\n",
        "mat.inserir_dado(0,0,5)\n",
        "print(mat.matriz)\n",
        "x = mat.obter_dado(0,0)\n",
        "print(x)"
      ],
      "metadata": {
        "id": "A64t-cpLsU9Z"
      },
      "execution_count": null,
      "outputs": []
    },
    {
      "cell_type": "markdown",
      "source": [
        "## **Exercício**\n",
        "Usando essa mesma classe Matriz, vamos adicionar:\n",
        "* um atributo novo 'qtd_elementos' que irá sempre ser atualizado com a quantidade de elementos preenchidos da matriz;\n",
        "* um método 'remove_dado', que remove um dado (volta a ser None) em uma determinada posição"
      ],
      "metadata": {
        "id": "I-ZGQuLy9AlI"
      }
    },
    {
      "cell_type": "code",
      "source": [
        "\n"
      ],
      "metadata": {
        "id": "Dkgjw7H8ZTTd"
      },
      "execution_count": null,
      "outputs": []
    },
    {
      "cell_type": "markdown",
      "source": [
        "# **PILHA (STACK)**\n",
        "\n",
        "**Pilha** é uma estrutura de dados abstrata que opera no princípio de **LIFO** (*Last In, First Out*), ou seja, o último elemento que é inserido na pilha é o primeiro a ser removido. Imagine uma pilha de pratos: você sempre coloca um novo prato no topo da pilha, e quando vai retirar um prato, você retira o que está no topo, que foi o último colocado.\n",
        "\n",
        "**REGRA PRINCIPAL:** **O último que entra é o primeiro que sai!**\n",
        "\n",
        "![Imagem de uma Pilha](https://upload.wikimedia.org/wikipedia/commons/e/e4/Lifo_stack.svg)\n",
        "\n",
        "## **Principais Operações de uma Pilha**\n",
        "* **Push**: Adiciona um elemento ao topo da pilha. Exemplo: Se a pilha contém os elementos [1, 2, 3] e você faz um push(4), a pilha agora conterá [1, 2, 3, 4].\n",
        "\n",
        "* **Pop**: Remove e retorna o elemento do topo da pilha. Exemplo: Se a pilha contém [1, 2, 3, 4], um pop() removerá e retornará 4, deixando a pilha com [1, 2, 3].\n",
        "\n",
        "* **Peek** (ou Top): Retorna o elemento do topo da pilha sem removê-lo. Exemplo: Se a pilha contém [1, 2, 3], um peek() retornará 3, mas a pilha permanecerá intacta.\n",
        "\n",
        "* **'Está Vazia'**: Verifica se a pilha está vazia, retornando *True* se não houver elementos e *False* caso contrário. Exemplo: Uma pilha que contém [1, 2, 3] não está vazia, então esta_vazia() retornará False.\n",
        "\n",
        "## **Onde é usado?**\n",
        "Pilhas são usadas em várias aplicações computacionais e algoritmos, como:\n",
        "\n",
        "* Undo/Redo em editores de texto, onde a última ação pode ser desfeita.\n",
        "* Avaliação de expressões (como expressões matemáticas) utilizando notação pós-fixa (notação polonesa reversa).\n",
        "* Backtracking, onde você precisa explorar caminhos e voltar atrás para testar alternativas (por exemplo, em soluções de labirintos).\n",
        "* Navegação na web, onde o histórico de páginas pode ser tratado como uma pilha: a última página visitada é a primeira que você retorna ao usar o botão \"Voltar\"."
      ],
      "metadata": {
        "id": "4eb96XNIzpcW"
      }
    },
    {
      "cell_type": "markdown",
      "source": [
        "## **Nó**\n",
        "\n",
        "Todo elemento de uma estrutura de dados é comumente chamado de **Nó**. Um nó possui no mínimo 2 atributos básicos: **um valor** e **uma referência ao próximo elemento**."
      ],
      "metadata": {
        "id": "UbzObMgq1L2i"
      }
    },
    {
      "cell_type": "code",
      "source": [
        "class No:\n",
        "    def __init__(self, valor):\n",
        "        self.valor = valor\n",
        "        self.proximo = None"
      ],
      "metadata": {
        "id": "Yze7QSG21qIC"
      },
      "execution_count": null,
      "outputs": []
    },
    {
      "cell_type": "markdown",
      "source": [
        "# **Implementando uma Pilha**\n",
        "\n",
        "Agora vamos implementar uma classe Pilha, que irá representar a estrutura de dados. Inicialmente, em uma pilha vazia, precisamos definir uma referência para o topo (último que entrou e primeiro que sairá) e seu tamanho."
      ],
      "metadata": {
        "id": "lBuqddBZ1vG-"
      }
    },
    {
      "cell_type": "code",
      "source": [
        "class Pilha:\n",
        "    def __init__(self):\n",
        "        # Inicializa uma pilha vazia, com o topo apontando para None.\n",
        "        self.topo = None\n",
        "        self.tamanho = 0"
      ],
      "metadata": {
        "id": "_2XA8eFT2i8_"
      },
      "execution_count": null,
      "outputs": []
    },
    {
      "cell_type": "markdown",
      "source": [
        "Vamos agora implementar as 4 operações já citadas (Push, Pop, Peek e 'Está Vazia'), além de mais dois métodos: um método para que nos mostre o tamanho atual da pilha e outro que mostre como a pilha está formada."
      ],
      "metadata": {
        "id": "B3eHejqO2t_O"
      }
    },
    {
      "cell_type": "code",
      "source": [
        "class No:\n",
        "    def __init__(self, valor):\n",
        "        # Inicializa um nó com o valor fornecido e o próximo nó como None.\n",
        "        self.valor = valor\n",
        "        self.proximo = None\n",
        "\n",
        "class Pilha:\n",
        "    def __init__(self):\n",
        "        # Inicializa uma pilha vazia, com o topo apontando para None.\n",
        "        self.topo = None\n",
        "        self.tamanho = 0\n",
        "\n",
        "    def push(self, item):\n",
        "        # Cria um novo nó com o valor do item e o insere no topo da pilha.\n",
        "        novo_no = No(item)\n",
        "        novo_no.proximo = self.topo  # Aponta o novo nó para o nó que estava no topo.\n",
        "        self.topo = novo_no  # Atualiza o topo para ser o novo nó.\n",
        "        self.tamanho += 1  # Incrementa o tamanho da pilha.\n",
        "\n",
        "    def pop(self):\n",
        "        # Remove e retorna o valor do nó no topo da pilha.\n",
        "        # Se a pilha estiver vazia, retorna None.\n",
        "        if self.esta_vazia():\n",
        "            return None\n",
        "        valor_removido = self.topo.valor\n",
        "        self.topo = self.topo.proximo  # Atualiza o topo para o próximo nó.\n",
        "        self.tamanho -= 1  # Decrementa o tamanho da pilha.\n",
        "        return valor_removido\n",
        "\n",
        "    def peek(self):\n",
        "        # Retorna o valor do nó no topo da pilha sem removê-lo.\n",
        "        # Se a pilha estiver vazia, retorna None.\n",
        "        if self.esta_vazia():\n",
        "            return None\n",
        "        return self.topo.valor\n",
        "\n",
        "    def esta_vazia(self):\n",
        "        # Retorna True se a pilha estiver vazia; caso contrário, False.\n",
        "        return self.topo is None\n",
        "\n",
        "    def tamanho_pilha(self):\n",
        "        # Retorna o tamanho atual da pilha.\n",
        "        return self.tamanho\n",
        "\n",
        "    def exibir_pilha(self):\n",
        "        # Método para exibir todos os valores na pilha\n",
        "        atual = self.topo\n",
        "        while atual is not None:\n",
        "            print(atual.valor)\n",
        "            atual = atual.proximo"
      ],
      "metadata": {
        "id": "K_0SrVfl28mK"
      },
      "execution_count": null,
      "outputs": []
    },
    {
      "cell_type": "markdown",
      "source": [
        "## Trabalhando com a Pilha\n",
        "\n",
        "Vamos simular uma pequena 'To-Do List', em que a regra será a última tarefa que entrar será a primeira a ser realizada."
      ],
      "metadata": {
        "id": "vMBOUgXgFjZf"
      }
    },
    {
      "cell_type": "code",
      "source": [
        "pilha = Pilha()\n",
        "\n",
        "pilha.push(\"Estudar Python\")\n",
        "pilha.push(\"Lavar louça\")\n",
        "pilha.push(\"Toma uma\")\n",
        "\n",
        "pilha.exibir_pilha()\n",
        "print(pilha.tamanho_pilha())\n",
        "\n",
        "pilha.pop()\n",
        "\n",
        "pilha.exibir_pilha()\n",
        "print(pilha.tamanho_pilha())"
      ],
      "metadata": {
        "colab": {
          "base_uri": "https://localhost:8080/"
        },
        "id": "cnyweoeahurs",
        "outputId": "7db951d9-b489-4c5f-a7c7-cb6f0cdbeb8c"
      },
      "execution_count": null,
      "outputs": [
        {
          "output_type": "stream",
          "name": "stdout",
          "text": [
            "Toma uma\n",
            "Lavar louça\n",
            "Estudar Python\n",
            "3\n",
            "Lavar louça\n",
            "Estudar Python\n",
            "2\n"
          ]
        }
      ]
    },
    {
      "cell_type": "markdown",
      "source": [
        "## Visualizando uma pilha\n",
        "\n",
        "Bem abstrato, certo. Vamos explorar uma ferramenta muito interessante chamada [PythonTutor](https://pythontutor.com/), que mostra graficamente a execução de um código em Python e as estruturas de dados envolvidas."
      ],
      "metadata": {
        "id": "QhFWV6EZE4lA"
      }
    }
  ]
}