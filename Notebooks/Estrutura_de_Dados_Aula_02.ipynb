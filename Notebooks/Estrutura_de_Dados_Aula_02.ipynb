{
  "nbformat": 4,
  "nbformat_minor": 0,
  "metadata": {
    "colab": {
      "provenance": [],
      "authorship_tag": "ABX9TyP8S2N71h9WiPbVJYe3YWUW",
      "include_colab_link": true
    },
    "kernelspec": {
      "name": "python3",
      "display_name": "Python 3"
    },
    "language_info": {
      "name": "python"
    }
  },
  "cells": [
    {
      "cell_type": "markdown",
      "metadata": {
        "id": "view-in-github",
        "colab_type": "text"
      },
      "source": [
        "<a href=\"https://colab.research.google.com/github/humbertozanetti/estruturadedados/blob/main/Notebooks/Estrutura_de_Dados_Aula_02.ipynb\" target=\"_parent\"><img src=\"https://colab.research.google.com/assets/colab-badge.svg\" alt=\"Open In Colab\"/></a>"
      ]
    },
    {
      "cell_type": "markdown",
      "source": [
        "# **ESTRUTURA DE DADOS - AULA 02**\n",
        "# **Prof. Dr. Humberto A. P. Zanetti**\n",
        "# Fatec Deputado Ary Fossen - Jundiaí\n",
        "\n",
        "\n",
        "---\n",
        "\n",
        "**Conteúdo da aula:**\n",
        "* Funções e recursividade\n",
        "* Dicts (dicionários)\n",
        "\n",
        "\n",
        "\n",
        "\n",
        "\n",
        "---"
      ],
      "metadata": {
        "id": "EerNmLPLXdWB"
      }
    },
    {
      "cell_type": "markdown",
      "source": [
        "\n",
        "# ***Dict*** **(Dicionário)**\n",
        "\n",
        "Dicionários em Python (dict)\n",
        "Um dicionário em Python, ou dict, é uma coleção de pares chave-valor. Cada chave é única e está associada a um valor. Os dicionários são úteis para armazenar dados que precisam ser rapidamente acessados por meio de uma chave, como registros, configurações, ou contagens.\n",
        "\n",
        "**Características dos Dicionários:**\n",
        "* Chaves únicas: Cada chave em um dicionário deve ser única. Se você atribuir um novo valor a uma chave já existente, o valor antigo será sobrescrito.\n",
        "* Mutáveis: Você pode adicionar, modificar ou remover pares chave-valor.\n",
        "* Desordenados (até Python 3.6): A partir do Python 3.7, a ordem dos itens inseridos no dicionário é mantida.\n",
        "* Acesso rápido: Os valores podem ser acessados rapidamente usando as chaves."
      ],
      "metadata": {
        "id": "_WGLAddc4AHd"
      }
    },
    {
      "cell_type": "code",
      "source": [
        "meu_dict = {}  # Dicionário vazio\n",
        "meu_dict['nome'] = 'Alice'\n",
        "meu_dict['idade'] = 25\n",
        "meu_dict['cidade'] = 'São Paulo'\n",
        "print(meu_dict)  # Saída: {'nome': 'Alice', 'idade': 25, 'cidade': 'São Paulo'}"
      ],
      "metadata": {
        "id": "NDd8OVgs4hcB"
      },
      "execution_count": null,
      "outputs": []
    },
    {
      "cell_type": "markdown",
      "source": [
        "**Criando um dicionário com valores iniciais:**"
      ],
      "metadata": {
        "id": "f7gFtWk-4iw9"
      }
    },
    {
      "cell_type": "code",
      "source": [
        "meu_dict = {'nome': 'Betina', 'idade': 6, 'cidade': 'Itatiba'}\n",
        "print(meu_dict['nome'])  # Saída: Betina\n",
        "print(meu_dict['idade'])  # Saída: 6"
      ],
      "metadata": {
        "id": "lbFu-oEo5Ku_"
      },
      "execution_count": null,
      "outputs": []
    },
    {
      "cell_type": "markdown",
      "source": [
        "**Usando o método get() para acessar valores:**\n",
        "\n",
        "O método get() permite acessar valores em um dicionário sem gerar um erro se a chave não existir."
      ],
      "metadata": {
        "id": "z_veuCeA5kKV"
      }
    },
    {
      "cell_type": "code",
      "source": [
        "meu_dict = {'nome': 'Betina', 'idade': 6}\n",
        "print(meu_dict.get('nome'))  # Saída: Betina\n",
        "print(meu_dict.get('profissao', 'Desconhecido'))  # Saída: Desconhecido"
      ],
      "metadata": {
        "id": "gad1HzbK5pfl"
      },
      "execution_count": null,
      "outputs": []
    },
    {
      "cell_type": "markdown",
      "source": [
        "**Modificando Dicionários:**\n",
        "Adicionando ou atualizando um par chave-valor:"
      ],
      "metadata": {
        "id": "9vauGEin5q6t"
      }
    },
    {
      "cell_type": "code",
      "source": [
        "meu_dict = {'nome': 'Betina', 'idade': 6}\n",
        "meu_dict['idade'] = 7  # Atualizando a idade\n",
        "meu_dict['profissao'] = 'Estudante'  # Adicionando uma nova chave\n",
        "print(meu_dict)  # Saída: {'nome': 'Betina', 'idade': 7, 'profissao': 'Estudante'}"
      ],
      "metadata": {
        "id": "EBrzyacv5t_z"
      },
      "execution_count": null,
      "outputs": []
    },
    {
      "cell_type": "markdown",
      "source": [
        "**Removendo pares chave-valor:**\n",
        "\n",
        "Você pode remover itens usando del, pop() ou popitem()."
      ],
      "metadata": {
        "id": "1gWYfUhf5wph"
      }
    },
    {
      "cell_type": "code",
      "source": [
        "meu_dict = {'nome': 'Betina', 'idade': 6, 'cidade': 'São Paulo'}\n",
        "\n",
        "# Usando del\n",
        "del meu_dict['cidade']\n",
        "print(meu_dict)  # Saída: {'nome': 'Betina', 'idade': 6}\n",
        "\n",
        "# Usando pop()\n",
        "idade = meu_dict.pop('idade')\n",
        "print(idade)  # Saída: 6\n",
        "print(meu_dict)  # Saída: {'nome': 'Betina'}\n",
        "\n",
        "# Usando popitem() (remove o último item inserido)\n",
        "meu_dict['pais'] = 'Brasil'\n",
        "item_removido = meu_dict.popitem()\n",
        "print(item_removido)  # Saída: ('pais', 'Brasil')\n",
        "print(meu_dict)  # Saída: {'nome': 'Betina'}"
      ],
      "metadata": {
        "id": "G1I5kSX35yPh"
      },
      "execution_count": null,
      "outputs": []
    },
    {
      "cell_type": "markdown",
      "source": [
        "**Limpando todos os itens de um dicionário:**"
      ],
      "metadata": {
        "id": "ZqRQx6x850R5"
      }
    },
    {
      "cell_type": "code",
      "source": [
        "meu_dict = {'nome': 'Betina', 'idade': 6}\n",
        "meu_dict.clear()\n",
        "print(meu_dict)  # Saída: {}"
      ],
      "metadata": {
        "id": "UYEoT86u53Gt"
      },
      "execution_count": null,
      "outputs": []
    },
    {
      "cell_type": "markdown",
      "source": [
        "**Iterando sobre Dicionários:**\n",
        "Iterando sobre as chaves de um dicionário:"
      ],
      "metadata": {
        "id": "oOPqUdun54vK"
      }
    },
    {
      "cell_type": "code",
      "source": [
        "meu_dict = {'nome': 'Betina', 'idade': 6, 'cidade': 'Itatiba'}\n",
        "for chave in meu_dict:\n",
        "    print(chave)"
      ],
      "metadata": {
        "id": "qq9L6FK357TD"
      },
      "execution_count": null,
      "outputs": []
    },
    {
      "cell_type": "markdown",
      "source": [
        "**Iterando sobre os valores de um dicionário:**"
      ],
      "metadata": {
        "id": "-vZFv3ZO6KEV"
      }
    },
    {
      "cell_type": "code",
      "source": [
        "meu_dict = {'nome': 'Betina', 'idade': 6, 'cidade': 'São Paulo'}\n",
        "for valor in meu_dict.values():\n",
        "    print(valor)"
      ],
      "metadata": {
        "id": "c8KeumWu6Lvh"
      },
      "execution_count": null,
      "outputs": []
    },
    {
      "cell_type": "markdown",
      "source": [
        "**Iterando sobre as chaves e valores de um dicionário:**"
      ],
      "metadata": {
        "id": "R2jW0Ecc6VSJ"
      }
    },
    {
      "cell_type": "code",
      "source": [
        "meu_dict = {'nome': 'Betina', 'idade': 6, 'cidade': 'São Paulo'}\n",
        "for chave, valor in meu_dict.items():\n",
        "    print(f'Chave: {chave}, Valor: {valor}')"
      ],
      "metadata": {
        "id": "J2H6WSwj6WWC"
      },
      "execution_count": null,
      "outputs": []
    },
    {
      "cell_type": "markdown",
      "source": [
        "**Mesclando dois dicionários:**\n",
        "\n",
        "A partir do Python 3.9, você pode usar o operador | para mesclar dicionários."
      ],
      "metadata": {
        "id": "2RNLUWiP6aYi"
      }
    },
    {
      "cell_type": "code",
      "source": [
        "dict1 = {'nome': 'Betina', 'idade': 6}\n",
        "dict2 = {'cidade': 'Itatiba', 'pais': 'Brasil'}\n",
        "dict_mesclado = dict1 | dict2\n",
        "print(dict_mesclado)  # Saída: {'nome': 'Betina', 'idade': 6, 'cidade': 'Itatiba', 'pais': 'Brasil'}"
      ],
      "metadata": {
        "id": "PkAlqK-06bqB"
      },
      "execution_count": null,
      "outputs": []
    },
    {
      "cell_type": "markdown",
      "source": [
        "**Exemplo Prático:**\n",
        "Imagine que você tem um registro de estudantes com suas notas e quer calcular a média das notas de cada aluno:"
      ],
      "metadata": {
        "id": "Ov9WiPtL6jV5"
      }
    },
    {
      "cell_type": "code",
      "source": [
        "notas = {\n",
        "    'Betina': [8, 7.5, 9],\n",
        "    'Bruno': [6, 7, 8],\n",
        "    'Carla': [9, 9.5, 10]\n",
        "}\n",
        "\n",
        "# Calculando a média das notas\n",
        "medias = {}\n",
        "for aluno, notas_aluno in notas.items():\n",
        "    media = sum(notas_aluno) / len(notas_aluno)\n",
        "    medias[aluno] = media\n",
        "\n",
        "print(medias)"
      ],
      "metadata": {
        "id": "rzzzFr6w6lKN"
      },
      "execution_count": null,
      "outputs": []
    },
    {
      "cell_type": "markdown",
      "source": [
        "Os dicionários são uma das estruturas de dados mais flexíveis e úteis em Python. Eles permitem um acesso rápido e eficiente aos dados através de chaves e são ideais para situações onde você precisa armazenar e manipular associações entre valores (como registros, contagens e configurações). A capacidade de modificar, adicionar e remover pares chave-valor torna os dicionários uma ferramenta essencial para a programação em Python.  \n",
        "Um dos formatos de dados mais utilizados atualmente é um representção fiel à estrutura de um dicionário é o formato JSON!"
      ],
      "metadata": {
        "id": "4_ME_hUd6ok2"
      }
    },
    {
      "cell_type": "markdown",
      "source": [
        "## **EXERCÍCIO**\n",
        "\n",
        "Você recebeu um trabalho em que é necessário pegar dados em uma base de CEP, não só para validar, mas também para utilizar esses dados em outras aplicações e armazenamento em Banco de Dados.  \n",
        "É sábido que esses dados estão armazenados em arquivos JSON. Portanto, temos que **\"consumir\"** esses dados e manipular em um formato equivalente em Python, que seria um ***dict***.  \n",
        "\n",
        "Essa base de CEP é disponibilizada de forma aberta pela Governo, através da Brasil API."
      ],
      "metadata": {
        "id": "haZcdMUXEv8Q"
      }
    },
    {
      "cell_type": "code",
      "source": [
        "import requests\n",
        "\n",
        "def buscar_cep(cep):\n",
        "    url = f\"https://brasilapi.com.br/api/cep/v1/{cep}\"\n",
        "    resposta = requests.get(url)\n",
        "\n",
        "    if resposta.status_code == 200:\n",
        "        dados = resposta.json()\n",
        "        endereco = {\n",
        "            \"CEP\": dados.get(\"cep\"),\n",
        "            \"Rua\": dados.get(\"street\"),\n",
        "            \"Bairro\": dados.get(\"neighborhood\"),\n",
        "            \"Cidade\": dados.get(\"city\"),\n",
        "            \"Estado\": dados.get(\"state\")\n",
        "        }\n",
        "        return endereco\n",
        "    else:\n",
        "        return {\"Erro\": \"CEP inválido ou não encontrado\"}\n",
        "\n"
      ],
      "metadata": {
        "id": "erIFsUK7FULx"
      },
      "execution_count": 1,
      "outputs": []
    },
    {
      "cell_type": "markdown",
      "source": [
        "Vamos utilizar essa função:"
      ],
      "metadata": {
        "id": "t1lSZV8YsWCa"
      }
    },
    {
      "cell_type": "code",
      "source": [
        "cep_exemplo = \"13201-160\"\n",
        "resultado = buscar_cep(cep_exemplo)\n",
        "print(resultado)"
      ],
      "metadata": {
        "id": "Gw-zunF_sZbh"
      },
      "execution_count": null,
      "outputs": []
    },
    {
      "cell_type": "markdown",
      "source": [
        "Vemos que nosso arquivo JSON fica formatado diretamente em dicionário:\n",
        "\n",
        "```python\n",
        "{\n",
        "  'CEP': '13201160',\n",
        "  'Rua': 'Avenida União dos Ferroviários',\n",
        "  'Bairro': 'Ponte de Campinas',\n",
        "  'Cidade': 'Jundiaí',\n",
        "  'Estado': 'SP'\n",
        "}\n",
        "```"
      ],
      "metadata": {
        "id": "LfxygMDjs-rT"
      }
    },
    {
      "cell_type": "markdown",
      "source": [
        "https://brasilapi.com.br/api/cambio/v1/cotacao/USD/2025-02-23"
      ],
      "metadata": {
        "id": "no8Dj7ulyJCm"
      }
    }
  ]
}