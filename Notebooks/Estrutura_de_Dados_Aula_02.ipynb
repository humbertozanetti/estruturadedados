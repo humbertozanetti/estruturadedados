{
  "nbformat": 4,
  "nbformat_minor": 0,
  "metadata": {
    "colab": {
      "provenance": [],
      "authorship_tag": "ABX9TyPifqxDPXc+i5HrLB3tZg7J",
      "include_colab_link": true
    },
    "kernelspec": {
      "name": "python3",
      "display_name": "Python 3"
    },
    "language_info": {
      "name": "python"
    }
  },
  "cells": [
    {
      "cell_type": "markdown",
      "metadata": {
        "id": "view-in-github",
        "colab_type": "text"
      },
      "source": [
        "<a href=\"https://colab.research.google.com/github/humbertozanetti/estruturadedados/blob/main/Notebooks/Estrutura_de_Dados_Aula_02.ipynb\" target=\"_parent\"><img src=\"https://colab.research.google.com/assets/colab-badge.svg\" alt=\"Open In Colab\"/></a>"
      ]
    },
    {
      "cell_type": "markdown",
      "source": [
        "# **ESTRUTURA DE DADOS - AULA 02**\n",
        "# **Prof. Dr. Humberto A. P. Zanetti**\n",
        "# Fatec Deputado Ary Fossen - Jundiaí\n",
        "\n",
        "\n",
        "---\n",
        "\n",
        "**Conteúdo da aula:**\n",
        "* Funções e recursividade\n",
        "* Dicts (dicionários)\n",
        "\n",
        "\n",
        "\n",
        "\n",
        "\n",
        "---"
      ],
      "metadata": {
        "id": "EerNmLPLXdWB"
      }
    },
    {
      "cell_type": "markdown",
      "source": [
        "\n",
        "# ***Dict*** **(Dicionário)**\n",
        "\n",
        "Dicionários em Python (dict)\n",
        "Um dicionário em Python, ou dict, é uma coleção de pares chave-valor. Cada chave é única e está associada a um valor. Os dicionários são úteis para armazenar dados que precisam ser rapidamente acessados por meio de uma chave, como registros, configurações, ou contagens.\n",
        "\n",
        "**Características dos Dicionários:**\n",
        "* Chaves únicas: Cada chave em um dicionário deve ser única. Se você atribuir um novo valor a uma chave já existente, o valor antigo será sobrescrito.\n",
        "* Mutáveis: Você pode adicionar, modificar ou remover pares chave-valor.\n",
        "* Desordenados (até Python 3.6): A partir do Python 3.7, a ordem dos itens inseridos no dicionário é mantida.\n",
        "* Acesso rápido: Os valores podem ser acessados rapidamente usando as chaves."
      ],
      "metadata": {
        "id": "_WGLAddc4AHd"
      }
    },
    {
      "cell_type": "code",
      "source": [
        "meu_dict = {}  # Dicionário vazio\n",
        "meu_dict['nome'] = 'Alice'\n",
        "meu_dict['idade'] = 25\n",
        "meu_dict['cidade'] = 'São Paulo'\n",
        "print(meu_dict)  # Saída: {'nome': 'Alice', 'idade': 25, 'cidade': 'São Paulo'}"
      ],
      "metadata": {
        "id": "NDd8OVgs4hcB"
      },
      "execution_count": null,
      "outputs": []
    },
    {
      "cell_type": "markdown",
      "source": [
        "**Criando um dicionário com valores iniciais:**"
      ],
      "metadata": {
        "id": "f7gFtWk-4iw9"
      }
    },
    {
      "cell_type": "code",
      "source": [
        "meu_dict = {'nome': 'Betina', 'idade': 6, 'cidade': 'Itatiba'}\n",
        "print(meu_dict['nome'])  # Saída: Betina\n",
        "print(meu_dict['idade'])  # Saída: 6"
      ],
      "metadata": {
        "id": "lbFu-oEo5Ku_"
      },
      "execution_count": null,
      "outputs": []
    },
    {
      "cell_type": "markdown",
      "source": [
        "**Usando o método get() para acessar valores:**\n",
        "\n",
        "O método get() permite acessar valores em um dicionário sem gerar um erro se a chave não existir."
      ],
      "metadata": {
        "id": "z_veuCeA5kKV"
      }
    },
    {
      "cell_type": "code",
      "source": [
        "meu_dict = {'nome': 'Betina', 'idade': 6}\n",
        "print(meu_dict.get('nome'))  # Saída: Betina\n",
        "print(meu_dict.get('profissao', 'Desconhecido'))  # Saída: Desconhecido"
      ],
      "metadata": {
        "id": "gad1HzbK5pfl"
      },
      "execution_count": null,
      "outputs": []
    },
    {
      "cell_type": "markdown",
      "source": [
        "**Modificando Dicionários:**\n",
        "Adicionando ou atualizando um par chave-valor:"
      ],
      "metadata": {
        "id": "9vauGEin5q6t"
      }
    },
    {
      "cell_type": "code",
      "source": [
        "meu_dict = {'nome': 'Betina', 'idade': 6}\n",
        "meu_dict['idade'] = 7  # Atualizando a idade\n",
        "meu_dict['profissao'] = 'Estudante'  # Adicionando uma nova chave\n",
        "print(meu_dict)  # Saída: {'nome': 'Betina', 'idade': 7, 'profissao': 'Estudante'}"
      ],
      "metadata": {
        "id": "EBrzyacv5t_z"
      },
      "execution_count": null,
      "outputs": []
    },
    {
      "cell_type": "markdown",
      "source": [
        "**Removendo pares chave-valor:**\n",
        "\n",
        "Você pode remover itens usando del, pop() ou popitem()."
      ],
      "metadata": {
        "id": "1gWYfUhf5wph"
      }
    },
    {
      "cell_type": "code",
      "source": [
        "meu_dict = {'nome': 'Betina', 'idade': 6, 'cidade': 'São Paulo'}\n",
        "\n",
        "# Usando del\n",
        "del meu_dict['cidade']\n",
        "print(meu_dict)  # Saída: {'nome': 'Betina', 'idade': 6}\n",
        "\n",
        "# Usando pop()\n",
        "idade = meu_dict.pop('idade')\n",
        "print(idade)  # Saída: 6\n",
        "print(meu_dict)  # Saída: {'nome': 'Betina'}\n",
        "\n",
        "# Usando popitem() (remove o último item inserido)\n",
        "meu_dict['pais'] = 'Brasil'\n",
        "item_removido = meu_dict.popitem()\n",
        "print(item_removido)  # Saída: ('pais', 'Brasil')\n",
        "print(meu_dict)  # Saída: {'nome': 'Betina'}"
      ],
      "metadata": {
        "id": "G1I5kSX35yPh"
      },
      "execution_count": null,
      "outputs": []
    },
    {
      "cell_type": "markdown",
      "source": [
        "**Limpando todos os itens de um dicionário:**"
      ],
      "metadata": {
        "id": "ZqRQx6x850R5"
      }
    },
    {
      "cell_type": "code",
      "source": [
        "meu_dict = {'nome': 'Betina', 'idade': 6}\n",
        "meu_dict.clear()\n",
        "print(meu_dict)  # Saída: {}"
      ],
      "metadata": {
        "id": "UYEoT86u53Gt"
      },
      "execution_count": null,
      "outputs": []
    },
    {
      "cell_type": "markdown",
      "source": [
        "**Iterando sobre Dicionários:**\n",
        "Iterando sobre as chaves de um dicionário:"
      ],
      "metadata": {
        "id": "oOPqUdun54vK"
      }
    },
    {
      "cell_type": "code",
      "source": [
        "meu_dict = {'nome': 'Betina', 'idade': 6, 'cidade': 'Itatiba'}\n",
        "for chave in meu_dict:\n",
        "    print(chave)"
      ],
      "metadata": {
        "id": "qq9L6FK357TD"
      },
      "execution_count": null,
      "outputs": []
    },
    {
      "cell_type": "markdown",
      "source": [
        "**Iterando sobre os valores de um dicionário:**"
      ],
      "metadata": {
        "id": "-vZFv3ZO6KEV"
      }
    },
    {
      "cell_type": "code",
      "source": [
        "meu_dict = {'nome': 'Betina', 'idade': 6, 'cidade': 'São Paulo'}\n",
        "for valor in meu_dict.values():\n",
        "    print(valor)"
      ],
      "metadata": {
        "id": "c8KeumWu6Lvh"
      },
      "execution_count": null,
      "outputs": []
    },
    {
      "cell_type": "markdown",
      "source": [
        "**Iterando sobre as chaves e valores de um dicionário:**"
      ],
      "metadata": {
        "id": "R2jW0Ecc6VSJ"
      }
    },
    {
      "cell_type": "code",
      "source": [
        "meu_dict = {'nome': 'Betina', 'idade': 6, 'cidade': 'São Paulo'}\n",
        "for chave, valor in meu_dict.items():\n",
        "    print(f'Chave: {chave}, Valor: {valor}')"
      ],
      "metadata": {
        "id": "J2H6WSwj6WWC"
      },
      "execution_count": null,
      "outputs": []
    },
    {
      "cell_type": "markdown",
      "source": [
        "**Mesclando dois dicionários:**\n",
        "\n",
        "A partir do Python 3.9, você pode usar o operador | para mesclar dicionários."
      ],
      "metadata": {
        "id": "2RNLUWiP6aYi"
      }
    },
    {
      "cell_type": "code",
      "source": [
        "dict1 = {'nome': 'Betina', 'idade': 6}\n",
        "dict2 = {'cidade': 'Itatiba', 'pais': 'Brasil'}\n",
        "dict_mesclado = dict1 | dict2\n",
        "print(dict_mesclado)  # Saída: {'nome': 'Betina', 'idade': 6, 'cidade': 'Itatiba', 'pais': 'Brasil'}"
      ],
      "metadata": {
        "id": "PkAlqK-06bqB"
      },
      "execution_count": null,
      "outputs": []
    },
    {
      "cell_type": "markdown",
      "source": [
        "**Exemplo Prático:**\n",
        "Imagine que você tem um registro de estudantes com suas notas e quer calcular a média das notas de cada aluno:"
      ],
      "metadata": {
        "id": "Ov9WiPtL6jV5"
      }
    },
    {
      "cell_type": "code",
      "source": [
        "notas = {\n",
        "    'Betina': [8, 7.5, 9],\n",
        "    'Bruno': [6, 7, 8],\n",
        "    'Carla': [9, 9.5, 10]\n",
        "}\n",
        "\n",
        "# Calculando a média das notas\n",
        "medias = {}\n",
        "for aluno, notas_aluno in notas.items():\n",
        "    media = sum(notas_aluno) / len(notas_aluno)\n",
        "    medias[aluno] = media\n",
        "\n",
        "print(medias)"
      ],
      "metadata": {
        "id": "rzzzFr6w6lKN"
      },
      "execution_count": null,
      "outputs": []
    },
    {
      "cell_type": "markdown",
      "source": [
        "Os dicionários são uma das estruturas de dados mais flexíveis e úteis em Python. Eles permitem um acesso rápido e eficiente aos dados através de chaves e são ideais para situações onde você precisa armazenar e manipular associações entre valores (como registros, contagens e configurações). A capacidade de modificar, adicionar e remover pares chave-valor torna os dicionários uma ferramenta essencial para a programação em Python.  \n",
        "Um dos formatos de dados mais utilizados atualmente é um representção fiel à estrutura de um dicionário é o formato JSON!"
      ],
      "metadata": {
        "id": "4_ME_hUd6ok2"
      }
    },
    {
      "cell_type": "markdown",
      "source": [
        "## **EXERCÍCIO**\n",
        "\n",
        "Você recebeu um arquivo JSON contendo informações de vários alunos, incluindo nome, idade e as notas que eles tiraram em três disciplinas. Sua tarefa é implementar um programa em Python que:\n",
        "\n",
        "Calcule a média das notas de cada aluno.\n",
        "Adicione a média ao dicionário de cada aluno.\n",
        "Salve o dicionário atualizado de volta em um arquivo JSON.\n",
        "\n",
        "**Arquivo \"alunos.json\"**"
      ],
      "metadata": {
        "id": "haZcdMUXEv8Q"
      }
    },
    {
      "cell_type": "markdown",
      "source": [
        "[\n",
        "    {\"nome\": \"Betina\", \"idade\": 6, \"notas\": [9, 8, 10]},\n",
        "    {\"nome\": \"Bruno\", \"idade\": 7, \"notas\": [7, 8, 6]},\n",
        "    {\"nome\": \"Carla\", \"idade\": 8, \"notas\": [10, 9, 10]}\n",
        "]"
      ],
      "metadata": {
        "id": "P0EsrAYyFEt-"
      }
    },
    {
      "cell_type": "markdown",
      "source": [
        "Para carregar e salvar os dados em um dict:"
      ],
      "metadata": {
        "id": "ifWcIZYBFPE3"
      }
    },
    {
      "cell_type": "code",
      "source": [
        "import json\n",
        "\n",
        "# Carregando os dados do arquivo JSON\n",
        "with open('alunos.json', 'r') as arquivo:\n",
        "    alunos = json.load(arquivo)\n",
        "\n",
        "with open('alunos_atualizado.json', 'w') as arquivo:\n",
        "    json.dump(alunos, arquivo, indent=4)"
      ],
      "metadata": {
        "id": "erIFsUK7FULx"
      },
      "execution_count": null,
      "outputs": []
    }
  ]
}