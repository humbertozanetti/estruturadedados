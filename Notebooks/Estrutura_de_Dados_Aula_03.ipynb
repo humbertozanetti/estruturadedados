{
  "nbformat": 4,
  "nbformat_minor": 0,
  "metadata": {
    "colab": {
      "provenance": [],
      "authorship_tag": "ABX9TyPdKgOAic5cvxoPwJeYCNas",
      "include_colab_link": true
    },
    "kernelspec": {
      "name": "python3",
      "display_name": "Python 3"
    },
    "language_info": {
      "name": "python"
    }
  },
  "cells": [
    {
      "cell_type": "markdown",
      "metadata": {
        "id": "view-in-github",
        "colab_type": "text"
      },
      "source": [
        "<a href=\"https://colab.research.google.com/github/humbertozanetti/estruturadedados/blob/main/Notebooks/Estrutura_de_Dados_Aula_03.ipynb\" target=\"_parent\"><img src=\"https://colab.research.google.com/assets/colab-badge.svg\" alt=\"Open In Colab\"/></a>"
      ]
    },
    {
      "cell_type": "markdown",
      "source": [
        "# **ESTRUTURA DE DADOS - AULA 03**\n",
        "# **Prof. Dr. Humberto A. P. Zanetti**\n",
        "# Fatec Deputado Ary Fossen - Jundiaí\n",
        "\n",
        "\n",
        "---\n",
        "\n",
        "**Conteúdo da aula:**\n",
        "+ NumPy\n",
        "  - Vetores\n",
        "  - Matrizes\n",
        "+ Introdução a manipulação de arquivos\n",
        "\n",
        "\n",
        "\n",
        "\n",
        "\n",
        "---"
      ],
      "metadata": {
        "id": "n5S6edMtmeD8"
      }
    },
    {
      "cell_type": "markdown",
      "source": [
        "# **A biblioteca NumPy**"
      ],
      "metadata": {
        "id": "gczS2WEfnPbY"
      }
    },
    {
      "cell_type": "markdown",
      "source": [
        "A biblioteca **NumPy** (*Numerical Python*) é especializada em computação númerica, incluindo o trabalho com **arrays** (vetores) e **matrizes** e possui uma grande coleção de funções matemáticas eficientes para operações em larga escala.\n",
        "Entre as principais vantagens do uso do NumPy, destacam-se:\n",
        "+ Melhor desempenho que listas Python para operações matemáticas.\n",
        "+ Usa menos memória para armazenar dados.\n",
        "+ Possui operações vetorizadas que eliminam a necessidade de loops explícitos.\n",
        "+ Integração com outras bibliotecas científicas, como Pandas, Matplotlib e SciPy.\n",
        "\n",
        "Muito simples e objetivo ao uso, como podemos ver abaixo:"
      ],
      "metadata": {
        "id": "5rp45RyynZ4I"
      }
    },
    {
      "cell_type": "code",
      "source": [
        "import numpy as np\n",
        "\n",
        "vetor = np.array([1, 2, 3, 4, 5])\n",
        "print(vetor)\n"
      ],
      "metadata": {
        "id": "Uzw4rnL1pp75"
      },
      "execution_count": null,
      "outputs": []
    },
    {
      "cell_type": "markdown",
      "source": [
        "## **Por que estudar vetores e matrizes, além das listas?**\n",
        "\n",
        "Vetores são mais eficientes e rápidos porque armazenam elementos de mesmo tipo e usam operações otimizadas, desenvolvidas em C (interligando o kernel CPython).  \n",
        "Listas em Python são mais flexíveis, mas menos eficientes, pois armazenam objetos genéricos, e com isso, utilizam mais memória.  \n",
        "Vetores e matrizes trazem vantagens em relação a busca, ordenação, entre outras operações, em relação à listas.  \n",
        "Isso é muito nítido, até mesmo em um simples código podemos notar:"
      ],
      "metadata": {
        "id": "eTBlhYeooqAg"
      }
    },
    {
      "cell_type": "code",
      "source": [
        "import numpy as np\n",
        "import time\n",
        "\n",
        "lista = list(range(1_000_000))\n",
        "array = np.array(lista)\n",
        "\n",
        "inicio_lista = time.time()\n",
        "[lista[i] * 2 for i in range(len(lista))]\n",
        "print('Tempo lista:', time.time() - inicio_lista)\n",
        "\n",
        "inicio_array = time.time()\n",
        "array * 2\n",
        "print('Tempo array:', time.time() - inicio_array)\n"
      ],
      "metadata": {
        "id": "FaSB55mSpeBw"
      },
      "execution_count": null,
      "outputs": []
    },
    {
      "cell_type": "markdown",
      "source": [
        "![listaxarray](https://github.com/humbertozanetti/estruturadedados/blob/main/Notebooks/imagens/listaxarray.png?raw=1)\n",
        "\n",
        "\n",
        "| Característica | Array\t| Lista |   \n",
        "| :------------ | :---:  | :---: |\n",
        "| **Eficiência** |\tAlta (mais rápido) | \tBaixa (mais lento) |\n",
        "| **Tipos de dados** | Um único tipo\t| Qualquer tipo |\n",
        "| **Operações matemáticas** |\tVetorizadas (rápidas) |\tPrecisa de loops |\n",
        "| **Uso de memória** |\tMenor\t| Maior |\n",
        "\n",
        "Nessa aula não é possível abordar tudo o que há no Numpy, mas ele possui um excelente [documentação](https://numpy.org/doc/2.2/reference/index.html) e um [manual](https://numpy.org/doc/2.2/numpy-user.pdf) bem organizado."
      ],
      "metadata": {
        "id": "kErOECu8qS6A"
      }
    },
    {
      "cell_type": "markdown",
      "source": [
        "## **Criando vetores e matrizes**"
      ],
      "metadata": {
        "id": "HgbxXU0owfQ7"
      }
    },
    {
      "cell_type": "markdown",
      "source": [
        "Como visto anteriormente, um vetor em NumPy é criado a partir de **uma lista**."
      ],
      "metadata": {
        "id": "xTDAEvFbwzkg"
      }
    },
    {
      "cell_type": "code",
      "source": [
        "import numpy as np\n",
        "\n",
        "vetor = np.array([1, 2, 3, 4, 5])\n",
        "print(vetor)"
      ],
      "metadata": {
        "id": "WWY8Fzb1wy50"
      },
      "execution_count": null,
      "outputs": []
    },
    {
      "cell_type": "markdown",
      "source": [
        "E é igualmente simples criar uma matriz, também a partir de uma lista (de listas)."
      ],
      "metadata": {
        "id": "BmrP0BwFxHF_"
      }
    },
    {
      "cell_type": "code",
      "source": [
        "matriz = np.array([[1, 2, 3], [4, 5, 6]])\n",
        "print(matriz)\n"
      ],
      "metadata": {
        "id": "Z7TZEzd1xV5N"
      },
      "execution_count": null,
      "outputs": []
    },
    {
      "cell_type": "markdown",
      "source": [
        "Uma particularidade que deve ser notada é que se cria um **vetor** após a inserção da lista, mas ainda temos que seguir a regra que **um vetor deve ser homogêneo, ou seja, com todos os elementos do mesmo tipo!**"
      ],
      "metadata": {
        "id": "hoGn2lVhxZFg"
      }
    },
    {
      "cell_type": "code",
      "source": [
        "vetor = np.array([1, 2, 3, 4, 5.0])\n",
        "print(vetor)"
      ],
      "metadata": {
        "id": "-ITDB1nxxuRM"
      },
      "execution_count": null,
      "outputs": []
    },
    {
      "cell_type": "markdown",
      "source": [
        "Um potencial de uso da NumPy é a coleção de propriedades que temos ao utilizá-la."
      ],
      "metadata": {
        "id": "6HMUEgutyIWx"
      }
    },
    {
      "cell_type": "code",
      "source": [
        "print(vetor.shape)   # tamanho do vetor\n",
        "print(matriz.shape)  # dimensão da matriz\n",
        "\n",
        "print(vetor.ndim)    # número de dimensões\n",
        "print(matriz.ndim)\n",
        "\n",
        "print(vetor.size)    # número total de elementos\n",
        "print(matriz.size)\n"
      ],
      "metadata": {
        "id": "smqGMZaQyY0K"
      },
      "execution_count": null,
      "outputs": []
    },
    {
      "cell_type": "markdown",
      "source": [
        "Podemos também usar funções especiais de criação de vetores e matrizes.  "
      ],
      "metadata": {
        "id": "AZmTIKHC08UU"
      }
    },
    {
      "cell_type": "code",
      "source": [
        "print(np.zeros(5))          # vetor com 5 zeros\n",
        "print(np.zeros((2, 3)))     # matriz 2x3 de zeros\n",
        "print(np.ones((3, 3)))      # matriz 3x3 de uns\n",
        "print(np.eye(3))            # matriz identidade 3x3\n",
        "print(np.arange(0, 10, 2))  # sequência de 0 a 10 com passo 2\n",
        "print(np.linspace(0, 1, 5)) # 5 valores igualmente espaçados entre 0 e 1\n"
      ],
      "metadata": {
        "id": "m3vPVwvL1I5B"
      },
      "execution_count": null,
      "outputs": []
    },
    {
      "cell_type": "code",
      "source": [
        "mat_ide = np.eye(3)\n",
        "print(mat_ide)"
      ],
      "metadata": {
        "id": "rZ6E0l2fxVjj"
      },
      "execution_count": null,
      "outputs": []
    },
    {
      "cell_type": "markdown",
      "source": [
        "## **Operações matemáticas**"
      ],
      "metadata": {
        "id": "0fdrJJrOz-W7"
      }
    },
    {
      "cell_type": "markdown",
      "source": [
        "Um dos maiores destaques do uso de NumPy é a possibilidade de executar operações de forma muito mais ágil e sem uso de laços de repetição.\n",
        "\n",
        "**Operação elemento a elemento**"
      ],
      "metadata": {
        "id": "r2sAFJH80YYt"
      }
    },
    {
      "cell_type": "code",
      "source": [
        "a = np.array([1, 2, 3])\n",
        "b = np.array([4, 5, 6])\n",
        "\n",
        "print(a + b)\n",
        "print(a - b)\n",
        "print(a * b)\n",
        "print(a / b)\n",
        "print(a + 10)"
      ],
      "metadata": {
        "id": "2Qn6ilrq0pxa"
      },
      "execution_count": null,
      "outputs": []
    },
    {
      "cell_type": "markdown",
      "source": [
        "**Multiplicação de matrizes**"
      ],
      "metadata": {
        "id": "tg_96mpK0xW7"
      }
    },
    {
      "cell_type": "code",
      "source": [
        "matriz1 = np.array([[1, 2], [3, 4]])\n",
        "matriz2 = np.array([[5, 6], [7, 8]])\n",
        "\n",
        "produto = np.dot(matriz1, matriz2)\n",
        "print(produto)\n"
      ],
      "metadata": {
        "id": "4VopM3q101UH"
      },
      "execution_count": null,
      "outputs": []
    },
    {
      "cell_type": "markdown",
      "source": [
        "**Funções estatísticas**"
      ],
      "metadata": {
        "id": "3cEu5hFv2ST3"
      }
    },
    {
      "cell_type": "code",
      "source": [
        "dados = np.array([5, 10, 15, 20, 25])\n",
        "\n",
        "print(np.mean(dados))   # Média\n",
        "print(np.median(dados)) # Mediana\n",
        "print(np.std(dados))    # Desvio padrão\n",
        "print(np.sum(dados))    # Soma total\n",
        "print(np.max(dados))    # Máximo\n",
        "print(np.min(dados))    # Mínimo\n"
      ],
      "metadata": {
        "id": "boA38G5k2WY3"
      },
      "execution_count": null,
      "outputs": []
    },
    {
      "cell_type": "markdown",
      "source": [
        "Exemplo:"
      ],
      "metadata": {
        "id": "LhkmlJpr2a2B"
      }
    },
    {
      "cell_type": "code",
      "source": [
        "temperaturas = np.array([25, 27, 26, 30, 28, 29, 31])\n",
        "print(f'Média da semana: {np.mean(temperaturas):.2f}°C')"
      ],
      "metadata": {
        "id": "QGpEiEH-2b7f"
      },
      "execution_count": null,
      "outputs": []
    },
    {
      "cell_type": "markdown",
      "source": [
        "## **Indexação e fatiamento**"
      ],
      "metadata": {
        "id": "7NzIx5uO3pYR"
      }
    },
    {
      "cell_type": "markdown",
      "source": [
        "Assim como em listas, podemos trabalhar com os índices e fatiamento.\n",
        "\n",
        "**Fatiamento**"
      ],
      "metadata": {
        "id": "UhlHtE0v324b"
      }
    },
    {
      "cell_type": "code",
      "source": [
        "arr = np.array([10, 20, 30, 40, 50])\n",
        "print(arr[0])    # Primeiro elemento\n",
        "print(arr[-1])   # Último elemento\n",
        "print(arr[1:4])  # Elementos do índice 1 ao 3"
      ],
      "metadata": {
        "id": "Pa_LJflL4GCH"
      },
      "execution_count": null,
      "outputs": []
    },
    {
      "cell_type": "code",
      "source": [
        "matriz = np.array([[1, 2, 3], [4, 5, 6], [7, 8, 9]])\n",
        "print(matriz)\n",
        "print(matriz[0, 1])   # Elemento na primeira linha, segunda coluna\n",
        "print(matriz[:, 1])   # Segunda coluna inteira\n",
        "print(matriz[1, :])   # Segunda linha inteira"
      ],
      "metadata": {
        "id": "iu2Mz3Rk4byO"
      },
      "execution_count": null,
      "outputs": []
    },
    {
      "cell_type": "markdown",
      "source": [
        "Podemos também acessar os elementos individualmente, como em lsitas, utilizando **for**."
      ],
      "metadata": {
        "id": "7j8-4mzE5fLP"
      }
    },
    {
      "cell_type": "code",
      "source": [
        "vetor = np.array([10, 20, 30, 40, 50])\n",
        "\n",
        "for elemento in vetor:\n",
        "    print(elemento)"
      ],
      "metadata": {
        "id": "z9BEyKqt514t"
      },
      "execution_count": null,
      "outputs": []
    },
    {
      "cell_type": "markdown",
      "source": [
        "Há também uma função específica para isso, a `ndinter()`."
      ],
      "metadata": {
        "id": "5qLSAXyM6WCX"
      }
    },
    {
      "cell_type": "code",
      "source": [
        "for elemento in np.nditer(vetor):\n",
        "    print(elemento)"
      ],
      "metadata": {
        "id": "zmx58nr56gjM"
      },
      "execution_count": null,
      "outputs": []
    },
    {
      "cell_type": "markdown",
      "source": [
        "A função `enumerate()` também funciona com NumPy."
      ],
      "metadata": {
        "id": "odCPZmVh6pzQ"
      }
    },
    {
      "cell_type": "code",
      "source": [
        "for i, elemento in enumerate(vetor):\n",
        "    print(f'Índice {i}: {elemento}')"
      ],
      "metadata": {
        "id": "ZT1Hf6IM60h3"
      },
      "execution_count": null,
      "outputs": []
    },
    {
      "cell_type": "markdown",
      "source": [
        "Com matrizes também funcionam."
      ],
      "metadata": {
        "id": "GCl93TiQ7Hp2"
      }
    },
    {
      "cell_type": "code",
      "source": [
        "matriz = np.array([[1, 2, 3],\n",
        "                   [4, 5, 6],\n",
        "                   [7, 8, 9]])\n",
        "\n",
        "for linha in matriz:\n",
        "    print(linha)"
      ],
      "metadata": {
        "id": "gjSPqJim7Nng"
      },
      "execution_count": null,
      "outputs": []
    },
    {
      "cell_type": "code",
      "source": [
        "for linha in matriz:\n",
        "    for elemento in linha:\n",
        "        print(elemento, end=' ')"
      ],
      "metadata": {
        "id": "IApLJ1Z17O-c"
      },
      "execution_count": null,
      "outputs": []
    },
    {
      "cell_type": "code",
      "source": [
        "for elemento in np.nditer(matriz):\n",
        "    print(elemento, end=' ')"
      ],
      "metadata": {
        "id": "jeoNy6BX7SK9"
      },
      "execution_count": null,
      "outputs": []
    },
    {
      "cell_type": "code",
      "source": [
        "for i, linha in enumerate(matriz):\n",
        "    print(f'Linha {i}: {linha}')"
      ],
      "metadata": {
        "id": "yBeu0Afx7ViL"
      },
      "execution_count": null,
      "outputs": []
    },
    {
      "cell_type": "code",
      "source": [
        "linhas, colunas = matriz.shape\n",
        "\n",
        "for i in range(linhas):\n",
        "    for j in range(colunas):\n",
        "        print(f'Elemento[{i},{j}] = {matriz[i, j]}')"
      ],
      "metadata": {
        "id": "KF_eT5RW7byO"
      },
      "execution_count": null,
      "outputs": []
    },
    {
      "cell_type": "markdown",
      "source": [
        "# **Manipulação de arquivos**"
      ],
      "metadata": {
        "id": "dzOBh3-I9Qol"
      }
    },
    {
      "cell_type": "markdown",
      "source": [
        "Utilizar uma biblioteca como a NumPy faz mtuio sentido quando lidamos com grande número de dados. Geralmente essa grande massa de dados está associada à um base externa, como um arquivo.  \n",
        "A biblioteca NumPy é preparada para atuar com arquivos estruturados de dados, como o formato **.csv** (*Comma-Separated Values* ou Valores Separados por Vírgulas), comum em editores de planilhas.  \n",
        "Para praticar durante a aula, vamos fazer um script de criação de um arquivo `dados.csv`. Esse arquivo ficará acessível para nosso notebook e se encontra na aba **arquivos** (ícone de pasta, ao lado esquerdo).\n",
        "\n",
        "```\n",
        "10,20,30\n",
        "40,50,60\n",
        "70,80,90\n",
        "```\n"
      ],
      "metadata": {
        "id": "l8Aii3F9A7KH"
      }
    },
    {
      "cell_type": "code",
      "source": [
        "with open('dados.csv', 'w') as f:\n",
        "    f.write('10,20,30\\n40,50,60\\n70,80,90\\n')"
      ],
      "metadata": {
        "id": "PUdwmowBB3yY"
      },
      "execution_count": null,
      "outputs": []
    },
    {
      "cell_type": "markdown",
      "source": [
        "Para carregar um arquivo de dados é bem simples em NumPy:"
      ],
      "metadata": {
        "id": "-c498hXzC5Nj"
      }
    },
    {
      "cell_type": "code",
      "source": [
        "dados = np.loadtxt('dados.csv', delimiter=',')\n",
        "print(dados)"
      ],
      "metadata": {
        "id": "1oC_IJXKDodQ"
      },
      "execution_count": null,
      "outputs": []
    },
    {
      "cell_type": "markdown",
      "source": [
        "Note que o formato CSV o separador vírgula é definido como um argumento nomeado `delimiter`.  \n",
        "Depois dessa simples instrução, a matriz `dados` terá os dados, separados por linha e coluna. Com isso, podemos fazer algumas operações estatísticas com esses dados."
      ],
      "metadata": {
        "id": "q0Pb61u9ESwG"
      }
    },
    {
      "cell_type": "code",
      "source": [
        "print(f'Média: {np.mean(dados)}')\n",
        "print(f'Máximo: {np.max(dados)}')\n",
        "print(f'Mínimo: {np.min(dados)}')\n",
        "print(f'Soma de todos os valores: {np.sum(dados)}')"
      ],
      "metadata": {
        "id": "BvFo_w8iGiDY"
      },
      "execution_count": null,
      "outputs": []
    },
    {
      "cell_type": "markdown",
      "source": [
        "E filtros:"
      ],
      "metadata": {
        "id": "xzT9rs-KG373"
      }
    },
    {
      "cell_type": "code",
      "source": [
        "dados = np.loadtxt('dados.csv', delimiter=',')\n",
        "filtro = dados > 30\n",
        "print(dados[filtro])  # Mostra apenas os valores maiores que 30"
      ],
      "metadata": {
        "id": "SzCCtdhPG5_m"
      },
      "execution_count": null,
      "outputs": []
    },
    {
      "cell_type": "markdown",
      "source": [
        "Também é possível possível salvar novamente, em até mesmo em um arquivo diferente:"
      ],
      "metadata": {
        "id": "1C2IVB0zG_Bx"
      }
    },
    {
      "cell_type": "code",
      "source": [
        "np.savetxt('dados_processados.csv', dados * 2, delimiter=',', fmt='%.2f')"
      ],
      "metadata": {
        "id": "mvuLq_-xHvz6"
      },
      "execution_count": null,
      "outputs": []
    },
    {
      "cell_type": "markdown",
      "source": [
        "**EXERCÍCIOS**\n",
        "\n",
        "1. Crie um vetor contendo números de 1 a 1000, e depois:\n",
        "  + Eleve todos os elementos ao quadrado.\n",
        "  + Filtre e exiba apenas os valores maiores que 30.\n",
        "  + Calcule e exiba a média e o desvio padrão do vetor resultante.\n",
        "\n",
        "**Dica:** explore o seguinte comando: `vetor_int = np.random.randint(1, 10, size=5)`\n"
      ],
      "metadata": {
        "id": "z0Qwi0xj97pi"
      }
    },
    {
      "cell_type": "markdown",
      "source": [
        "2. Crie uma matriz 3x3 com números inteiros aleatórios entre 100 e 999.  \n",
        "  + Exiba a matriz gerada.\n",
        "  + Calcule e exiba a soma de todos os elementos da matriz.\n",
        "  + Encontre e exiba o maior e o menor valor da matriz.\n",
        "  + Calcule e exiba a média dos valores de cada linha.\n",
        "   \n",
        "\n",
        "**Dica:** explore o seguinte comando: `matriz_int = np.random.randint(1, 100, size=(2, 2))`\n",
        "\n"
      ],
      "metadata": {
        "id": "jcInHQTO_uuG"
      }
    },
    {
      "cell_type": "markdown",
      "source": [
        "3. Ler uma matriz de um arquivo CSV.\n",
        "  + Inverter a matriz original usando NumPy.\n",
        "  + Salvar a matriz invertida em um novo arquivo CSV.\n",
        "  + Zerar (colocar zeros) na diagonal principal da matriz original\n",
        "  + Salvar a matriz com a diagonal zerada em um novo arquivo CSV.\n",
        "\n",
        "  **Dicas**:\n",
        "  + Existem as funções `linalg.det()`, que mostra o determinante; e a função `linalg.inv()`, para geração matriz invertida. Pesquise o uso dessas funções;\n",
        "  + Existe a função `fill_diagonal()`, pesquise como usar."
      ],
      "metadata": {
        "id": "LePY3kf8LNTV"
      }
    }
  ]
}