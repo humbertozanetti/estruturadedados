{
  "nbformat": 4,
  "nbformat_minor": 0,
  "metadata": {
    "colab": {
      "provenance": [],
      "authorship_tag": "ABX9TyPA3gs4Wq+aqmyS2TTBCcxE",
      "include_colab_link": true
    },
    "kernelspec": {
      "name": "python3",
      "display_name": "Python 3"
    },
    "language_info": {
      "name": "python"
    }
  },
  "cells": [
    {
      "cell_type": "markdown",
      "metadata": {
        "id": "view-in-github",
        "colab_type": "text"
      },
      "source": [
        "<a href=\"https://colab.research.google.com/github/humbertozanetti/estruturadedados/blob/main/Notebooks/Estrutura_de_Dados_Aula_03.ipynb\" target=\"_parent\"><img src=\"https://colab.research.google.com/assets/colab-badge.svg\" alt=\"Open In Colab\"/></a>"
      ]
    },
    {
      "cell_type": "markdown",
      "source": [
        "# **ESTRUTURA DE DADOS - AULA 03**\n",
        "# **Prof. Dr. Humberto A. P. Zanetti**\n",
        "# Fatec Deputado Ary Fossen - Jundiaí\n",
        "\n",
        "\n",
        "---\n",
        "\n",
        "**Conteúdo da aula:**\n",
        "+ NumPy\n",
        "  - Vetores\n",
        "  - Matrizes\n",
        "+ Introdução a manipulação de arquivos\n",
        "\n",
        "\n",
        "\n",
        "\n",
        "\n",
        "---"
      ],
      "metadata": {
        "id": "n5S6edMtmeD8"
      }
    },
    {
      "cell_type": "markdown",
      "source": [
        "# **A biblioteca NumPy**"
      ],
      "metadata": {
        "id": "gczS2WEfnPbY"
      }
    },
    {
      "cell_type": "markdown",
      "source": [
        "A biblioteca **NumPy** (*Numerical Python*) é especializada em computação númerica, incluindo o trabalho com **arrays** (vetores) e **matrizes** e possui uma grande coleção de funções matemáticas eficientes para operações em larga escala.\n",
        "Entre as principais vantagens do uso do NumPy, destacam-se:\n",
        "+ Melhor desempenho que listas Python para operações matemáticas.\n",
        "+ Usa menos memória para armazenar dados.\n",
        "+ Possui operações vetorizadas que eliminam a necessidade de loops explícitos.\n",
        "+ Integração com outras bibliotecas científicas, como Pandas, Matplotlib e SciPy.\n",
        "\n",
        "Muito simples e objetivo ao uso, como podemos ver abaixo:"
      ],
      "metadata": {
        "id": "5rp45RyynZ4I"
      }
    },
    {
      "cell_type": "code",
      "source": [
        "import numpy as np\n",
        "\n",
        "vetor = np.array([1, 2, 3, 4, 5])\n",
        "print(vetor)\n"
      ],
      "metadata": {
        "id": "Uzw4rnL1pp75",
        "colab": {
          "base_uri": "https://localhost:8080/"
        },
        "outputId": "b9a553f7-a6e2-489d-c8c8-54e1a61e0326"
      },
      "execution_count": 1,
      "outputs": [
        {
          "output_type": "stream",
          "name": "stdout",
          "text": [
            "[1 2 3 4 5]\n"
          ]
        }
      ]
    },
    {
      "cell_type": "markdown",
      "source": [
        "## **Por que estudar vetores e matrizes, além das listas?**\n",
        "\n",
        "Vetores são mais eficientes e rápidos porque armazenam elementos de mesmo tipo e usam operações otimizadas, desenvolvidas em C (interligando o kernel CPython).  \n",
        "Listas em Python são mais flexíveis, mas menos eficientes, pois armazenam objetos genéricos, e com isso, utilizam mais memória.  \n",
        "Vetores e matrizes trazem vantagens em relação a busca, ordenação, entre outras operações, em relação à listas.  \n",
        "Isso é muito nítido, até mesmo em um simples código podemos notar:"
      ],
      "metadata": {
        "id": "eTBlhYeooqAg"
      }
    },
    {
      "cell_type": "code",
      "source": [
        "import numpy as np\n",
        "import time\n",
        "\n",
        "lista = list(range(1_000_000))\n",
        "array = np.array(lista)\n",
        "\n",
        "inicio_lista = time.time()\n",
        "[lista[i] * 2 for i in range(len(lista))]\n",
        "print('Tempo lista:', time.time() - inicio_lista)\n",
        "\n",
        "inicio_array = time.time()\n",
        "array * 2  # Operação vetorizada\n",
        "print('Tempo array:', time.time() - inicio_array)\n"
      ],
      "metadata": {
        "id": "FaSB55mSpeBw",
        "colab": {
          "base_uri": "https://localhost:8080/"
        },
        "outputId": "4eb21334-f9dc-4ddd-df69-39eef5f248d9"
      },
      "execution_count": 2,
      "outputs": [
        {
          "output_type": "stream",
          "name": "stdout",
          "text": [
            "Tempo lista: 0.17017698287963867\n",
            "Tempo array: 0.011716127395629883\n"
          ]
        }
      ]
    },
    {
      "cell_type": "markdown",
      "source": [
        "![listaxarray](https://github.com/humbertozanetti/estruturadedados/blob/main/Notebooks/imagens/listaxarray.png?raw=1)\n",
        "\n",
        "\n",
        "| Característica | Array\t| Lista |   \n",
        "| :------------ | :---:  | :---: |\n",
        "| **Eficiência** |\tAlta (mais rápido) | \tBaixa (mais lento) |\n",
        "| **Tipos de dados** | Um único tipo\t| Qualquer tipo |\n",
        "| **Operações matemáticas** |\tVetorizadas (rápidas) |\tPrecisa de loops |\n",
        "| **Uso de memória** |\tMenor\t| Maior |\n",
        "\n",
        "Nessa aula não é possível abordar tudo o que há no Numpy, mas ele possui um excelente [documentação](https://numpy.org/doc/2.2/reference/index.html) e um [manual](https://numpy.org/doc/2.2/numpy-user.pdf) bem organizado."
      ],
      "metadata": {
        "id": "kErOECu8qS6A"
      }
    },
    {
      "cell_type": "markdown",
      "source": [
        "## **Criando vetores e matrizes**"
      ],
      "metadata": {
        "id": "HgbxXU0owfQ7"
      }
    },
    {
      "cell_type": "markdown",
      "source": [
        "Como visto anteriormente, um vetor em NumPy é criado a partir de **uma lista**."
      ],
      "metadata": {
        "id": "xTDAEvFbwzkg"
      }
    },
    {
      "cell_type": "code",
      "source": [
        "import numpy as np\n",
        "\n",
        "vetor = np.array([1, 2, 3, 4, 5])\n",
        "print(vetor)"
      ],
      "metadata": {
        "id": "WWY8Fzb1wy50"
      },
      "execution_count": null,
      "outputs": []
    },
    {
      "cell_type": "markdown",
      "source": [
        "E é igualmente simples criar uma matriz, também a partir de uma lista (de listas)."
      ],
      "metadata": {
        "id": "BmrP0BwFxHF_"
      }
    },
    {
      "cell_type": "code",
      "source": [
        "matriz = np.array([[1, 2, 3], [4, 5, 6]])\n",
        "print(matriz)\n"
      ],
      "metadata": {
        "id": "Z7TZEzd1xV5N",
        "colab": {
          "base_uri": "https://localhost:8080/"
        },
        "outputId": "4e1eb7d3-3a82-424a-8b6a-f736596326ca"
      },
      "execution_count": 3,
      "outputs": [
        {
          "output_type": "stream",
          "name": "stdout",
          "text": [
            "[[1 2 3]\n",
            " [4 5 6]]\n"
          ]
        }
      ]
    },
    {
      "cell_type": "markdown",
      "source": [
        "Uma particularidade que deve ser notada é que se cria um **vetor** após a inserção da lista, mas ainda temos que seguir a regra que **um vetor deve ser homogêneo, ou seja, com todos os elementos do mesmo tipo!**"
      ],
      "metadata": {
        "id": "hoGn2lVhxZFg"
      }
    },
    {
      "cell_type": "code",
      "source": [
        "vetor = np.array([1, 2, 3, 4, 5.0])\n",
        "print(vetor)"
      ],
      "metadata": {
        "id": "-ITDB1nxxuRM",
        "colab": {
          "base_uri": "https://localhost:8080/"
        },
        "outputId": "bd116546-6991-45d2-b923-186c38293ff5"
      },
      "execution_count": 5,
      "outputs": [
        {
          "output_type": "stream",
          "name": "stdout",
          "text": [
            "[1. 2. 3. 4. 5.]\n"
          ]
        }
      ]
    },
    {
      "cell_type": "markdown",
      "source": [
        "Um potencial de uso da NumPy é a coleção de propriedades que temos ao utilizá-la."
      ],
      "metadata": {
        "id": "6HMUEgutyIWx"
      }
    },
    {
      "cell_type": "code",
      "source": [
        "print(vetor.shape)   # Tamanho do vetor\n",
        "print(matriz.shape)  # Dimensão da matriz\n",
        "\n",
        "print(vetor.ndim)    # Número de dimensões\n",
        "print(matriz.ndim)   # Número de dimensões\n",
        "\n",
        "print(vetor.size)    # Número total de elementos\n",
        "print(matriz.size)   # Número total de elementos\n"
      ],
      "metadata": {
        "id": "smqGMZaQyY0K",
        "colab": {
          "base_uri": "https://localhost:8080/"
        },
        "outputId": "0c79229b-a21b-45af-b71f-08e4d50779a4"
      },
      "execution_count": 6,
      "outputs": [
        {
          "output_type": "stream",
          "name": "stdout",
          "text": [
            "(5,)\n",
            "(2, 3)\n",
            "1\n",
            "2\n",
            "5\n",
            "6\n"
          ]
        }
      ]
    },
    {
      "cell_type": "markdown",
      "source": [
        "Podemos também usar funções especiais de criação de vetores e matrizes.  "
      ],
      "metadata": {
        "id": "AZmTIKHC08UU"
      }
    },
    {
      "cell_type": "code",
      "source": [
        "print(np.zeros(5))          # Vetor com 5 zeros\n",
        "print(np.zeros((2, 3)))     # Matriz 2x3 de zeros\n",
        "print(np.ones((3, 3)))      # Matriz 3x3 de uns\n",
        "print(np.eye(3))            # Matriz identidade 3x3\n",
        "print(np.arange(0, 10, 2))  # Sequência de 0 a 10 com passo 2\n",
        "print(np.linspace(0, 1, 5)) # 5 valores igualmente espaçados entre 0 e 1\n"
      ],
      "metadata": {
        "id": "m3vPVwvL1I5B",
        "colab": {
          "base_uri": "https://localhost:8080/"
        },
        "outputId": "b62a77fb-94d7-43cb-a50c-16805453f370"
      },
      "execution_count": 7,
      "outputs": [
        {
          "output_type": "stream",
          "name": "stdout",
          "text": [
            "[0. 0. 0. 0. 0.]\n",
            "[[0. 0. 0.]\n",
            " [0. 0. 0.]]\n",
            "[[1. 1. 1.]\n",
            " [1. 1. 1.]\n",
            " [1. 1. 1.]]\n",
            "[[1. 0. 0.]\n",
            " [0. 1. 0.]\n",
            " [0. 0. 1.]]\n",
            "[0 2 4 6 8]\n",
            "[0.   0.25 0.5  0.75 1.  ]\n"
          ]
        }
      ]
    },
    {
      "cell_type": "code",
      "source": [
        "mat_ide = np.eye(3)\n",
        "print(mat_ide)"
      ],
      "metadata": {
        "colab": {
          "base_uri": "https://localhost:8080/"
        },
        "id": "rZ6E0l2fxVjj",
        "outputId": "bc11b2b5-f90b-4c39-dd83-d5d4aecd61ab"
      },
      "execution_count": 8,
      "outputs": [
        {
          "output_type": "stream",
          "name": "stdout",
          "text": [
            "[[1. 0. 0.]\n",
            " [0. 1. 0.]\n",
            " [0. 0. 1.]]\n"
          ]
        }
      ]
    },
    {
      "cell_type": "markdown",
      "source": [
        "## **Operações matemáticas**"
      ],
      "metadata": {
        "id": "0fdrJJrOz-W7"
      }
    },
    {
      "cell_type": "markdown",
      "source": [
        "Um dos maiores destaques do uso de NumPy é a possibilidade de executar operações de forma muito mais ágil e sem uso de laços de repetição.\n",
        "\n",
        "**Operação elemento a elemento**"
      ],
      "metadata": {
        "id": "r2sAFJH80YYt"
      }
    },
    {
      "cell_type": "code",
      "source": [
        "a = np.array([1, 2, 3])\n",
        "b = np.array([4, 5, 6])\n",
        "\n",
        "print(a + b)\n",
        "print(a - b)\n",
        "print(a * b)\n",
        "print(a / b)\n",
        "print(a + 10)"
      ],
      "metadata": {
        "id": "2Qn6ilrq0pxa",
        "colab": {
          "base_uri": "https://localhost:8080/",
          "height": 216
        },
        "outputId": "e7cf56ea-0833-4da2-c234-79650c8ebc48"
      },
      "execution_count": 12,
      "outputs": [
        {
          "output_type": "error",
          "ename": "ValueError",
          "evalue": "operands could not be broadcast together with shapes (4,) (3,) ",
          "traceback": [
            "\u001b[0;31m---------------------------------------------------------------------------\u001b[0m",
            "\u001b[0;31mValueError\u001b[0m                                Traceback (most recent call last)",
            "\u001b[0;32m<ipython-input-12-7bbeff4d0942>\u001b[0m in \u001b[0;36m<cell line: 0>\u001b[0;34m()\u001b[0m\n\u001b[1;32m      2\u001b[0m \u001b[0mb\u001b[0m \u001b[0;34m=\u001b[0m \u001b[0mnp\u001b[0m\u001b[0;34m.\u001b[0m\u001b[0marray\u001b[0m\u001b[0;34m(\u001b[0m\u001b[0;34m[\u001b[0m\u001b[0;36m4\u001b[0m\u001b[0;34m,\u001b[0m \u001b[0;36m5\u001b[0m\u001b[0;34m,\u001b[0m \u001b[0;36m6\u001b[0m\u001b[0;34m]\u001b[0m\u001b[0;34m)\u001b[0m\u001b[0;34m\u001b[0m\u001b[0;34m\u001b[0m\u001b[0m\n\u001b[1;32m      3\u001b[0m \u001b[0;34m\u001b[0m\u001b[0m\n\u001b[0;32m----> 4\u001b[0;31m \u001b[0mprint\u001b[0m\u001b[0;34m(\u001b[0m\u001b[0ma\u001b[0m \u001b[0;34m+\u001b[0m \u001b[0mb\u001b[0m\u001b[0;34m)\u001b[0m\u001b[0;34m\u001b[0m\u001b[0;34m\u001b[0m\u001b[0m\n\u001b[0m\u001b[1;32m      5\u001b[0m \u001b[0mprint\u001b[0m\u001b[0;34m(\u001b[0m\u001b[0ma\u001b[0m \u001b[0;34m-\u001b[0m \u001b[0mb\u001b[0m\u001b[0;34m)\u001b[0m\u001b[0;34m\u001b[0m\u001b[0;34m\u001b[0m\u001b[0m\n\u001b[1;32m      6\u001b[0m \u001b[0mprint\u001b[0m\u001b[0;34m(\u001b[0m\u001b[0ma\u001b[0m \u001b[0;34m*\u001b[0m \u001b[0mb\u001b[0m\u001b[0;34m)\u001b[0m\u001b[0;34m\u001b[0m\u001b[0;34m\u001b[0m\u001b[0m\n",
            "\u001b[0;31mValueError\u001b[0m: operands could not be broadcast together with shapes (4,) (3,) "
          ]
        }
      ]
    },
    {
      "cell_type": "markdown",
      "source": [
        "**Multiplicação de matrizes**"
      ],
      "metadata": {
        "id": "tg_96mpK0xW7"
      }
    },
    {
      "cell_type": "code",
      "source": [
        "matriz1 = np.array([[1, 2], [3, 4]])\n",
        "matriz2 = np.array([[5, 6], [7, 8]])\n",
        "\n",
        "produto = np.dot(matriz1, matriz2)\n",
        "print(produto)\n"
      ],
      "metadata": {
        "id": "4VopM3q101UH",
        "colab": {
          "base_uri": "https://localhost:8080/"
        },
        "outputId": "02e7e126-75e1-4f05-8303-429bda2349bc"
      },
      "execution_count": 13,
      "outputs": [
        {
          "output_type": "stream",
          "name": "stdout",
          "text": [
            "[[19 22]\n",
            " [43 50]]\n"
          ]
        }
      ]
    },
    {
      "cell_type": "markdown",
      "source": [
        "**Funções estatísticas**"
      ],
      "metadata": {
        "id": "3cEu5hFv2ST3"
      }
    },
    {
      "cell_type": "code",
      "source": [
        "dados = np.array([5, 10, 15, 20, 25])\n",
        "\n",
        "print(np.mean(dados))   # Média\n",
        "print(np.median(dados)) # Mediana\n",
        "print(np.std(dados))    # Desvio padrão\n",
        "print(np.sum(dados))    # Soma total\n",
        "print(np.max(dados))    # Máximo\n",
        "print(np.min(dados))    # Mínimo\n"
      ],
      "metadata": {
        "id": "boA38G5k2WY3",
        "colab": {
          "base_uri": "https://localhost:8080/"
        },
        "outputId": "1c6b1084-14ed-4e1a-f20b-3f91971f7194"
      },
      "execution_count": 14,
      "outputs": [
        {
          "output_type": "stream",
          "name": "stdout",
          "text": [
            "15.0\n",
            "15.0\n",
            "7.0710678118654755\n",
            "75\n",
            "25\n",
            "5\n"
          ]
        }
      ]
    },
    {
      "cell_type": "markdown",
      "source": [
        "Exemplo:"
      ],
      "metadata": {
        "id": "LhkmlJpr2a2B"
      }
    },
    {
      "cell_type": "code",
      "source": [
        "temperaturas = np.array([25, 27, 26, 30, 28, 29, 31])\n",
        "print(f'Média da semana: {np.mean(temperaturas):.2f}°C')"
      ],
      "metadata": {
        "id": "QGpEiEH-2b7f",
        "colab": {
          "base_uri": "https://localhost:8080/"
        },
        "outputId": "2c696a57-6ecf-45ae-822f-94450bf2c2e5"
      },
      "execution_count": 15,
      "outputs": [
        {
          "output_type": "stream",
          "name": "stdout",
          "text": [
            "Média da semana: 28.00°C\n"
          ]
        }
      ]
    },
    {
      "cell_type": "markdown",
      "source": [
        "## **Indexação e fatiamento**"
      ],
      "metadata": {
        "id": "7NzIx5uO3pYR"
      }
    },
    {
      "cell_type": "markdown",
      "source": [
        "Assim como em listas, podemos trabalhar com os índices e fatiamento.\n",
        "\n",
        "**Fatiamento**"
      ],
      "metadata": {
        "id": "UhlHtE0v324b"
      }
    },
    {
      "cell_type": "code",
      "source": [
        "arr = np.array([10, 20, 30, 40, 50])\n",
        "print(arr[0])    # Primeiro elemento\n",
        "print(arr[-1])   # Último elemento\n",
        "print(arr[1:4])  # Elementos do índice 1 ao 3"
      ],
      "metadata": {
        "id": "Pa_LJflL4GCH"
      },
      "execution_count": null,
      "outputs": []
    },
    {
      "cell_type": "code",
      "source": [
        "matriz = np.array([[1, 2, 3], [4, 5, 6], [7, 8, 9]])\n",
        "print(matriz)\n",
        "print(matriz[0, 1])   # Elemento na primeira linha, segunda coluna\n",
        "print(matriz[:, 1])   # Segunda coluna inteira\n",
        "print(matriz[1, :])   # Segunda linha inteira"
      ],
      "metadata": {
        "id": "iu2Mz3Rk4byO",
        "colab": {
          "base_uri": "https://localhost:8080/"
        },
        "outputId": "eb1c2d24-8a9a-45cc-93c7-65e25527ee86"
      },
      "execution_count": 17,
      "outputs": [
        {
          "output_type": "stream",
          "name": "stdout",
          "text": [
            "[[1 2 3]\n",
            " [4 5 6]\n",
            " [7 8 9]]\n",
            "2\n",
            "[2 5 8]\n",
            "[4 5 6]\n"
          ]
        }
      ]
    },
    {
      "cell_type": "markdown",
      "source": [
        "Podemos também acessar os elementos individualmente, como em lsitas, utilizando **for**."
      ],
      "metadata": {
        "id": "7j8-4mzE5fLP"
      }
    },
    {
      "cell_type": "code",
      "source": [
        "vetor = np.array([10, 20, 30, 40, 50])\n",
        "\n",
        "for elemento in vetor:\n",
        "    print(elemento)"
      ],
      "metadata": {
        "id": "z9BEyKqt514t",
        "colab": {
          "base_uri": "https://localhost:8080/"
        },
        "outputId": "8ceb388b-e6db-49ea-d230-94dd373148bc"
      },
      "execution_count": 18,
      "outputs": [
        {
          "output_type": "stream",
          "name": "stdout",
          "text": [
            "10\n",
            "20\n",
            "30\n",
            "40\n",
            "50\n"
          ]
        }
      ]
    },
    {
      "cell_type": "markdown",
      "source": [
        "Há também uma função específica para isso, a `ndinter()`."
      ],
      "metadata": {
        "id": "5qLSAXyM6WCX"
      }
    },
    {
      "cell_type": "code",
      "source": [
        "for elemento in np.nditer(vetor):\n",
        "    print(elemento)"
      ],
      "metadata": {
        "id": "zmx58nr56gjM",
        "colab": {
          "base_uri": "https://localhost:8080/"
        },
        "outputId": "4f1ced27-dbb6-4269-c8f7-eda790935ff2"
      },
      "execution_count": 19,
      "outputs": [
        {
          "output_type": "stream",
          "name": "stdout",
          "text": [
            "10\n",
            "20\n",
            "30\n",
            "40\n",
            "50\n"
          ]
        }
      ]
    },
    {
      "cell_type": "markdown",
      "source": [
        "A função `enumerate()` também funciona com NumPy."
      ],
      "metadata": {
        "id": "odCPZmVh6pzQ"
      }
    },
    {
      "cell_type": "code",
      "source": [
        "for i, elemento in enumerate(vetor):\n",
        "    print(f'Índice {i}: {elemento}')"
      ],
      "metadata": {
        "id": "ZT1Hf6IM60h3",
        "colab": {
          "base_uri": "https://localhost:8080/"
        },
        "outputId": "6c90d43c-1485-4a8c-8232-c11d0b2ad038"
      },
      "execution_count": 20,
      "outputs": [
        {
          "output_type": "stream",
          "name": "stdout",
          "text": [
            "Índice 0: 10\n",
            "Índice 1: 20\n",
            "Índice 2: 30\n",
            "Índice 3: 40\n",
            "Índice 4: 50\n"
          ]
        }
      ]
    },
    {
      "cell_type": "markdown",
      "source": [
        "Com matrizes também funcionam."
      ],
      "metadata": {
        "id": "GCl93TiQ7Hp2"
      }
    },
    {
      "cell_type": "code",
      "source": [
        "matriz = np.array([[1, 2, 3],\n",
        "                   [4, 5, 6],\n",
        "                   [7, 8, 9]])\n",
        "\n",
        "for linha in matriz:\n",
        "    print(linha)"
      ],
      "metadata": {
        "id": "gjSPqJim7Nng",
        "colab": {
          "base_uri": "https://localhost:8080/"
        },
        "outputId": "ef299d61-f787-4a39-fac2-7d7546d11ad9"
      },
      "execution_count": 21,
      "outputs": [
        {
          "output_type": "stream",
          "name": "stdout",
          "text": [
            "[1 2 3]\n",
            "[4 5 6]\n",
            "[7 8 9]\n"
          ]
        }
      ]
    },
    {
      "cell_type": "code",
      "source": [
        "for linha in matriz:\n",
        "    for elemento in linha:\n",
        "        print(elemento, end=' ')"
      ],
      "metadata": {
        "id": "IApLJ1Z17O-c",
        "colab": {
          "base_uri": "https://localhost:8080/"
        },
        "outputId": "d2070adc-7a5c-4c2b-9b4c-654ce4b98a0a"
      },
      "execution_count": 22,
      "outputs": [
        {
          "output_type": "stream",
          "name": "stdout",
          "text": [
            "1 2 3 4 5 6 7 8 9 "
          ]
        }
      ]
    },
    {
      "cell_type": "code",
      "source": [
        "for elemento in np.nditer(matriz):\n",
        "    print(elemento, end=' ')"
      ],
      "metadata": {
        "id": "jeoNy6BX7SK9",
        "colab": {
          "base_uri": "https://localhost:8080/"
        },
        "outputId": "1c85bc44-1e16-4abb-d9fb-f4f2855ff00e"
      },
      "execution_count": 23,
      "outputs": [
        {
          "output_type": "stream",
          "name": "stdout",
          "text": [
            "1 2 3 4 5 6 7 8 9 "
          ]
        }
      ]
    },
    {
      "cell_type": "code",
      "source": [
        "for i, linha in enumerate(matriz):\n",
        "    print(f'Linha {i}: {linha}')"
      ],
      "metadata": {
        "id": "yBeu0Afx7ViL",
        "colab": {
          "base_uri": "https://localhost:8080/"
        },
        "outputId": "e1a77e43-7140-4d52-d574-9fabcbe478b3"
      },
      "execution_count": 24,
      "outputs": [
        {
          "output_type": "stream",
          "name": "stdout",
          "text": [
            "Linha 0: [1 2 3]\n",
            "Linha 1: [4 5 6]\n",
            "Linha 2: [7 8 9]\n"
          ]
        }
      ]
    },
    {
      "cell_type": "code",
      "source": [
        "linhas, colunas = matriz.shape\n",
        "\n",
        "for i in range(linhas):\n",
        "    for j in range(colunas):\n",
        "        print(f'Elemento[{i},{j}] = {matriz[i, j]}')"
      ],
      "metadata": {
        "id": "KF_eT5RW7byO",
        "colab": {
          "base_uri": "https://localhost:8080/"
        },
        "outputId": "fb0cbe56-408f-4a99-ea63-78713a9deacd"
      },
      "execution_count": 25,
      "outputs": [
        {
          "output_type": "stream",
          "name": "stdout",
          "text": [
            "Elemento[0,0] = 1\n",
            "Elemento[0,1] = 2\n",
            "Elemento[0,2] = 3\n",
            "Elemento[1,0] = 4\n",
            "Elemento[1,1] = 5\n",
            "Elemento[1,2] = 6\n",
            "Elemento[2,0] = 7\n",
            "Elemento[2,1] = 8\n",
            "Elemento[2,2] = 9\n"
          ]
        }
      ]
    },
    {
      "cell_type": "markdown",
      "source": [
        "# **Manipulação de arquivos**"
      ],
      "metadata": {
        "id": "dzOBh3-I9Qol"
      }
    },
    {
      "cell_type": "markdown",
      "source": [
        "Utilizar uma biblioteca como a NumPy faz mtuio sentido quando lidamos com grande número de dados. Geralmente essa grande massa de dados está associada à um base externa, como um arquivo.  \n",
        "A biblioteca NumPy é preparada para atuar com arquivos estruturados de dados, como o formato **.csv** (*Comma-Separated Values* ou Valores Separados por Vírgulas), comum em editores de planilhas.  \n",
        "Para praticar durante a aula, vamos fazer um script de criação de um arquivo `dados.csv`. Esse arquivo ficará acessível para nosso notebook e se encontra na aba **arquivos** (ícone de pasta, ao lado esquerdo).\n",
        "\n",
        "```\n",
        "10,20,30\n",
        "40,50,60\n",
        "70,80,90\n",
        "```\n"
      ],
      "metadata": {
        "id": "l8Aii3F9A7KH"
      }
    },
    {
      "cell_type": "code",
      "source": [
        "with open('dados.csv', 'w') as f:\n",
        "    f.write('10,20,30\\n40,50,60\\n70,80,90\\n')"
      ],
      "metadata": {
        "id": "PUdwmowBB3yY"
      },
      "execution_count": 26,
      "outputs": []
    },
    {
      "cell_type": "markdown",
      "source": [
        "Para carregar um arquivo de dados é bem simples em NumPy:"
      ],
      "metadata": {
        "id": "-c498hXzC5Nj"
      }
    },
    {
      "cell_type": "code",
      "source": [
        "dados = np.loadtxt('dados.csv', delimiter=',')\n",
        "print(dados)"
      ],
      "metadata": {
        "colab": {
          "base_uri": "https://localhost:8080/"
        },
        "id": "1oC_IJXKDodQ",
        "outputId": "35f420b6-c504-4e19-845f-0aa8761340a1"
      },
      "execution_count": null,
      "outputs": [
        {
          "output_type": "stream",
          "name": "stdout",
          "text": [
            "[[10. 20. 30.]\n",
            " [40. 50. 60.]\n",
            " [70. 80. 90.]]\n"
          ]
        }
      ]
    },
    {
      "cell_type": "markdown",
      "source": [
        "Note que o formato CSV o separador vírgula é definido como um argumento nomeado `delimiter`.  \n",
        "Depois dessa simples instrução, a matriz `dados` terá os dados, separados por linha e coluna. Com isso, podemos fazer algumas operações estatísticas com esses dados."
      ],
      "metadata": {
        "id": "q0Pb61u9ESwG"
      }
    },
    {
      "cell_type": "code",
      "source": [
        "print(f'Média: {np.mean(dados)}')\n",
        "print(f'Máximo: {np.max(dados)}')\n",
        "print(f'Mínimo: {np.min(dados)}')\n",
        "print(f'Soma de todos os valores: {np.sum(dados)}')"
      ],
      "metadata": {
        "colab": {
          "base_uri": "https://localhost:8080/"
        },
        "id": "BvFo_w8iGiDY",
        "outputId": "27cb740e-1b83-4904-84d2-922bc5405a82"
      },
      "execution_count": null,
      "outputs": [
        {
          "output_type": "stream",
          "name": "stdout",
          "text": [
            "Média: 50.0\n",
            "Máximo: 90.0\n",
            "Mínimo: 10.0\n",
            "Soma de todos os valores: 450.0\n"
          ]
        }
      ]
    },
    {
      "cell_type": "markdown",
      "source": [
        "E filtros:"
      ],
      "metadata": {
        "id": "xzT9rs-KG373"
      }
    },
    {
      "cell_type": "code",
      "source": [
        "dados = np.loadtxt('dados.csv', delimiter=',')\n",
        "filtro = dados > 30\n",
        "print(dados[filtro])  # Mostra apenas os valores maiores que 30"
      ],
      "metadata": {
        "id": "SzCCtdhPG5_m",
        "colab": {
          "base_uri": "https://localhost:8080/"
        },
        "outputId": "826d3ad3-a814-47be-c2ea-47fa8a74b4fb"
      },
      "execution_count": 48,
      "outputs": [
        {
          "output_type": "stream",
          "name": "stdout",
          "text": [
            "[40. 50. 60. 70. 80. 90.]\n"
          ]
        }
      ]
    },
    {
      "cell_type": "markdown",
      "source": [
        "Também é possível possível salvar novamente, em até mesmo em um arquivo diferente:"
      ],
      "metadata": {
        "id": "1C2IVB0zG_Bx"
      }
    },
    {
      "cell_type": "code",
      "source": [
        "np.savetxt('dados_processados.csv', dados * 2, delimiter=',', fmt='%.2f')"
      ],
      "metadata": {
        "id": "mvuLq_-xHvz6"
      },
      "execution_count": 38,
      "outputs": []
    },
    {
      "cell_type": "markdown",
      "source": [
        "**EXERCÍCIOS**\n",
        "\n",
        "1. Crie um vetor contendo números de 1 a 1000, e depois:\n",
        "  + Eleve todos os elementos ao quadrado.\n",
        "  + Filtre e exiba apenas os valores maiores que 30.\n",
        "  + Calcule e exiba a média e o desvio padrão do vetor resultante.\n",
        "\n",
        "**Dica:** explore o seguinte comando: `vetor_int = np.random.randint(1, 10, size=5)`\n"
      ],
      "metadata": {
        "id": "z0Qwi0xj97pi"
      }
    },
    {
      "cell_type": "code",
      "source": [
        "vetor_int = np.random.randint(1,1000,size = 50)\n",
        "print(vetor_int)\n",
        "\n",
        "vetor_int = vetor_int**2\n",
        "print(vetor_int)\n",
        "\n",
        "filtro = vetor_int > 30\n",
        "filtrado = vetor_int[filtro]\n",
        "\n",
        "print(np.mean(filtrado))\n",
        "print(np.std(filtrado))"
      ],
      "metadata": {
        "id": "zUgyLrfMIcXw"
      },
      "execution_count": null,
      "outputs": []
    },
    {
      "cell_type": "markdown",
      "source": [
        "2. Crie uma matriz 3x3 com números inteiros aleatórios entre 100 e 999.  \n",
        "  + Exiba a matriz gerada.\n",
        "  + Calcule e exiba a soma de todos os elementos da matriz.\n",
        "  + Encontre e exiba o maior e o menor valor da matriz.\n",
        "  + Calcule e exiba a média dos valores de cada linha.\n",
        "   \n",
        "\n",
        "**Dica:** explore o seguinte comando: `matriz_int = np.random.randint(1, 100, size=(2, 2))`\n",
        "\n"
      ],
      "metadata": {
        "id": "jcInHQTO_uuG"
      }
    },
    {
      "cell_type": "code",
      "source": [
        "matriz = np.random.randint(100,999,size=(3,3))\n",
        "print(matriz)\n",
        "print(np.sum(matriz))\n",
        "print(np.max(matriz), np.min(matriz))\n",
        "\n",
        "for linha in matriz:\n",
        "  print(np.mean(linha))"
      ],
      "metadata": {
        "id": "0ZCX6g2IIdBe"
      },
      "execution_count": null,
      "outputs": []
    },
    {
      "cell_type": "markdown",
      "source": [
        "3. Ler uma matriz de um arquivo CSV.\n",
        "  + Inverter a matriz original usando NumPy.\n",
        "  + Salvar a matriz invertida em um novo arquivo CSV.\n",
        "  + Zerar (colocar zeros) na diagonal principal da matriz original\n",
        "  + Salvar a matriz com a diagonal zerada em um novo arquivo CSV.\n",
        "\n",
        "  **Dicas**:\n",
        "  + Existem as funções `linalg.det()`, que mostra o determinante; e a função `linalg.inv()`, para geração matriz invertida. Pesquise o uso dessas funções;\n",
        "  + Existe a função `fill_diagonal()`, pesquise como usar."
      ],
      "metadata": {
        "id": "LePY3kf8LNTV"
      }
    },
    {
      "cell_type": "code",
      "source": [
        "import numpy as np\n",
        "\n",
        "with open('matriz.csv', 'w') as f:\n",
        "  f.write('2,1,0\\n0,1,0\\n1,2,1\\n')\n",
        "  #f.write('1,2,3\\n4,5,6\\n7,8,9\\n')\n",
        "\n",
        "matriz = np.loadtxt('matriz.csv', delimiter=',')\n",
        "print('Matriz original:')\n",
        "print(matriz)\n",
        "# Verificar se a matriz pode ser invertida (determinante diferente de zero)\n",
        "if np.linalg.det(matriz) == 0:\n",
        "    print('Erro: A matriz não é inversível (determinante igual a zero).')\n",
        "else:\n",
        "    # Inverte a matriz\n",
        "    matriz_invertida = np.linalg.inv(matriz)\n",
        "    print('Matriz Invertida:')\n",
        "    print(matriz_invertida)\n",
        "\n",
        "    np.savetxt('matriz_invertida.csv', matriz_invertida, delimiter=',', fmt='%.2f')"
      ],
      "metadata": {
        "id": "w6bbQ9VlREjy",
        "colab": {
          "base_uri": "https://localhost:8080/"
        },
        "outputId": "ce19cda9-21b6-4657-a822-38756a7eacc0"
      },
      "execution_count": 49,
      "outputs": [
        {
          "output_type": "stream",
          "name": "stdout",
          "text": [
            "Matriz original:\n",
            "[[2. 1. 0.]\n",
            " [0. 1. 0.]\n",
            " [1. 2. 1.]]\n",
            "Matriz Invertida:\n",
            "[[ 0.5 -0.5  0. ]\n",
            " [ 0.   1.   0. ]\n",
            " [-0.5 -1.5  1. ]]\n"
          ]
        }
      ]
    },
    {
      "cell_type": "code",
      "source": [
        "matriz = np.random.randint(1, 10, size=(4, 4))\n",
        "print(\"Matriz Original:\\n\", matriz)\n",
        "\n",
        "np.fill_diagonal(matriz, 0)\n",
        "\n",
        "print(\"\\nMatriz com a diagonal zerada:\\n\", matriz)"
      ],
      "metadata": {
        "id": "TuA2PShm_ZpH"
      },
      "execution_count": null,
      "outputs": []
    }
  ]
}