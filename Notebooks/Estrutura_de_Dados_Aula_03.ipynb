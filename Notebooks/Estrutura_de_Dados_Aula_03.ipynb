{
  "nbformat": 4,
  "nbformat_minor": 0,
  "metadata": {
    "colab": {
      "provenance": [],
      "authorship_tag": "ABX9TyNOgksWXF/MqcM6UhVegFpd",
      "include_colab_link": true
    },
    "kernelspec": {
      "name": "python3",
      "display_name": "Python 3"
    },
    "language_info": {
      "name": "python"
    }
  },
  "cells": [
    {
      "cell_type": "markdown",
      "metadata": {
        "id": "view-in-github",
        "colab_type": "text"
      },
      "source": [
        "<a href=\"https://colab.research.google.com/github/humbertozanetti/estruturadedados/blob/main/Notebooks/Estrutura_de_Dados_Aula_03.ipynb\" target=\"_parent\"><img src=\"https://colab.research.google.com/assets/colab-badge.svg\" alt=\"Open In Colab\"/></a>"
      ]
    },
    {
      "cell_type": "markdown",
      "source": [
        "# **ESTRUTURA DE DADOS - AULA 03**\n",
        "# **Prof. Dr. Humberto A. P. Zanetti**\n",
        "# Fatec Deputado Ary Fossen - Jundiaí\n",
        "\n",
        "\n",
        "---\n",
        "\n",
        "**Conteúdo da aula:**\n",
        "+ NumPy\n",
        "  - Vetores\n",
        "  - Matrizes\n",
        "+ Introdução a manipulação de arquivos\n",
        "\n",
        "\n",
        "\n",
        "\n",
        "\n",
        "---"
      ],
      "metadata": {
        "id": "n5S6edMtmeD8"
      }
    },
    {
      "cell_type": "markdown",
      "source": [
        "# **A biblioteca NumPy**"
      ],
      "metadata": {
        "id": "gczS2WEfnPbY"
      }
    },
    {
      "cell_type": "markdown",
      "source": [
        "A biblioteca **NumPy** (*Numerical Python*) é especializada em computação númerica, incluindo o trabalho com **arrays** (vetores) e **matrizes** e possui uma grande coleção de funções matemáticas eficientes para operações em larga escala.\n",
        "Entre as principais vantagens do uso do NumPy, destacam-se:\n",
        "+ Melhor desempenho que listas Python para operações matemáticas.\n",
        "+ Usa menos memória para armazenar dados.\n",
        "+ Possui operações vetorizadas que eliminam a necessidade de loops explícitos.\n",
        "+ Integração com outras bibliotecas científicas, como Pandas, Matplotlib e SciPy.\n",
        "\n",
        "Muito simples e objetivo ao uso, como podemos ver abaixo:"
      ],
      "metadata": {
        "id": "5rp45RyynZ4I"
      }
    },
    {
      "cell_type": "code",
      "source": [
        "import numpy as np\n",
        "\n",
        "vetor = np.array([1, 2, 3, 4, 5])\n",
        "print(vetor)\n"
      ],
      "metadata": {
        "id": "Uzw4rnL1pp75"
      },
      "execution_count": null,
      "outputs": []
    },
    {
      "cell_type": "markdown",
      "source": [
        "## **Por que estudar vetores e matrizes, além das listas?**\n",
        "\n",
        "Vetores são mais eficientes e rápidos porque armazenam elementos de mesmo tipo e usam operações otimizadas, desenvolvidas em C (interligando o kernel CPython).  \n",
        "Listas em Python são mais flexíveis, mas menos eficientes, pois armazenam objetos genéricos, e com isso, utilizam mais memória.  \n",
        "Vetores e matrizes trazem vantagens em relação a busca, ordenação, entre outras operações, em relação à listas.  \n",
        "Isso é muito nítido, até mesmo em um simples código podemos notar:"
      ],
      "metadata": {
        "id": "eTBlhYeooqAg"
      }
    },
    {
      "cell_type": "code",
      "source": [
        "import numpy as np\n",
        "import time\n",
        "\n",
        "lista = list(range(1_000_000))\n",
        "array = np.array(lista)\n",
        "\n",
        "inicio_lista = time.time()\n",
        "[lista[i] * 2 for i in range(len(lista))]\n",
        "print('Tempo lista:', time.time() - inicio_lista)\n",
        "\n",
        "inicio_array = time.time()\n",
        "array * 2  # Operação vetorizada\n",
        "print('Tempo array:', time.time() - inicio_array)\n"
      ],
      "metadata": {
        "id": "FaSB55mSpeBw"
      },
      "execution_count": null,
      "outputs": []
    },
    {
      "cell_type": "markdown",
      "source": [
        "\n",
        "| Característica | Array\t| Lista |   \n",
        "| :------------ | :---:  | :---: |\n",
        "| **Eficiência** |\tAlta (mais rápido) | \tBaixa (mais lento) |\n",
        "| **Tipos de dados** | Um único tipo\t| Qualquer tipo |\n",
        "| **Operações matemáticas** |\tVetorizadas (rápidas) |\tPrecisa de loops |\n",
        "| **Uso de memória** |\tMenor\t| Maior |\n",
        "\n",
        "Nessa aula não é possível abordar tudo o que há no Numpy, mas ele possui um excelente [documentação](https://numpy.org/doc/2.2/reference/index.html) e um [manual](https://numpy.org/doc/2.2/numpy-user.pdf) bem organizado."
      ],
      "metadata": {
        "id": "kErOECu8qS6A"
      }
    },
    {
      "cell_type": "markdown",
      "source": [
        "## **Criando vetores e matrizes**"
      ],
      "metadata": {
        "id": "HgbxXU0owfQ7"
      }
    },
    {
      "cell_type": "markdown",
      "source": [
        "Como visto anteriormente, um vetor em NumPy é criado a partir de **uma lista**."
      ],
      "metadata": {
        "id": "xTDAEvFbwzkg"
      }
    },
    {
      "cell_type": "code",
      "source": [
        "import numpy as np\n",
        "\n",
        "vetor = np.array([1, 2, 3, 4, 5])\n",
        "print(vetor)"
      ],
      "metadata": {
        "id": "WWY8Fzb1wy50"
      },
      "execution_count": null,
      "outputs": []
    },
    {
      "cell_type": "markdown",
      "source": [
        "E é igualmente simples criar uma matriz, também a partir de uma lista (de listas)."
      ],
      "metadata": {
        "id": "BmrP0BwFxHF_"
      }
    },
    {
      "cell_type": "code",
      "source": [
        "matriz = np.array([[1, 2, 3], [4, 5, 6]])\n",
        "print(matriz)\n"
      ],
      "metadata": {
        "id": "Z7TZEzd1xV5N"
      },
      "execution_count": null,
      "outputs": []
    },
    {
      "cell_type": "markdown",
      "source": [
        "Uma particularidade que deve ser notada é que se cria um **vetor** após a inserção da lista, mas ainda temos que seguir a regra que **um vetor deve ser homogêneo, ou seja, com todos os elementos do mesmo tipo!**"
      ],
      "metadata": {
        "id": "hoGn2lVhxZFg"
      }
    },
    {
      "cell_type": "code",
      "source": [],
      "metadata": {
        "id": "-ITDB1nxxuRM"
      },
      "execution_count": null,
      "outputs": []
    },
    {
      "cell_type": "markdown",
      "source": [
        "Um potencial de uso da NumPy é a coleção de propriedades que temos ao utilizá-la."
      ],
      "metadata": {
        "id": "6HMUEgutyIWx"
      }
    },
    {
      "cell_type": "code",
      "source": [
        "print(vetor.shape)   # Tamanho do vetor\n",
        "print(matriz.shape)  # Dimensão da matriz\n",
        "\n",
        "print(vetor.ndim)    # Número de dimensões\n",
        "print(matriz.ndim)   # Número de dimensões\n",
        "\n",
        "print(vetor.size)    # Número total de elementos\n",
        "print(matriz.size)   # Número total de elementos\n"
      ],
      "metadata": {
        "id": "smqGMZaQyY0K"
      },
      "execution_count": null,
      "outputs": []
    },
    {
      "cell_type": "markdown",
      "source": [
        "Podemos também usar funções especiais de criação de vetores e matrizes.  "
      ],
      "metadata": {
        "id": "AZmTIKHC08UU"
      }
    },
    {
      "cell_type": "code",
      "source": [
        "print(np.zeros(5))          # Vetor com 5 zeros\n",
        "print(np.zeros((2, 3)))     # Matriz 2x3 de zeros\n",
        "print(np.ones((3, 3)))      # Matriz 3x3 de uns\n",
        "print(np.eye(3))            # Matriz identidade 3x3\n",
        "print(np.arange(0, 10, 2))  # Sequência de 0 a 10 com passo 2\n",
        "print(np.linspace(0, 1, 5)) # 5 valores igualmente espaçados entre 0 e 1\n"
      ],
      "metadata": {
        "id": "m3vPVwvL1I5B"
      },
      "execution_count": null,
      "outputs": []
    },
    {
      "cell_type": "markdown",
      "source": [
        "## **Operações matemáticas**"
      ],
      "metadata": {
        "id": "0fdrJJrOz-W7"
      }
    },
    {
      "cell_type": "markdown",
      "source": [
        "Um dos maiores destaques do uso de NumPy é a possibilidade de executar operações de forma muito mais ágil e sem uso de laços de repetição.\n",
        "\n",
        "**Operação elemento a elemento**"
      ],
      "metadata": {
        "id": "r2sAFJH80YYt"
      }
    },
    {
      "cell_type": "code",
      "source": [
        "a = np.array([1, 2, 3])\n",
        "b = np.array([4, 5, 6])\n",
        "\n",
        "print(a + b)\n",
        "print(a - b)\n",
        "print(a * b)\n",
        "print(a / b)"
      ],
      "metadata": {
        "id": "2Qn6ilrq0pxa"
      },
      "execution_count": null,
      "outputs": []
    },
    {
      "cell_type": "markdown",
      "source": [
        "**Multiplicação de matrizes**"
      ],
      "metadata": {
        "id": "tg_96mpK0xW7"
      }
    },
    {
      "cell_type": "code",
      "source": [
        "matriz1 = np.array([[1, 2], [3, 4]])\n",
        "matriz2 = np.array([[5, 6], [7, 8]])\n",
        "\n",
        "produto = np.dot(matriz1, matriz2)\n",
        "print(produto)\n"
      ],
      "metadata": {
        "id": "4VopM3q101UH"
      },
      "execution_count": null,
      "outputs": []
    },
    {
      "cell_type": "markdown",
      "source": [
        "**Funções estatísticas**"
      ],
      "metadata": {
        "id": "3cEu5hFv2ST3"
      }
    },
    {
      "cell_type": "code",
      "source": [
        "dados = np.array([5, 10, 15, 20, 25])\n",
        "\n",
        "print(np.mean(dados))   # Média\n",
        "print(np.median(dados)) # Mediana\n",
        "print(np.std(dados))    # Desvio padrão\n",
        "print(np.sum(dados))    # Soma total\n",
        "print(np.max(dados))    # Máximo\n",
        "print(np.min(dados))    # Mínimo\n"
      ],
      "metadata": {
        "id": "boA38G5k2WY3"
      },
      "execution_count": null,
      "outputs": []
    },
    {
      "cell_type": "markdown",
      "source": [
        "Exemplo:"
      ],
      "metadata": {
        "id": "LhkmlJpr2a2B"
      }
    },
    {
      "cell_type": "code",
      "source": [
        "temperaturas = np.array([25, 27, 26, 30, 28, 29, 31])\n",
        "print(f'Média da semana: {np.mean(temperaturas):.2f}°C')"
      ],
      "metadata": {
        "id": "QGpEiEH-2b7f"
      },
      "execution_count": null,
      "outputs": []
    }
  ]
}