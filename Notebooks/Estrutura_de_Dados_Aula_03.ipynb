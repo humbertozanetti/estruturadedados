{
  "nbformat": 4,
  "nbformat_minor": 0,
  "metadata": {
    "colab": {
      "provenance": [],
      "authorship_tag": "ABX9TyM/thO8aXFFlCLtBRRB30Vf",
      "include_colab_link": true
    },
    "kernelspec": {
      "name": "python3",
      "display_name": "Python 3"
    },
    "language_info": {
      "name": "python"
    }
  },
  "cells": [
    {
      "cell_type": "markdown",
      "metadata": {
        "id": "view-in-github",
        "colab_type": "text"
      },
      "source": [
        "<a href=\"https://colab.research.google.com/github/humbertozanetti/estruturadedados/blob/main/Notebooks/Estrutura_de_Dados_Aula_03.ipynb\" target=\"_parent\"><img src=\"https://colab.research.google.com/assets/colab-badge.svg\" alt=\"Open In Colab\"/></a>"
      ]
    },
    {
      "cell_type": "markdown",
      "source": [
        "# **ESTRUTURA DE DADOS - AULA 03**\n",
        "# **Prof. Dr. Humberto A. P. Zanetti**\n",
        "# Fatec Deputado Ary Fossen - Jundiaí\n",
        "\n",
        "\n",
        "---\n",
        "\n",
        "**Conteúdo da aula:**\n",
        "+ NumPy\n",
        "  - Vetores\n",
        "  - Matrizes\n",
        "+ Introdução a manipulação de arquivos\n",
        "\n",
        "\n",
        "\n",
        "\n",
        "\n",
        "---"
      ],
      "metadata": {
        "id": "n5S6edMtmeD8"
      }
    },
    {
      "cell_type": "markdown",
      "source": [
        "# **A biblioteca NumPy**"
      ],
      "metadata": {
        "id": "gczS2WEfnPbY"
      }
    },
    {
      "cell_type": "markdown",
      "source": [
        "A biblioteca **NumPy** (*Numerical Python*) é especializada em computação númerica, incluindo o trabalho com **arrays** (vetores) e **matrizes** e possui uma grande coleção de funções matemáticas eficientes para operações em larga escala.\n",
        "Entre as principais vantagens do uso do NumPy, destacam-se:\n",
        "+ Melhor desempenho que listas Python para operações matemáticas.\n",
        "+ Usa menos memória para armazenar dados.\n",
        "+ Possui operações vetorizadas que eliminam a necessidade de loops explícitos.\n",
        "+ Integração com outras bibliotecas científicas, como Pandas, Matplotlib e SciPy.\n",
        "\n",
        "Muito simples e objetivo ao uso, como podemos ver abaixo:"
      ],
      "metadata": {
        "id": "5rp45RyynZ4I"
      }
    },
    {
      "cell_type": "code",
      "source": [
        "import numpy as np\n",
        "\n",
        "vetor = np.array([1, 2, 3, 4, 5])\n",
        "print(vetor)\n"
      ],
      "metadata": {
        "id": "Uzw4rnL1pp75",
        "outputId": "e33c94c3-79fc-4c22-c3d5-07f9d72cfe23",
        "colab": {
          "base_uri": "https://localhost:8080/"
        }
      },
      "execution_count": 1,
      "outputs": [
        {
          "output_type": "stream",
          "name": "stdout",
          "text": [
            "[1 2 3 4 5]\n"
          ]
        }
      ]
    },
    {
      "cell_type": "markdown",
      "source": [
        "## **Por que estudar vetores e matrizes, além das listas?**\n",
        "\n",
        "Vetores são mais eficientes e rápidos porque armazenam elementos de mesmo tipo e usam operações otimizadas, desenvolvidas em C (interligando o kernel CPython).  \n",
        "Listas em Python são mais flexíveis, mas menos eficientes, pois armazenam objetos genéricos, e com isso, utilizam mais memória.  \n",
        "Vetores e matrizes trazem vantagens em relação a busca, ordenação, entre outras operações, em relação à listas.  \n",
        "Isso é muito nítido, até mesmo em um simples código podemos notar:"
      ],
      "metadata": {
        "id": "eTBlhYeooqAg"
      }
    },
    {
      "cell_type": "code",
      "source": [
        "import numpy as np\n",
        "import time\n",
        "\n",
        "lista = list(range(1_000_000))\n",
        "array = np.array(lista)\n",
        "\n",
        "inicio_lista = time.time()\n",
        "[lista[i] * 2 for i in range(len(lista))]\n",
        "print('Tempo lista:', time.time() - inicio_lista)\n",
        "\n",
        "inicio_array = time.time()\n",
        "array * 2\n",
        "print('Tempo array:', time.time() - inicio_array)\n"
      ],
      "metadata": {
        "id": "FaSB55mSpeBw",
        "outputId": "cabcba99-7b7a-4a12-d71c-fb7e3c492b0f",
        "colab": {
          "base_uri": "https://localhost:8080/"
        }
      },
      "execution_count": 2,
      "outputs": [
        {
          "output_type": "stream",
          "name": "stdout",
          "text": [
            "Tempo lista: 0.10863208770751953\n",
            "Tempo array: 0.0035948753356933594\n"
          ]
        }
      ]
    },
    {
      "cell_type": "markdown",
      "source": [
        "![listaxarray](https://github.com/humbertozanetti/estruturadedados/blob/main/Notebooks/imagens/listaxarray.png?raw=1)\n",
        "\n",
        "\n",
        "| Característica | Array\t| Lista |   \n",
        "| :------------ | :---:  | :---: |\n",
        "| **Eficiência** |\tAlta (mais rápido) | \tBaixa (mais lento) |\n",
        "| **Tipos de dados** | Um único tipo\t| Qualquer tipo |\n",
        "| **Operações matemáticas** |\tVetorizadas (rápidas) |\tPrecisa de loops |\n",
        "| **Uso de memória** |\tMenor\t| Maior |\n",
        "\n",
        "Nessa aula não é possível abordar tudo o que há no Numpy, mas ele possui um excelente [documentação](https://numpy.org/doc/2.2/reference/index.html) e um [manual](https://numpy.org/doc/2.2/numpy-user.pdf) bem organizado."
      ],
      "metadata": {
        "id": "kErOECu8qS6A"
      }
    },
    {
      "cell_type": "markdown",
      "source": [
        "## **Criando vetores e matrizes**"
      ],
      "metadata": {
        "id": "HgbxXU0owfQ7"
      }
    },
    {
      "cell_type": "markdown",
      "source": [
        "Como visto anteriormente, um vetor em NumPy é criado a partir de **uma lista**."
      ],
      "metadata": {
        "id": "xTDAEvFbwzkg"
      }
    },
    {
      "cell_type": "code",
      "source": [
        "import numpy as np\n",
        "\n",
        "vetor = np.array([1, 2, 3, 4, 5])\n",
        "print(vetor)"
      ],
      "metadata": {
        "id": "WWY8Fzb1wy50",
        "outputId": "c6b95dd6-c1ad-4147-81fa-7aba5b26f43c",
        "colab": {
          "base_uri": "https://localhost:8080/"
        }
      },
      "execution_count": 3,
      "outputs": [
        {
          "output_type": "stream",
          "name": "stdout",
          "text": [
            "[1 2 3 4 5]\n"
          ]
        }
      ]
    },
    {
      "cell_type": "markdown",
      "source": [
        "E é igualmente simples criar uma matriz, também a partir de uma lista (de listas)."
      ],
      "metadata": {
        "id": "BmrP0BwFxHF_"
      }
    },
    {
      "cell_type": "code",
      "source": [
        "matriz = np.array([[1, 2, 3], [4, 5, 6]])\n",
        "print(matriz)\n"
      ],
      "metadata": {
        "id": "Z7TZEzd1xV5N",
        "outputId": "8ba1bde7-2171-474f-a010-fae298f34834",
        "colab": {
          "base_uri": "https://localhost:8080/"
        }
      },
      "execution_count": 6,
      "outputs": [
        {
          "output_type": "stream",
          "name": "stdout",
          "text": [
            "[[1 2 3]\n",
            " [4 5 6]]\n"
          ]
        }
      ]
    },
    {
      "cell_type": "markdown",
      "source": [
        "Uma particularidade que deve ser notada é que se cria um **vetor** após a inserção da lista, mas ainda temos que seguir a regra que **um vetor deve ser homogêneo, ou seja, com todos os elementos do mesmo tipo!**"
      ],
      "metadata": {
        "id": "hoGn2lVhxZFg"
      }
    },
    {
      "cell_type": "code",
      "source": [
        "vetor = np.array([1, 2, 3, 4, 5.0])\n",
        "print(vetor)"
      ],
      "metadata": {
        "id": "-ITDB1nxxuRM",
        "outputId": "e6d21b81-7d2d-4136-c4e5-3352930c3bea",
        "colab": {
          "base_uri": "https://localhost:8080/"
        }
      },
      "execution_count": 7,
      "outputs": [
        {
          "output_type": "stream",
          "name": "stdout",
          "text": [
            "[1. 2. 3. 4. 5.]\n"
          ]
        }
      ]
    },
    {
      "cell_type": "markdown",
      "source": [
        "Um potencial de uso da NumPy é a coleção de propriedades que temos ao utilizá-la."
      ],
      "metadata": {
        "id": "6HMUEgutyIWx"
      }
    },
    {
      "cell_type": "code",
      "source": [
        "print(vetor.shape)   # tamanho do vetor\n",
        "print(matriz.shape)  # dimensão da matriz\n",
        "print(vetor.ndim)    # número de dimensões\n",
        "print(matriz.ndim)\n",
        "print(vetor.size)    # número total de elementos\n",
        "print(matriz.size)\n"
      ],
      "metadata": {
        "id": "smqGMZaQyY0K",
        "outputId": "0bd69023-a709-4778-868a-017f3a6a72d9",
        "colab": {
          "base_uri": "https://localhost:8080/"
        }
      },
      "execution_count": 8,
      "outputs": [
        {
          "output_type": "stream",
          "name": "stdout",
          "text": [
            "(5,)\n",
            "(2, 3)\n",
            "1\n",
            "2\n",
            "5\n",
            "6\n"
          ]
        }
      ]
    },
    {
      "cell_type": "markdown",
      "source": [
        "Podemos também usar funções especiais de criação de vetores e matrizes.  "
      ],
      "metadata": {
        "id": "AZmTIKHC08UU"
      }
    },
    {
      "cell_type": "code",
      "source": [
        "print(np.zeros(5))          # vetor com 5 zeros\n",
        "print(np.zeros((2, 3)))     # matriz 2x3 de zeros\n",
        "print(np.ones((3, 3)))      # matriz 3x3 de uns\n",
        "print(np.eye(3))            # matriz identidade 3x3\n",
        "print(np.arange(0, 10, 2))  # sequência de 0 a 10 com passo 2\n",
        "print(np.linspace(0, 1, 5)) # 5 valores igualmente espaçados entre 0 e 1\n"
      ],
      "metadata": {
        "id": "m3vPVwvL1I5B",
        "outputId": "3430a2f0-5c46-48c6-b212-dace9d63ccef",
        "colab": {
          "base_uri": "https://localhost:8080/"
        }
      },
      "execution_count": 9,
      "outputs": [
        {
          "output_type": "stream",
          "name": "stdout",
          "text": [
            "[0. 0. 0. 0. 0.]\n",
            "[[0. 0. 0.]\n",
            " [0. 0. 0.]]\n",
            "[[1. 1. 1.]\n",
            " [1. 1. 1.]\n",
            " [1. 1. 1.]]\n",
            "[[1. 0. 0.]\n",
            " [0. 1. 0.]\n",
            " [0. 0. 1.]]\n",
            "[0 2 4 6 8]\n",
            "[0.   0.25 0.5  0.75 1.  ]\n"
          ]
        }
      ]
    },
    {
      "cell_type": "code",
      "source": [
        "mat_ide = np.eye(3)\n",
        "print(mat_ide)"
      ],
      "metadata": {
        "id": "rZ6E0l2fxVjj",
        "outputId": "741a4f7d-aa7d-4c34-eb26-5c0f0114c578",
        "colab": {
          "base_uri": "https://localhost:8080/"
        }
      },
      "execution_count": 10,
      "outputs": [
        {
          "output_type": "stream",
          "name": "stdout",
          "text": [
            "[[1. 0. 0.]\n",
            " [0. 1. 0.]\n",
            " [0. 0. 1.]]\n"
          ]
        }
      ]
    },
    {
      "cell_type": "markdown",
      "source": [
        "## **Operações matemáticas**"
      ],
      "metadata": {
        "id": "0fdrJJrOz-W7"
      }
    },
    {
      "cell_type": "markdown",
      "source": [
        "Um dos maiores destaques do uso de NumPy é a possibilidade de executar operações de forma muito mais ágil e sem uso de laços de repetição.\n",
        "\n",
        "**Operação elemento a elemento**"
      ],
      "metadata": {
        "id": "r2sAFJH80YYt"
      }
    },
    {
      "cell_type": "code",
      "source": [
        "a = np.array([1, 2, 3])\n",
        "b = np.array([4, 5, 6])\n",
        "\n",
        "print(a + b)\n",
        "print(a - b)\n",
        "print(a * b)\n",
        "print(a / b)\n",
        "print(a + 10)"
      ],
      "metadata": {
        "id": "2Qn6ilrq0pxa",
        "outputId": "5ef17b47-d39c-471b-d761-4a7e088e8a57",
        "colab": {
          "base_uri": "https://localhost:8080/"
        }
      },
      "execution_count": 13,
      "outputs": [
        {
          "output_type": "stream",
          "name": "stdout",
          "text": [
            "[5 7 9]\n",
            "[-3 -3 -3]\n",
            "[ 4 10 18]\n",
            "[0.25 0.4  0.5 ]\n",
            "[11 12 13]\n"
          ]
        }
      ]
    },
    {
      "cell_type": "markdown",
      "source": [
        "**Multiplicação de matrizes**"
      ],
      "metadata": {
        "id": "tg_96mpK0xW7"
      }
    },
    {
      "cell_type": "code",
      "source": [
        "matriz1 = np.array([[1, 2], [3, 4]])\n",
        "matriz2 = np.array([[5, 6], [7, 8]])\n",
        "\n",
        "produto = np.dot(matriz1, matriz2)\n",
        "print(produto)\n"
      ],
      "metadata": {
        "id": "4VopM3q101UH",
        "outputId": "676af914-9b1d-4d77-9ab0-40a29e1e76ff",
        "colab": {
          "base_uri": "https://localhost:8080/"
        }
      },
      "execution_count": 14,
      "outputs": [
        {
          "output_type": "stream",
          "name": "stdout",
          "text": [
            "[[19 22]\n",
            " [43 50]]\n"
          ]
        }
      ]
    },
    {
      "cell_type": "markdown",
      "source": [
        "**Funções estatísticas**"
      ],
      "metadata": {
        "id": "3cEu5hFv2ST3"
      }
    },
    {
      "cell_type": "code",
      "source": [
        "dados = np.array([5, 10, 15, 20, 25])\n",
        "\n",
        "print(np.mean(dados))   # Média\n",
        "print(np.median(dados)) # Mediana\n",
        "print(np.std(dados))    # Desvio padrão\n",
        "print(np.sum(dados))    # Soma total\n",
        "print(np.max(dados))    # Máximo\n",
        "print(np.min(dados))    # Mínimo\n"
      ],
      "metadata": {
        "id": "boA38G5k2WY3",
        "outputId": "dc645f30-c5b6-488e-c9c6-b849302d3488",
        "colab": {
          "base_uri": "https://localhost:8080/"
        }
      },
      "execution_count": 15,
      "outputs": [
        {
          "output_type": "stream",
          "name": "stdout",
          "text": [
            "15.0\n",
            "15.0\n",
            "7.0710678118654755\n",
            "75\n",
            "25\n",
            "5\n"
          ]
        }
      ]
    },
    {
      "cell_type": "markdown",
      "source": [
        "Exemplo:"
      ],
      "metadata": {
        "id": "LhkmlJpr2a2B"
      }
    },
    {
      "cell_type": "code",
      "source": [
        "temperaturas = np.array([25, 27, 26, 30, 28, 29, 31])\n",
        "print(f'Média da semana: {np.mean(temperaturas):.2f}°C')"
      ],
      "metadata": {
        "id": "QGpEiEH-2b7f",
        "outputId": "32ae2d2c-ee51-43c9-a119-f80c750a36cb",
        "colab": {
          "base_uri": "https://localhost:8080/"
        }
      },
      "execution_count": 16,
      "outputs": [
        {
          "output_type": "stream",
          "name": "stdout",
          "text": [
            "Média da semana: 28.00°C\n"
          ]
        }
      ]
    },
    {
      "cell_type": "markdown",
      "source": [
        "## **Indexação e fatiamento**"
      ],
      "metadata": {
        "id": "7NzIx5uO3pYR"
      }
    },
    {
      "cell_type": "markdown",
      "source": [
        "Assim como em listas, podemos trabalhar com os índices e fatiamento.\n",
        "\n",
        "**Fatiamento**"
      ],
      "metadata": {
        "id": "UhlHtE0v324b"
      }
    },
    {
      "cell_type": "code",
      "source": [
        "arr = np.array([10, 20, 30, 40, 50])\n",
        "print(arr[0])    # Primeiro elemento\n",
        "print(arr[-1])   # Último elemento\n",
        "print(arr[1:4])  # Elementos do índice 1 ao 3"
      ],
      "metadata": {
        "id": "Pa_LJflL4GCH",
        "outputId": "a4715ca9-12c5-4471-a4c5-6739211cdcbc",
        "colab": {
          "base_uri": "https://localhost:8080/"
        }
      },
      "execution_count": 17,
      "outputs": [
        {
          "output_type": "stream",
          "name": "stdout",
          "text": [
            "10\n",
            "50\n",
            "[20 30 40]\n"
          ]
        }
      ]
    },
    {
      "cell_type": "code",
      "source": [
        "matriz = np.array([[1, 2, 3], [4, 5, 6], [7, 8, 9]])\n",
        "print(matriz)\n",
        "print(matriz[0, 1])   # Elemento na primeira linha, segunda coluna\n",
        "print(matriz[:, 1])   # Segunda coluna inteira\n",
        "print(matriz[1, :])   # Segunda linha inteira"
      ],
      "metadata": {
        "id": "iu2Mz3Rk4byO",
        "outputId": "f58e8e62-8663-49df-ea9f-53f881c46fc3",
        "colab": {
          "base_uri": "https://localhost:8080/"
        }
      },
      "execution_count": 18,
      "outputs": [
        {
          "output_type": "stream",
          "name": "stdout",
          "text": [
            "[[1 2 3]\n",
            " [4 5 6]\n",
            " [7 8 9]]\n",
            "2\n",
            "[2 5 8]\n",
            "[4 5 6]\n"
          ]
        }
      ]
    },
    {
      "cell_type": "markdown",
      "source": [
        "Podemos também acessar os elementos individualmente, como em lsitas, utilizando **for**."
      ],
      "metadata": {
        "id": "7j8-4mzE5fLP"
      }
    },
    {
      "cell_type": "code",
      "source": [
        "vetor = np.array([10, 20, 30, 40, 50])\n",
        "\n",
        "for elemento in vetor:\n",
        "    print(elemento)"
      ],
      "metadata": {
        "id": "z9BEyKqt514t",
        "outputId": "67f10fc7-66bb-4232-bb83-8d7dc547de1d",
        "colab": {
          "base_uri": "https://localhost:8080/"
        }
      },
      "execution_count": 19,
      "outputs": [
        {
          "output_type": "stream",
          "name": "stdout",
          "text": [
            "10\n",
            "20\n",
            "30\n",
            "40\n",
            "50\n"
          ]
        }
      ]
    },
    {
      "cell_type": "markdown",
      "source": [
        "Há também uma função específica para isso, a `ndinter()`."
      ],
      "metadata": {
        "id": "5qLSAXyM6WCX"
      }
    },
    {
      "cell_type": "code",
      "source": [
        "for elemento in np.nditer(vetor):\n",
        "    print(elemento)"
      ],
      "metadata": {
        "id": "zmx58nr56gjM",
        "outputId": "a7c09927-c28f-4f3e-8544-78082cc22884",
        "colab": {
          "base_uri": "https://localhost:8080/"
        }
      },
      "execution_count": 20,
      "outputs": [
        {
          "output_type": "stream",
          "name": "stdout",
          "text": [
            "10\n",
            "20\n",
            "30\n",
            "40\n",
            "50\n"
          ]
        }
      ]
    },
    {
      "cell_type": "markdown",
      "source": [
        "A função `enumerate()` também funciona com NumPy."
      ],
      "metadata": {
        "id": "odCPZmVh6pzQ"
      }
    },
    {
      "cell_type": "code",
      "source": [
        "for i, elemento in enumerate(vetor):\n",
        "    print(f'Índice {i}: {elemento}')"
      ],
      "metadata": {
        "id": "ZT1Hf6IM60h3",
        "outputId": "7929cb22-3502-4ac3-987c-e8ede34fabfb",
        "colab": {
          "base_uri": "https://localhost:8080/"
        }
      },
      "execution_count": 21,
      "outputs": [
        {
          "output_type": "stream",
          "name": "stdout",
          "text": [
            "Índice 0: 10\n",
            "Índice 1: 20\n",
            "Índice 2: 30\n",
            "Índice 3: 40\n",
            "Índice 4: 50\n"
          ]
        }
      ]
    },
    {
      "cell_type": "markdown",
      "source": [
        "Com matrizes também funcionam."
      ],
      "metadata": {
        "id": "GCl93TiQ7Hp2"
      }
    },
    {
      "cell_type": "code",
      "source": [
        "matriz = np.array([[1, 2, 3],\n",
        "                   [4, 5, 6],\n",
        "                   [7, 8, 9]])\n",
        "\n",
        "for linha in matriz:\n",
        "    print(linha)"
      ],
      "metadata": {
        "id": "gjSPqJim7Nng",
        "outputId": "fcb20c89-8d4f-4e22-8aba-7c0228becd72",
        "colab": {
          "base_uri": "https://localhost:8080/"
        }
      },
      "execution_count": 23,
      "outputs": [
        {
          "output_type": "stream",
          "name": "stdout",
          "text": [
            "[1 2 3]\n",
            "[4 5 6]\n",
            "[7 8 9]\n"
          ]
        }
      ]
    },
    {
      "cell_type": "code",
      "source": [
        "for linha in matriz:\n",
        "    for elemento in linha:\n",
        "        print(elemento, end=' ')"
      ],
      "metadata": {
        "id": "IApLJ1Z17O-c",
        "outputId": "658da572-1ace-49f8-cf99-cad151730679",
        "colab": {
          "base_uri": "https://localhost:8080/"
        }
      },
      "execution_count": 22,
      "outputs": [
        {
          "output_type": "stream",
          "name": "stdout",
          "text": [
            "1 2 3 4 5 6 7 8 9 "
          ]
        }
      ]
    },
    {
      "cell_type": "code",
      "source": [
        "for elemento in np.nditer(matriz):\n",
        "    print(elemento, end=' ')"
      ],
      "metadata": {
        "id": "jeoNy6BX7SK9",
        "outputId": "bac06d33-e8a5-4ee8-d7ae-d4debf6c3309",
        "colab": {
          "base_uri": "https://localhost:8080/"
        }
      },
      "execution_count": 24,
      "outputs": [
        {
          "output_type": "stream",
          "name": "stdout",
          "text": [
            "1 2 3 4 5 6 7 8 9 "
          ]
        }
      ]
    },
    {
      "cell_type": "code",
      "source": [
        "for i, linha in enumerate(matriz):\n",
        "    print(f'Linha {i}: {linha}')"
      ],
      "metadata": {
        "id": "yBeu0Afx7ViL",
        "outputId": "36b406dc-b63f-4b99-be15-aa764b7b3c07",
        "colab": {
          "base_uri": "https://localhost:8080/"
        }
      },
      "execution_count": 25,
      "outputs": [
        {
          "output_type": "stream",
          "name": "stdout",
          "text": [
            "Linha 0: [1 2 3]\n",
            "Linha 1: [4 5 6]\n",
            "Linha 2: [7 8 9]\n"
          ]
        }
      ]
    },
    {
      "cell_type": "code",
      "source": [
        "linhas, colunas = matriz.shape\n",
        "\n",
        "for i in range(linhas):\n",
        "    for j in range(colunas):\n",
        "        print(f'Elemento[{i},{j}] = {matriz[i, j]}')"
      ],
      "metadata": {
        "id": "KF_eT5RW7byO",
        "outputId": "358cb8e8-bb17-42b8-f748-b16bf512cbe6",
        "colab": {
          "base_uri": "https://localhost:8080/"
        }
      },
      "execution_count": 26,
      "outputs": [
        {
          "output_type": "stream",
          "name": "stdout",
          "text": [
            "Elemento[0,0] = 1\n",
            "Elemento[0,1] = 2\n",
            "Elemento[0,2] = 3\n",
            "Elemento[1,0] = 4\n",
            "Elemento[1,1] = 5\n",
            "Elemento[1,2] = 6\n",
            "Elemento[2,0] = 7\n",
            "Elemento[2,1] = 8\n",
            "Elemento[2,2] = 9\n"
          ]
        }
      ]
    },
    {
      "cell_type": "markdown",
      "source": [
        "# **Manipulação de arquivos**"
      ],
      "metadata": {
        "id": "dzOBh3-I9Qol"
      }
    },
    {
      "cell_type": "markdown",
      "source": [
        "Utilizar uma biblioteca como a NumPy faz mtuio sentido quando lidamos com grande número de dados. Geralmente essa grande massa de dados está associada à um base externa, como um arquivo.  \n",
        "A biblioteca NumPy é preparada para atuar com arquivos estruturados de dados, como o formato **.csv** (*Comma-Separated Values* ou Valores Separados por Vírgulas), comum em editores de planilhas.  \n",
        "Para praticar durante a aula, vamos fazer um script de criação de um arquivo `dados.csv`. Esse arquivo ficará acessível para nosso notebook e se encontra na aba **arquivos** (ícone de pasta, ao lado esquerdo).\n",
        "\n",
        "```\n",
        "10,20,30\n",
        "40,50,60\n",
        "70,80,90\n",
        "```\n"
      ],
      "metadata": {
        "id": "l8Aii3F9A7KH"
      }
    },
    {
      "cell_type": "code",
      "source": [
        "with open('dados.csv', 'w') as f:\n",
        "    f.write('10,20,30\\n40,50,60\\n70,80,90\\n')"
      ],
      "metadata": {
        "id": "PUdwmowBB3yY"
      },
      "execution_count": 27,
      "outputs": []
    },
    {
      "cell_type": "markdown",
      "source": [
        "Para carregar um arquivo de dados é bem simples em NumPy:"
      ],
      "metadata": {
        "id": "-c498hXzC5Nj"
      }
    },
    {
      "cell_type": "code",
      "source": [
        "dados = np.loadtxt('dados.csv', delimiter=',')\n",
        "print(dados)"
      ],
      "metadata": {
        "id": "1oC_IJXKDodQ",
        "outputId": "07817bba-8daf-4334-8834-920f9a6f8fa8",
        "colab": {
          "base_uri": "https://localhost:8080/"
        }
      },
      "execution_count": 28,
      "outputs": [
        {
          "output_type": "stream",
          "name": "stdout",
          "text": [
            "[[10. 20. 30.]\n",
            " [40. 50. 60.]\n",
            " [70. 80. 90.]]\n"
          ]
        }
      ]
    },
    {
      "cell_type": "markdown",
      "source": [
        "Note que o formato CSV o separador vírgula é definido como um argumento nomeado `delimiter`.  \n",
        "Depois dessa simples instrução, a matriz `dados` terá os dados, separados por linha e coluna. Com isso, podemos fazer algumas operações estatísticas com esses dados."
      ],
      "metadata": {
        "id": "q0Pb61u9ESwG"
      }
    },
    {
      "cell_type": "code",
      "source": [
        "print(f'Média: {np.mean(dados)}')\n",
        "print(f'Máximo: {np.max(dados)}')\n",
        "print(f'Mínimo: {np.min(dados)}')\n",
        "print(f'Soma de todos os valores: {np.sum(dados)}')"
      ],
      "metadata": {
        "id": "BvFo_w8iGiDY",
        "outputId": "7947b433-2eed-4442-89c6-95c59b688cb2",
        "colab": {
          "base_uri": "https://localhost:8080/"
        }
      },
      "execution_count": 29,
      "outputs": [
        {
          "output_type": "stream",
          "name": "stdout",
          "text": [
            "Média: 50.0\n",
            "Máximo: 90.0\n",
            "Mínimo: 10.0\n",
            "Soma de todos os valores: 450.0\n"
          ]
        }
      ]
    },
    {
      "cell_type": "markdown",
      "source": [
        "E filtros:"
      ],
      "metadata": {
        "id": "xzT9rs-KG373"
      }
    },
    {
      "cell_type": "code",
      "source": [
        "dados = np.loadtxt('dados.csv', delimiter=',')\n",
        "filtro = dados > 30\n",
        "print(dados[filtro])  # Mostra apenas os valores maiores que 30"
      ],
      "metadata": {
        "id": "SzCCtdhPG5_m",
        "outputId": "d7d7008d-ff46-42e5-9d7e-57668ccb9a07",
        "colab": {
          "base_uri": "https://localhost:8080/"
        }
      },
      "execution_count": 30,
      "outputs": [
        {
          "output_type": "stream",
          "name": "stdout",
          "text": [
            "[40. 50. 60. 70. 80. 90.]\n"
          ]
        }
      ]
    },
    {
      "cell_type": "markdown",
      "source": [
        "Também é possível possível salvar novamente, em até mesmo em um arquivo diferente:"
      ],
      "metadata": {
        "id": "1C2IVB0zG_Bx"
      }
    },
    {
      "cell_type": "code",
      "source": [
        "np.savetxt('dados_processados.csv', dados * 2, delimiter=',', fmt='%.2f')"
      ],
      "metadata": {
        "id": "mvuLq_-xHvz6"
      },
      "execution_count": 31,
      "outputs": []
    },
    {
      "cell_type": "markdown",
      "source": [
        "**EXERCÍCIOS**\n",
        "\n",
        "1. Crie um vetor contendo números de 1 a 1000, e depois:\n",
        "  + Eleve todos os elementos ao quadrado.\n",
        "  + Filtre e exiba apenas os valores maiores que 30.\n",
        "  + Calcule e exiba a média e o desvio padrão do vetor resultante.\n",
        "\n",
        "**Dica:** explore o seguinte comando: `vetor_int = np.random.randint(1, 10, size=5)`\n"
      ],
      "metadata": {
        "id": "z0Qwi0xj97pi"
      }
    },
    {
      "cell_type": "code",
      "source": [
        "vetor_int = np.random.randint(1,1000,size = 50)\n",
        "print(vetor_int)\n",
        "\n",
        "vetor_int = vetor_int**2\n",
        "print(vetor_int)\n",
        "\n",
        "filtro = vetor_int > 30\n",
        "filtrado = vetor_int[filtro]\n",
        "\n",
        "print(np.mean(filtrado))\n",
        "print(np.std(filtrado))"
      ],
      "metadata": {
        "id": "FYaJwqS1QoB_",
        "outputId": "760048d8-2bdb-446a-f966-3a7c4b1b0956",
        "colab": {
          "base_uri": "https://localhost:8080/"
        }
      },
      "execution_count": 32,
      "outputs": [
        {
          "output_type": "stream",
          "name": "stdout",
          "text": [
            "[486 758 603 981 974 562   9 990 688  53 125 199 625  44 490 310 231  94\n",
            " 186 462 998 706 459 193 475 808 633 211 461 582 429 714 595 158  96 802\n",
            " 651 912 513 388 415 115 966 261 791  81 271 532  60 659]\n",
            "[236196 574564 363609 962361 948676 315844     81 980100 473344   2809\n",
            "  15625  39601 390625   1936 240100  96100  53361   8836  34596 213444\n",
            " 996004 498436 210681  37249 225625 652864 400689  44521 212521 338724\n",
            " 184041 509796 354025  24964   9216 643204 423801 831744 263169 150544\n",
            " 172225  13225 933156  68121 625681   6561  73441 283024   3600 434281]\n",
            "311538.82\n",
            "300011.563536987\n"
          ]
        }
      ]
    },
    {
      "cell_type": "markdown",
      "source": [
        "2. Crie uma matriz 3x3 com números inteiros aleatórios entre 100 e 999.  \n",
        "  + Exiba a matriz gerada.\n",
        "  + Calcule e exiba a soma de todos os elementos da matriz.\n",
        "  + Encontre e exiba o maior e o menor valor da matriz.\n",
        "  + Calcule e exiba a média dos valores de cada linha.\n",
        "   \n",
        "\n",
        "**Dica:** explore o seguinte comando: `matriz_int = np.random.randint(1, 100, size=(2, 2))`\n",
        "\n"
      ],
      "metadata": {
        "id": "jcInHQTO_uuG"
      }
    },
    {
      "cell_type": "code",
      "source": [
        "matriz = np.random.randint(100,999,size=(3,3))\n",
        "print(matriz)\n",
        "print(np.sum(matriz))\n",
        "print(np.max(matriz), np.min(matriz))\n",
        "\n",
        "for linha in matriz:\n",
        "  print(np.mean(linha))"
      ],
      "metadata": {
        "id": "TTBQtlVAQqBS",
        "outputId": "e51c869d-0e5d-4667-c98e-07635cfe2054",
        "colab": {
          "base_uri": "https://localhost:8080/"
        }
      },
      "execution_count": 33,
      "outputs": [
        {
          "output_type": "stream",
          "name": "stdout",
          "text": [
            "[[967 831 118]\n",
            " [979 995 560]\n",
            " [691 301 619]]\n",
            "6061\n",
            "995 118\n",
            "638.6666666666666\n",
            "844.6666666666666\n",
            "537.0\n"
          ]
        }
      ]
    },
    {
      "cell_type": "markdown",
      "source": [
        "3. Ler uma matriz de um arquivo CSV.\n",
        "  + Inverter a matriz original usando NumPy.\n",
        "  + Salvar a matriz invertida em um novo arquivo CSV.\n",
        "  + Zerar (colocar zeros) na diagonal principal da matriz original\n",
        "  + Salvar a matriz com a diagonal zerada em um novo arquivo CSV.\n",
        "\n",
        "  **Dicas**:\n",
        "  + Existem as funções `linalg.det()`, que mostra o determinante; e a função `linalg.inv()`, para geração matriz invertida. Pesquise o uso dessas funções;\n",
        "  + Existe a função `fill_diagonal()`, pesquise como usar."
      ],
      "metadata": {
        "id": "LePY3kf8LNTV"
      }
    },
    {
      "cell_type": "code",
      "source": [
        "import numpy as np\n",
        "\n",
        "with open('matriz.csv', 'w') as f:\n",
        "  f.write('2,1,0\\n0,1,0\\n1,2,1\\n')\n",
        "  #f.write('1,2,3\\n4,5,6\\n7,8,9\\n')\n",
        "\n",
        "matriz = np.loadtxt('matriz.csv', delimiter=',')\n",
        "print('Matriz original:')\n",
        "print(matriz)\n",
        "# Verificar se a matriz pode ser invertida (determinante diferente de zero)\n",
        "if np.linalg.det(matriz) == 0:\n",
        "    print('Erro: A matriz não é inversível (determinante igual a zero).')\n",
        "else:\n",
        "    # Inverte a matriz\n",
        "    matriz_invertida = np.linalg.inv(matriz)\n",
        "    print('Matriz Invertida:')\n",
        "    print(matriz_invertida)\n",
        "\n",
        "    np.savetxt('matriz_invertida.csv', matriz_invertida, delimiter=',', fmt='%.2f')"
      ],
      "metadata": {
        "id": "wIMn66heU6u2"
      },
      "execution_count": null,
      "outputs": []
    }
  ]
}