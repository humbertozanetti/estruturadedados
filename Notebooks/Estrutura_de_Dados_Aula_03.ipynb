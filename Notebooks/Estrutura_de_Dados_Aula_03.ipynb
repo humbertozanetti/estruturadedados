{
  "nbformat": 4,
  "nbformat_minor": 0,
  "metadata": {
    "colab": {
      "provenance": [],
      "authorship_tag": "ABX9TyM8N/yrTged1/6U3BdZefgv",
      "include_colab_link": true
    },
    "kernelspec": {
      "name": "python3",
      "display_name": "Python 3"
    },
    "language_info": {
      "name": "python"
    }
  },
  "cells": [
    {
      "cell_type": "markdown",
      "metadata": {
        "id": "view-in-github",
        "colab_type": "text"
      },
      "source": [
        "<a href=\"https://colab.research.google.com/github/humbertozanetti/estruturadedados/blob/main/Notebooks/Estrutura_de_Dados_Aula_03.ipynb\" target=\"_parent\"><img src=\"https://colab.research.google.com/assets/colab-badge.svg\" alt=\"Open In Colab\"/></a>"
      ]
    },
    {
      "cell_type": "markdown",
      "source": [
        "# **ESTRUTURA DE DADOS - AULA 03**\n",
        "# **Prof. Dr. Humberto A. P. Zanetti**\n",
        "# Fatec Deputado Ary Fossen - Jundiaí\n",
        "\n",
        "\n",
        "---\n",
        "\n",
        "**Conteúdo da aula:**\n",
        "+ NumPy\n",
        "  - Vetores\n",
        "  - Matrizes\n",
        "\n",
        "\n",
        "\n",
        "\n",
        "\n",
        "---"
      ],
      "metadata": {
        "id": "n5S6edMtmeD8"
      }
    },
    {
      "cell_type": "markdown",
      "source": [
        "# **A biblioteca NumPy**"
      ],
      "metadata": {
        "id": "gczS2WEfnPbY"
      }
    },
    {
      "cell_type": "markdown",
      "source": [
        "A biblioteca **NumPy** (*Numerical Python*) é especializada em computação númerica, incluindo o trabalho com **arrays** (vetores) e **matrizes** e possui uma grande coleção de funções matemáticas eficientes para operações em larga escala.\n",
        "Entre as principais vantagens do uso do NumPy, destacam-se:\n",
        "+ Melhor desempenho que listas Python para operações matemáticas.\n",
        "+ Usa menos memória para armazenar dados.\n",
        "+ Possui operações vetorizadas que eliminam a necessidade de loops explícitos.\n",
        "+ Integração com outras bibliotecas científicas, como Pandas, Matplotlib e SciPy.\n",
        "\n",
        "Muito simples e objetivo ao uso, como podemos ver abaixo:"
      ],
      "metadata": {
        "id": "5rp45RyynZ4I"
      }
    },
    {
      "cell_type": "code",
      "source": [
        "import numpy as np\n",
        "\n",
        "vetor = np.array([1, 2, 3, 4, 5])\n",
        "print(vetor)\n"
      ],
      "metadata": {
        "id": "Uzw4rnL1pp75"
      },
      "execution_count": null,
      "outputs": []
    },
    {
      "cell_type": "markdown",
      "source": [
        "## **Por que estudar vetores e matrizes, além das listas?**\n",
        "\n",
        "Vetores são mais eficientes e rápidos porque armazenam elementos de mesmo tipo e usam operações otimizadas, desenvolvidas em C (interligando o kernel CPython).  \n",
        "Listas em Python são mais flexíveis, mas menos eficientes, pois armazenam objetos genéricos, e com isso, utilizam mais memória.  \n",
        "Vetores e matrizes trazem vantagens em relação a busca, ordenação, entre outras operações, em relação à listas.  \n",
        "Isso é muito nítido, até mesmo em um simples código podemos notar:"
      ],
      "metadata": {
        "id": "eTBlhYeooqAg"
      }
    },
    {
      "cell_type": "code",
      "source": [
        "import numpy as np\n",
        "import time\n",
        "\n",
        "lista = list(range(1_000_000))\n",
        "array = np.array(lista)\n",
        "\n",
        "inicio_lista = time.time()\n",
        "[lista[i] * 2 for i in range(len(lista))]\n",
        "print('Tempo lista:', time.time() - inicio_lista)\n",
        "\n",
        "inicio_array = time.time()\n",
        "array * 2  # Operação vetorizada\n",
        "print('Tempo array:', time.time() - inicio_array)\n"
      ],
      "metadata": {
        "id": "FaSB55mSpeBw"
      },
      "execution_count": null,
      "outputs": []
    },
    {
      "cell_type": "markdown",
      "source": [
        "\n",
        "| Característica | Array\t| Lista |   \n",
        "| :------------ | :---:  | :---: |\n",
        "| **Eficiência** |\tAlta (mais rápido) | \tBaixa (mais lento) |\n",
        "| **Tipos de dados** | Um único tipo\t| Qualquer tipo |\n",
        "| **Operações matemáticas** |\tVetorizadas (rápidas) |\tPrecisa de loops |\n",
        "| **Uso de memória** |\tMenor\t| Maior |"
      ],
      "metadata": {
        "id": "kErOECu8qS6A"
      }
    }
  ]
}