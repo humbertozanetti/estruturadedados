{
  "nbformat": 4,
  "nbformat_minor": 0,
  "metadata": {
    "colab": {
      "provenance": [],
      "authorship_tag": "ABX9TyNF/z+Z6PQK/vQ7uhNhkyoP",
      "include_colab_link": true
    },
    "kernelspec": {
      "name": "python3",
      "display_name": "Python 3"
    },
    "language_info": {
      "name": "python"
    }
  },
  "cells": [
    {
      "cell_type": "markdown",
      "metadata": {
        "id": "view-in-github",
        "colab_type": "text"
      },
      "source": [
        "<a href=\"https://colab.research.google.com/github/humbertozanetti/estruturadedados/blob/main/Notebooks/Estrutura_de_Dados_Aula_07.ipynb\" target=\"_parent\"><img src=\"https://colab.research.google.com/assets/colab-badge.svg\" alt=\"Open In Colab\"/></a>"
      ]
    },
    {
      "cell_type": "markdown",
      "source": [
        "# **ESTRUTURA DE DADOS - AULA 04**\n",
        "# **Prof. Dr. Humberto A. P. Zanetti**\n",
        "# Fatec Deputado Ary Fossen - Jundiaí\n",
        "\n",
        "\n",
        "---\n",
        "\n",
        "**Conteúdo da aula:**\n",
        "\n",
        "* Implementando uma Lista Simplesmente Encadeada\n",
        "\n",
        "**Fontes de consulta interessante:**\n",
        "* https://docs.python.org/pt-br/3/tutorial/datastructures.html\n",
        "* Vídeo [\"Estrutura de Dados e Algoritmos em Python #03 - Lista Encadeada ( Linked List)\"](https://youtu.be/cOQxaSGTMK0?si=ppCWup5_t337tTsR)\n"
      ],
      "metadata": {
        "id": "keSBbwrIUQ5X"
      }
    },
    {
      "cell_type": "markdown",
      "source": [
        "# **LISTA ENCADEADA (*LINKED LIST*)**\n",
        "\n",
        "Uma lista encadeada é uma coleção linear de elementos, chamados **nós**, onde cada nó contém **um valor** e **uma referência** (ponteiro) para o próximo nó da lista. Diferente de *arrays*, as listas encadeadas não precisam de blocos de memória contíguos.\n",
        "Em Python, acaba sendo o tipo de dado composto mais fundamental e bem diferente dos vetores! A diferença fundamental entre arrays e listas encadeadas reside na maneira como armazenam e acessam seus elementos.\n",
        "\n",
        "**Arrays (Vetores)**\n",
        "* **Armazenamento Contíguo**: Os elementos de um array são armazenados em blocos de memória contíguos. Isso significa que cada elemento é alocado diretamente ao lado do outro na memória.\n",
        "* **Acesso por Índice**: Arrays permitem acessar elementos diretamente através de índices. Isso faz com que o acesso a qualquer elemento seja rápido.\n",
        "* **Tamanho Fixo**: Um array tem tamanho fixo, definido no momento de sua criação. Alterar o tamanho de um array exige a realocação da memória.\n",
        "* **Eficiência no acesso**: Como o acesso a elementos é feito diretamente por índice, arrays são mais rápidos quando o objetivo é acessar elementos individualmente.\n",
        "\n",
        "**Listas**\n",
        "* **Armazenamento Dinâmico**: Em uma lista encadeada, cada elemento (nó) é armazenado em qualquer lugar da memória e contém um ponteiro para o próximo nó. Assim, os nós não estão em posições de memória contíguas.\n",
        "* **Acesso Sequencial**: Para acessar um elemento em uma lista encadeada, é necessário percorrer a lista do início até o elemento desejado. Isso torna o acesso a elementos mais lento.\n",
        "* **Tamanho Dinâmico**: Listas encadeadas podem crescer ou diminuir dinamicamente conforme necessário, sem a necessidade de realocar ou redimensionar a estrutura de dados.\n",
        "* **Eficiência na Inserção e Remoção**: Inserir ou remover elementos em qualquer posição de uma lista encadeada é eficiente, pois não requer a movimentação de outros elementos como nos arrays.\n",
        "\n",
        "## **Criando uma lista encadeada**\n",
        "\n",
        "### **Nó**\n",
        "\n",
        "Cada elemento em uma lista é chamado de nó. Um nó contém no mínimo 2 atributos: o dado armazenado e a referência para o próximo nó (criando um *link* para o próximo elemento)."
      ],
      "metadata": {
        "id": "1ktwjGPU_833"
      }
    },
    {
      "cell_type": "code",
      "source": [
        "class No:\n",
        "    def __init__(self, dado):\n",
        "        self.dado = dado\n",
        "        self.proximo = None"
      ],
      "metadata": {
        "id": "weGZupI_B5Un"
      },
      "execution_count": null,
      "outputs": []
    },
    {
      "cell_type": "markdown",
      "source": [
        "### Criando a Lista\n",
        "\n",
        "Toda lista encadeada precisa de um primeiro elemento, o qual chamamos de **cabeça** (*head*), assim como é chamado de **cauda** (*tail*).\n",
        "[Imagem de uma lista encadeada ](https://upload.wikimedia.org/wikipedia/commons/6/69/ListaEncadeada.jpg).\n",
        "Vamos criar então uma classe **ListaEncadeada** que irá representar de fato nossa lisat, e que usará obejtos do tipo **Nó**, para formação de seus elementos. Para esse exemplo vamos usar o conceito de **Lista Simplesmente Encadeada**."
      ],
      "metadata": {
        "id": "hEiZ3I8wB7Wf"
      }
    },
    {
      "cell_type": "code",
      "source": [
        "class ListaEncadeada:\n",
        "    def __init__(self):\n",
        "        self.cabeca = None"
      ],
      "metadata": {
        "id": "80TlPrs6EfvK"
      },
      "execution_count": null,
      "outputs": []
    },
    {
      "cell_type": "markdown",
      "source": [
        "Temos que criar um método que insere um novo elemento:"
      ],
      "metadata": {
        "id": "xAxnpCt2EuwG"
      }
    },
    {
      "cell_type": "code",
      "source": [
        "def adicionar(self, dado):\n",
        "    novo_no = No(dado)\n",
        "    if not self.cabeca:\n",
        "        self.cabeca = novo_no\n",
        "        return # retorno \"dummie\"\n",
        "    no_atual = self.cabeca\n",
        "    while no_atual.proximo:\n",
        "        no_atual = no_atual.proximo\n",
        "    no_atual.proximo = novo_no"
      ],
      "metadata": {
        "id": "YZ9CtIQpE3xW"
      },
      "execution_count": null,
      "outputs": []
    },
    {
      "cell_type": "markdown",
      "source": [
        "É interessante termos um método que possa exibir toda a lista:"
      ],
      "metadata": {
        "id": "uNaXIO83E6ie"
      }
    },
    {
      "cell_type": "code",
      "source": [
        "def exibir_lista(self):\n",
        "    no_atual = self.cabeca\n",
        "    while no_atual:\n",
        "        print(no_atual.dado, end=\" -> \")\n",
        "        no_atual = no_atual.proximo\n",
        "    print(\"None\")"
      ],
      "metadata": {
        "id": "uT3WnMleFCjH"
      },
      "execution_count": null,
      "outputs": []
    },
    {
      "cell_type": "markdown",
      "source": [
        "Como a lista é uma estrutura flexível, a operação de remover um elemento é uma função básica, e é implementado no método a seguir:"
      ],
      "metadata": {
        "id": "zt6gjWClFDoO"
      }
    },
    {
      "cell_type": "code",
      "source": [
        "def remover(self, dado):\n",
        "        if self.esta_vazia():\n",
        "            print('A lista está vazia.')\n",
        "            return\n",
        "\n",
        "        atual = self.cabeca\n",
        "        anterior = None\n",
        "\n",
        "        # Percorre a lista para encontrar o nó a ser removido\n",
        "        while atual is not None:\n",
        "            if atual.dado == dado:\n",
        "                # Se o nó a ser removido é o primeiro\n",
        "                if anterior is None:\n",
        "                    self.cabeca = atual.proximo\n",
        "                else:\n",
        "                    anterior.proximo = atual.proximo\n",
        "                print(f'Elemento {dado} removido.')\n",
        "                return\n",
        "            anterior = atual\n",
        "            atual = atual.proximo\n",
        "\n",
        "        print(f'Elemento {dado} não encontrado na lista.')"
      ],
      "metadata": {
        "id": "sC9wOxXoFPKe"
      },
      "execution_count": null,
      "outputs": []
    },
    {
      "cell_type": "markdown",
      "source": [
        "E seria possível remover algum elementos, se a lista estiver vazia? O seguinte método faz essa verificação:"
      ],
      "metadata": {
        "id": "rezD9wyyFm86"
      }
    },
    {
      "cell_type": "code",
      "source": [
        "def esta_vazia(self):\n",
        "        return self.cabeca is None"
      ],
      "metadata": {
        "id": "S3F5RoIDFvkm"
      },
      "execution_count": null,
      "outputs": []
    },
    {
      "cell_type": "markdown",
      "source": [
        "Vamos interagir um pouco com a lista:"
      ],
      "metadata": {
        "id": "ucKMmN3T1Vfd"
      }
    },
    {
      "cell_type": "code",
      "source": [
        "class No:\n",
        "    def __init__(self, dado):\n",
        "        self.dado = dado\n",
        "        self.proximo = None\n",
        "\n",
        "class ListaEncadeada:\n",
        "    def __init__(self):\n",
        "        self.cabeca = None\n",
        "\n",
        "    # Adicionar um elemento\n",
        "    def adicionar(self, dado):\n",
        "        novo_no = No(dado)\n",
        "        if not self.cabeca:\n",
        "            self.cabeca = novo_no\n",
        "            return # retorno \"dummie\"\n",
        "        no_atual = self.cabeca\n",
        "        while no_atual.proximo:\n",
        "            no_atual = no_atual.proximo\n",
        "        no_atual.proximo = novo_no\n",
        "\n",
        "    # Verifica se a lista está vazia\n",
        "    def esta_vazia(self):\n",
        "        return self.cabeca is None\n",
        "\n",
        "    # Exibir todos os elementos da lista\n",
        "    def exibir_lista(self):\n",
        "        if self.esta_vazia():\n",
        "            print('A lista está vazia.')\n",
        "        else:\n",
        "            atual = self.cabeca\n",
        "            while atual:\n",
        "                print(atual.dado, end=' -> ')\n",
        "                atual = atual.proximo\n",
        "            print('None')\n",
        "\n",
        "    # Método para remover um nó com base no dado\n",
        "    def remover(self, dado):\n",
        "        if self.esta_vazia():\n",
        "            print('A lista está vazia.')\n",
        "            return\n",
        "\n",
        "        atual = self.cabeca\n",
        "        anterior = None\n",
        "\n",
        "        # Percorre a lista para encontrar o nó a ser removido\n",
        "        while atual is not None:\n",
        "            if atual.dado == dado:\n",
        "                # Se o nó a ser removido é o primeiro\n",
        "                if anterior is None:\n",
        "                    self.cabeca = atual.proximo\n",
        "                else:\n",
        "                    anterior.proximo = atual.proximo\n",
        "                print(f'Elemento {dado} removido.')\n",
        "                return\n",
        "            anterior = atual\n",
        "            atual = atual.proximo\n",
        "\n",
        "        print(f'Elemento {dado} não encontrado na lista.')\n",
        "\n",
        "lista = ListaEncadeada()\n",
        "\n",
        "lista.adicionar(1)\n",
        "lista.adicionar(2)\n",
        "lista.adicionar(3)\n",
        "lista.adicionar(4)\n",
        "\n",
        "lista.exibir_lista()\n",
        "\n",
        "lista.remover(3)\n",
        "\n",
        "lista.exibir_lista()\n"
      ],
      "metadata": {
        "id": "yc5uUqX01a5h"
      },
      "execution_count": null,
      "outputs": []
    },
    {
      "cell_type": "markdown",
      "source": [
        "## **EXERCÍCIOS -  parte 1**\n",
        "\n",
        "* Faça o método 'buscar', que retorna True caso exista o valor na lista, ou False, caso não tenha.\n",
        "* Faça um método 'tamanho', que retorna a quantidade de elementos da lista\n",
        "* Faça um método 'buscar por índice' (buscar_indice), que retorno o valor no \"índice\" inserido"
      ],
      "metadata": {
        "id": "T5w2EUPGFxym"
      }
    },
    {
      "cell_type": "code",
      "source": [
        "    def buscar(self, dado):\n",
        "        atual = self.cabeca\n",
        "        while atual is not None:\n",
        "            if atual.dado == dado:\n",
        "                return True\n",
        "            atual = atual.proximo\n",
        "        return False\n",
        "\n",
        "\n",
        "\n",
        "\n",
        "    def tamanho(self):\n",
        "        contador = 0\n",
        "        atual = self.cabeca\n",
        "        while atual is not None:\n",
        "            contador += 1\n",
        "            atual = atual.proximo\n",
        "        return contador\n",
        "\n",
        "    def buscar_posicao(self, posicao):\n",
        "        atual = self.cabeca\n",
        "        contador = 0\n",
        "\n",
        "        while atual is not None and contador < posicao:\n",
        "            atual = atual.proximo\n",
        "            contador += 1\n",
        "\n",
        "        if atual is not None:\n",
        "            print(f'Elemento na posição {posicao}: {atual.dado}')\n",
        "        else:\n",
        "            print(f'Posição {posicao} fora do intervalo.')"
      ],
      "metadata": {
        "id": "XEbfJ3n8eCIQ"
      },
      "execution_count": null,
      "outputs": []
    },
    {
      "cell_type": "markdown",
      "source": [
        "## **Demais operações de Listas Simplesmente Encadeadas**\n",
        "\n",
        "* Adicionar dado no início\n",
        "* Adicionar dado em qualquer posição\n",
        "* Remover dado do início\n",
        "* Remover dado do fim\n",
        "* Remover dado de qualquer posição\n",
        "\n"
      ],
      "metadata": {
        "id": "aFCLw6lhAfd1"
      }
    },
    {
      "cell_type": "markdown",
      "source": [
        "## **Adicionar dado no início**"
      ],
      "metadata": {
        "id": "xvy7fNAEVH3B"
      }
    },
    {
      "cell_type": "code",
      "source": [
        "def inserir_no_inicio(self, dado):\n",
        "  novo_no = No(dado)\n",
        "  novo_no.proximo = self.cabeca\n",
        "  self.cabeca = novo_no"
      ],
      "metadata": {
        "id": "wl7EfjZdVKQd"
      },
      "execution_count": null,
      "outputs": []
    },
    {
      "cell_type": "markdown",
      "source": [
        "## **Adicionar dado em qualquer posição**"
      ],
      "metadata": {
        "id": "Avagjs32Vn7r"
      }
    },
    {
      "cell_type": "code",
      "source": [
        " def inserir_posicao(self, dado, posicao):\n",
        "        novo_no = No(dado)\n",
        "\n",
        "        if posicao == 0:\n",
        "            self.inserir_no_inicio(dado)\n",
        "            return\n",
        "\n",
        "        atual = self.cabeca\n",
        "        contador = 0\n",
        "\n",
        "        while atual is not None and contador < posicao - 1:\n",
        "            atual = atual.proximo\n",
        "            contador += 1\n",
        "\n",
        "        if atual is not None:\n",
        "            novo_no.proximo = atual.proximo\n",
        "            atual.proximo = novo_no\n",
        "        else:\n",
        "            print(f'Posição {posicao} fora do intervalo.')"
      ],
      "metadata": {
        "id": "YtP5hjeKVqfZ"
      },
      "execution_count": null,
      "outputs": []
    },
    {
      "cell_type": "markdown",
      "source": [
        "## **Remover dado do início**"
      ],
      "metadata": {
        "id": "bPygmFN6Vx0s"
      }
    },
    {
      "cell_type": "code",
      "source": [
        "def remover_primeiro(self):\n",
        "        if self.esta_vazia():\n",
        "            print('A lista está vazia.')\n",
        "            return\n",
        "\n",
        "        print(f'Elemento {self.cabeca.dado} removido.')\n",
        "        self.cabeca = self.cabeca.proximo"
      ],
      "metadata": {
        "id": "lhFJGLbFVz-L"
      },
      "execution_count": null,
      "outputs": []
    },
    {
      "cell_type": "markdown",
      "source": [
        "## **Remover dado do fim**"
      ],
      "metadata": {
        "id": "WfFgTD4zV-wY"
      }
    },
    {
      "cell_type": "code",
      "source": [
        "    def remover_ultimo(self):\n",
        "        if self.esta_vazia():\n",
        "            print('A lista está vazia.')\n",
        "            return\n",
        "\n",
        "        atual = self.cabeca\n",
        "        anterior = None\n",
        "\n",
        "        while atual.proximo is not None:\n",
        "            anterior = atual\n",
        "            atual = atual.proximo\n",
        "\n",
        "        if anterior is None:\n",
        "            self.cabeca = None\n",
        "        else:\n",
        "            anterior.proximo = None\n",
        "\n",
        "        print(f'Elemento {atual.dado} removido.')"
      ],
      "metadata": {
        "id": "CqHyYvBxWBCR"
      },
      "execution_count": null,
      "outputs": []
    },
    {
      "cell_type": "markdown",
      "source": [
        "## **Remover dado de qualquer posição**"
      ],
      "metadata": {
        "id": "jndr2MTjWH9c"
      }
    },
    {
      "cell_type": "code",
      "source": [
        "  def excluir_posicao(self, posicao):\n",
        "        if self.esta_vazia():\n",
        "            print('A lista está vazia.')\n",
        "            return\n",
        "\n",
        "        if posicao == 0:\n",
        "            self.remover_primeiro()\n",
        "            return\n",
        "\n",
        "        atual = self.cabeca\n",
        "        anterior = None\n",
        "        contador = 0\n",
        "\n",
        "        while atual is not None and contador < posicao:\n",
        "            anterior = atual\n",
        "            atual = atual.proximo\n",
        "            contador += 1\n",
        "\n",
        "        if atual is not None:\n",
        "            anterior.proximo = atual.proximo\n",
        "            print(f'Elemento na posição {posicao} removido.')\n",
        "        else:\n",
        "            print(f'Posição {posicao} fora do intervalo.')"
      ],
      "metadata": {
        "id": "HEJl7iClWLz4"
      },
      "execution_count": null,
      "outputs": []
    },
    {
      "cell_type": "markdown",
      "source": [
        "# **VAMOS INTERAGIR COM A CLASSE COMPLETA!**"
      ],
      "metadata": {
        "id": "b7LHVQ3yWvi0"
      }
    },
    {
      "cell_type": "code",
      "source": [
        "class No:\n",
        "    def __init__(self, dado):\n",
        "        self.dado = dado\n",
        "        self.proximo = None\n",
        "\n",
        "class ListaEncadeada:\n",
        "    def __init__(self):\n",
        "        self.cabeca = None\n",
        "\n",
        "    def esta_vazia(self):\n",
        "        return self.cabeca is None\n",
        "\n",
        "    def adicionar(self, dado):\n",
        "        novo_no = No(dado)\n",
        "        if not self.cabeca:\n",
        "            self.cabeca = novo_no\n",
        "            return\n",
        "        no_atual = self.cabeca\n",
        "        while no_atual.proximo:\n",
        "            no_atual = no_atual.proximo\n",
        "        no_atual.proximo = novo_no\n",
        "\n",
        "    def adicionar_inicio(self, dado):\n",
        "        novo_no = No(dado)\n",
        "        novo_no.proximo = self.cabeca\n",
        "        self.cabeca = novo_no\n",
        "\n",
        "    def adicionar_posicao(self, dado, posicao):\n",
        "        novo_no = No(dado)\n",
        "\n",
        "        if posicao == 0:\n",
        "            self.inserir_no_inicio(dado)\n",
        "            return\n",
        "\n",
        "        atual = self.cabeca\n",
        "        contador = 0\n",
        "\n",
        "        while atual is not None and contador < posicao - 1:\n",
        "            atual = atual.proximo\n",
        "            contador += 1\n",
        "\n",
        "        if atual is not None:\n",
        "            novo_no.proximo = atual.proximo\n",
        "            atual.proximo = novo_no\n",
        "        else:\n",
        "            print(f'Posição {posicao} fora do intervalo.')\n",
        "\n",
        "    def remover_ultimo(self):\n",
        "        if self.esta_vazia():\n",
        "            print('A lista está vazia.')\n",
        "            return\n",
        "\n",
        "        atual = self.cabeca\n",
        "        anterior = None\n",
        "\n",
        "        while atual.proximo is not None:\n",
        "            anterior = atual\n",
        "            atual = atual.proximo\n",
        "\n",
        "        if anterior is None:\n",
        "            self.cabeca = None\n",
        "        else:\n",
        "            anterior.proximo = None\n",
        "\n",
        "        print(f'Elemento {atual.dado} removido.')\n",
        "\n",
        "    def remover_primeiro(self):\n",
        "        if self.esta_vazia():\n",
        "            print('A lista está vazia.')\n",
        "            return\n",
        "\n",
        "        print(f'Elemento {self.cabeca.dado} removido.')\n",
        "        self.cabeca = self.cabeca.proximo\n",
        "\n",
        "    def remover_posicao(self, posicao):\n",
        "        if self.esta_vazia():\n",
        "            print('A lista está vazia.')\n",
        "            return\n",
        "\n",
        "        if posicao == 0:\n",
        "            self.remover_primeiro()\n",
        "            return\n",
        "\n",
        "        atual = self.cabeca\n",
        "        anterior = None\n",
        "        contador = 0\n",
        "\n",
        "        while atual is not None and contador < posicao:\n",
        "            anterior = atual\n",
        "            atual = atual.proximo\n",
        "            contador += 1\n",
        "\n",
        "        if atual is not None:\n",
        "            anterior.proximo = atual.proximo\n",
        "            print(f'Elemento na posição {posicao} removido.')\n",
        "        else:\n",
        "            print(f'Posição {posicao} fora do intervalo.')\n",
        "\n",
        "    def buscar(self, dado):\n",
        "        atual = self.cabeca\n",
        "        while atual is not None:\n",
        "            if atual.dado == dado:\n",
        "                return True\n",
        "            atual = atual.proximo\n",
        "        return False\n",
        "\n",
        "    def tamanho(self):\n",
        "        contador = 0\n",
        "        atual = self.cabeca\n",
        "        while atual is not None:\n",
        "            contador += 1\n",
        "            atual = atual.proximo\n",
        "        return contador\n",
        "\n",
        "    def buscar_posicao(self, posicao):\n",
        "        atual = self.cabeca\n",
        "        contador = 0\n",
        "\n",
        "        while atual is not None and contador < posicao:\n",
        "            atual = atual.proximo\n",
        "            contador += 1\n",
        "\n",
        "        if atual is not None:\n",
        "            print(f'Elemento na posição {posicao}: {atual.dado}')\n",
        "        else:\n",
        "            print(f'Posição {posicao} fora do intervalo.')\n",
        "\n",
        "    def exibir_lista(self):\n",
        "        if self.esta_vazia():\n",
        "            print('A lista está vazia.')\n",
        "        else:\n",
        "            atual = self.cabeca\n",
        "            while atual:\n",
        "                print(atual.dado, end=' -> ')\n",
        "                atual = atual.proximo\n",
        "            print('None')\n",
        "\n",
        "lista = ListaEncadeada()\n",
        "\n",
        "lista.adicionar(1)\n",
        "lista.adicionar(2)\n",
        "lista.adicionar(3)\n",
        "lista.adicionar(4)\n",
        "lista.adicionar_inicio(100)\n",
        "lista.adicionar_posicao(200,2)\n",
        "lista.remover_primeiro()\n",
        "lista.exibir_lista()\n",
        "\n",
        "lista.buscar_posicao(2)\n",
        "\n"
      ],
      "metadata": {
        "id": "ownohc_3XFj2"
      },
      "execution_count": null,
      "outputs": []
    },
    {
      "cell_type": "markdown",
      "source": [
        "## **EXERCÍCIO - parte 2**\n",
        "\n",
        "Vamos alterar um pouco a nossa classe:\n",
        "\n",
        "1. Vamos alterar o método 'buscar_posicao' para que agora ele retorne o valor.\n",
        "\n",
        "2. Como ficaria nossa classe (e métodos) se tivessemos que, além da 'cabeça', armazenar também a 'cauda'? Implemente essas alterações. Dicas:\n",
        "* *adicionar()*: A inserção no final da lista agora atualiza diretamente o ponteiro cauda, eliminando a necessidade de percorrer toda a lista para encontrar o último nó.\n",
        "* *remover_ultimo*(): Após a remoção do último nó, o ponteiro cauda é atualizado para o penúltimo nó.\n",
        "* *remover_primeiro*(): Se o primeiro nó for removido e a lista ficar vazia, o ponteiro cauda também é redefinido para None.\n",
        "* *adicionar_posicao*(): O método de inserção em uma posição específica também cuida de atualizar a cauda se o nó for inserido no final da lista.\n",
        "* *remover_posicao*(): Se um nó for removido da última posição, o ponteiro cauda será atualizado para o nó anterior.\n",
        "\n"
      ],
      "metadata": {
        "id": "KA_fp7yPXL3_"
      }
    },
    {
      "cell_type": "code",
      "source": [
        "class No:\n",
        "    def __init__(self, dado):\n",
        "        self.dado = dado\n",
        "        self.proximo = None\n",
        "\n",
        "class ListaEncadeada:\n",
        "    def __init__(self):\n",
        "        self.cabeca = None\n",
        "        self.cauda = None  # Atributo para armazenar o último nó\n",
        "\n",
        "    def esta_vazia(self):\n",
        "        return self.cabeca is None\n",
        "\n",
        "    def adicionar(self, dado):\n",
        "        novo_no = No(dado)\n",
        "        if self.esta_vazia():\n",
        "            self.cabeca = novo_no\n",
        "            self.cauda = novo_no  # Atualiza a cauda quando o primeiro nó é adicionado\n",
        "        else:\n",
        "            self.cauda.proximo = novo_no  # Atualiza o próximo da cauda\n",
        "            self.cauda = novo_no  # Atualiza a cauda para o novo nó\n",
        "\n",
        "    def adicionar_inicio(self, dado):\n",
        "        novo_no = No(dado)\n",
        "        if self.esta_vazia():\n",
        "            self.cabeca = novo_no\n",
        "            self.cauda = novo_no\n",
        "        else:\n",
        "            novo_no.proximo = self.cabeca\n",
        "            self.cabeca = novo_no\n",
        "\n",
        "    def adicionar_posicao(self, dado, posicao):\n",
        "        novo_no = No(dado)\n",
        "\n",
        "        if posicao == 0:\n",
        "            self.adicionar_inicio(dado)\n",
        "            return\n",
        "\n",
        "        atual = self.cabeca\n",
        "        contador = 0\n",
        "\n",
        "        while atual is not None and contador < posicao - 1:\n",
        "            atual = atual.proximo\n",
        "            contador += 1\n",
        "\n",
        "        if atual is not None:\n",
        "            novo_no.proximo = atual.proximo\n",
        "            atual.proximo = novo_no\n",
        "            if novo_no.proximo is None:\n",
        "                self.cauda = novo_no  # Atualiza a cauda se o nó foi inserido no final\n",
        "        else:\n",
        "            print(f'Posição {posicao} fora do intervalo.')\n",
        "\n",
        "    def remover_ultimo(self):\n",
        "        if self.esta_vazia():\n",
        "            print('A lista está vazia.')\n",
        "            return\n",
        "\n",
        "        atual = self.cabeca\n",
        "        anterior = None\n",
        "\n",
        "        while atual.proximo is not None:\n",
        "            anterior = atual\n",
        "            atual = atual.proximo\n",
        "\n",
        "        if anterior is None:\n",
        "            self.cabeca = None\n",
        "            self.cauda = None\n",
        "        else:\n",
        "            anterior.proximo = None\n",
        "            self.cauda = anterior  # Atualiza a cauda para o penúltimo nó\n",
        "\n",
        "        print(f'Elemento {atual.dado} removido.')\n",
        "\n",
        "    def remover_primeiro(self):\n",
        "        if self.esta_vazia():\n",
        "            print('A lista está vazia.')\n",
        "            return\n",
        "\n",
        "        print(f'Elemento {self.cabeca.dado} removido.')\n",
        "        self.cabeca = self.cabeca.proximo\n",
        "\n",
        "        if self.cabeca is None:\n",
        "            self.cauda = None  # Se a lista estiver vazia, a cauda também deve ser None\n",
        "\n",
        "    def remover_posicao(self, posicao):\n",
        "        if self.esta_vazia():\n",
        "            print('A lista está vazia.')\n",
        "            return\n",
        "\n",
        "        if posicao == 0:\n",
        "            self.remover_primeiro()\n",
        "            return\n",
        "\n",
        "        atual = self.cabeca\n",
        "        anterior = None\n",
        "        contador = 0\n",
        "\n",
        "        while atual is not None and contador < posicao:\n",
        "            anterior = atual\n",
        "            atual = atual.proximo\n",
        "            contador += 1\n",
        "\n",
        "        if atual is not None:\n",
        "            anterior.proximo = atual.proximo\n",
        "            if anterior.proximo is None:\n",
        "                self.cauda = anterior  # Atualiza a cauda se o último nó foi removido\n",
        "            print(f'Elemento na posição {posicao} removido.')\n",
        "        else:\n",
        "            print(f'Posição {posicao} fora do intervalo.')\n",
        "\n",
        "    def buscar(self, dado):\n",
        "        atual = self.cabeca\n",
        "        while atual is not None:\n",
        "            if atual.dado == dado:\n",
        "                return True\n",
        "            atual = atual.proximo\n",
        "        return False\n",
        "\n",
        "    def tamanho(self):\n",
        "        contador = 0\n",
        "        atual = self.cabeca\n",
        "        while atual is not None:\n",
        "            contador += 1\n",
        "            atual = atual.proximo\n",
        "        return contador\n",
        "\n",
        "    def buscar_posicao(self, posicao):\n",
        "        atual = self.cabeca\n",
        "        contador = 0\n",
        "\n",
        "        while atual is not None and contador < posicao:\n",
        "            atual = atual.proximo\n",
        "            contador += 1\n",
        "\n",
        "        if atual is not None:\n",
        "            print(f'Elemento na posição {posicao}: {atual.dado}')\n",
        "        else:\n",
        "            print(f'Posição {posicao} fora do intervalo.')\n",
        "\n",
        "    def exibir_lista(self):\n",
        "        if self.esta_vazia():\n",
        "            print('A lista está vazia.')\n",
        "        else:\n",
        "            atual = self.cabeca\n",
        "            while atual:\n",
        "                print(atual.dado, end=' -> ')\n",
        "                atual = atual.proximo\n",
        "            print('None')\n"
      ],
      "metadata": {
        "id": "FGpEbRkhmyLk"
      },
      "execution_count": null,
      "outputs": []
    }
  ]
}