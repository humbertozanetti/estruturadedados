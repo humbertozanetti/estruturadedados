{
  "nbformat": 4,
  "nbformat_minor": 0,
  "metadata": {
    "colab": {
      "provenance": [],
      "authorship_tag": "ABX9TyMqLxRBhUctRd/CwirONvkN",
      "include_colab_link": true
    },
    "kernelspec": {
      "name": "python3",
      "display_name": "Python 3"
    },
    "language_info": {
      "name": "python"
    }
  },
  "cells": [
    {
      "cell_type": "markdown",
      "metadata": {
        "id": "view-in-github",
        "colab_type": "text"
      },
      "source": [
        "<a href=\"https://colab.research.google.com/github/humbertozanetti/estruturadedados/blob/main/Notebooks/Estrutura_de_Dados_EXTRA_01.ipynb\" target=\"_parent\"><img src=\"https://colab.research.google.com/assets/colab-badge.svg\" alt=\"Open In Colab\"/></a>"
      ]
    },
    {
      "cell_type": "markdown",
      "source": [
        "# **ESTRUTURA DE DADOS - AULA EXTRA 01**\n",
        "# **Prof. Dr. Humberto A. P. Zanetti**\n",
        "# Fatec Deputado Ary Fossen - Jundiaí\n",
        "\n",
        "\n",
        "---\n",
        "\n",
        "**Conteúdo da aula:**\n",
        "\n",
        "* Argumentos `**kwargs`\n",
        "* Funções `lambda`\n",
        "\n",
        "\n",
        "\n",
        "\n",
        "\n",
        "---"
      ],
      "metadata": {
        "id": "z1ogM5U9QEWh"
      }
    },
    {
      "cell_type": "markdown",
      "source": [
        "# **Argumentos** `**kwargs**`"
      ],
      "metadata": {
        "id": "0rMgYu-YUND5"
      }
    },
    {
      "cell_type": "markdown",
      "source": [
        "Os argumentos `**kwargs` em Python são usados para passar um número variável de argumentos nomeados para uma função. Ele transforma esses argumentos em um **dicionário** dentro da função, permitindo acessar os valores pelas chaves correspondentes.  \n",
        "**IMPORTANTE**: Os argumentos passados devem ser sempre **nomeado**, pois assim conseguimos criar o par **\"chave-valor\"**.  \n",
        "São muito utilizados quando não sabemos a quantidade de valores que vamos receber, como mostra o exemplo abaixo:"
      ],
      "metadata": {
        "id": "xwmVvTLVQlWP"
      }
    },
    {
      "cell_type": "code",
      "source": [
        "def exibir_dados(**kwargs):\n",
        "    for chave, valor in kwargs.items():\n",
        "        print(f'{chave}: {valor}')\n",
        "\n",
        "exibir_dados(nome='Betina', idade=6, cidade='Itatiba', hobby='nadar' )\n"
      ],
      "metadata": {
        "id": "4-lM1OdTRUDx",
        "outputId": "4695331a-5f0d-45d7-9847-ed219847c6e1",
        "colab": {
          "base_uri": "https://localhost:8080/"
        }
      },
      "execution_count": 4,
      "outputs": [
        {
          "output_type": "stream",
          "name": "stdout",
          "text": [
            "nome: Betina\n",
            "idade: 6\n",
            "cidade: Itatiba\n",
            "hobby: nadar\n"
          ]
        }
      ]
    },
    {
      "cell_type": "markdown",
      "source": [
        "Mesmo parecendo óbvio, ressalto que podemos passar dicionários explícitos como parâmetro. Mas mesmo havendo essa formato padrão no argumento de entrada, temos quen **sinalizar** que estamos passando um dicionário, e para isso usamos `**`.  \n",
        "Essa marcação **\"desempacota\"** o dicionário, transformando cada par chave-valor em argumentos nomeados."
      ],
      "metadata": {
        "id": "0rPv77WvTbZN"
      }
    },
    {
      "cell_type": "code",
      "source": [
        "def exibir_dados(**kwargs):\n",
        "    for chave, valor in kwargs.items():\n",
        "        print(f'{chave}: {valor}')\n",
        "\n",
        "dados = {'nome': 'Betina', 'idade': 6, 'escola': 'Educativa'}\n",
        "exibir_dados(**dados)\n"
      ],
      "metadata": {
        "id": "CIuvyHBOTlY1",
        "outputId": "71681b84-491e-40d3-e9bd-ef42a3c26ebd",
        "colab": {
          "base_uri": "https://localhost:8080/"
        }
      },
      "execution_count": 6,
      "outputs": [
        {
          "output_type": "stream",
          "name": "stdout",
          "text": [
            "nome: Betina\n",
            "idade: 6\n",
            "escola: Educativa\n"
          ]
        }
      ]
    },
    {
      "cell_type": "markdown",
      "source": [
        "Podemos utilizar também com parâmetros opcionais. É importante notar o uso do método `.get` associado ao parâmetro. Como visto em dicionários, podemos acessar cada elemento e definir um valor padrão. Caso o valor da chave seja alterado, modifica o valor associado à chave."
      ],
      "metadata": {
        "id": "q6mUQNytSoFR"
      }
    },
    {
      "cell_type": "code",
      "execution_count": 14,
      "metadata": {
        "id": "nYacjiCfPmAp",
        "outputId": "28422e3a-0471-470a-e47e-6ed59a62de8d",
        "colab": {
          "base_uri": "https://localhost:8080/"
        }
      },
      "outputs": [
        {
          "output_type": "stream",
          "name": "stdout",
          "text": [
            "Configuração do sistema:\n",
            "tema: escuro\n",
            "idioma: inglês\n",
            "notificacoes: Erro\n"
          ]
        }
      ],
      "source": [
        "def configurar_sistema(**kwargs):\n",
        "    configuracao = {\n",
        "        'tema': kwargs.get('tema', 'claro'),\n",
        "        'idioma': kwargs.get('idioma', 'português'),\n",
        "        'notificacoes': kwargs.get('notificacoes', True)\n",
        "    }\n",
        "    print('Configuração do sistema:')\n",
        "    for chave, valor in configuracao.items():\n",
        "        print(f'{chave}: {valor}')\n",
        "\n",
        "configurar_sistema(tema='escuro', idioma='inglês')\n"
      ]
    },
    {
      "cell_type": "markdown",
      "source": [
        "Em alguns casos, podemos unir `*args` (para argumentos posicionais) e `**kwargs` (para argumentos nomeados) na mesma função."
      ],
      "metadata": {
        "id": "lg6CWa1DS6qV"
      }
    },
    {
      "cell_type": "code",
      "source": [
        "def fazer_pedido(*itens, **detalhes):\n",
        "    print('Itens do pedido:')\n",
        "    for item in itens:\n",
        "        print(f'- {item}')\n",
        "\n",
        "    print('\\nDetalhes do pedido:')\n",
        "    for chave, valor in detalhes.items():\n",
        "        print(f'{chave}: {valor}')\n",
        "\n",
        "fazer_pedido('Pizza', 'Batata', 'Refrigerante', pagamento='cartão', entrega='expressa')\n"
      ],
      "metadata": {
        "id": "iFsz9nF5THOZ"
      },
      "execution_count": null,
      "outputs": []
    },
    {
      "cell_type": "markdown",
      "source": [
        "# **Funções** `lambdas`"
      ],
      "metadata": {
        "id": "7aD0loT5UYd0"
      }
    },
    {
      "cell_type": "markdown",
      "source": [
        "As funções `lambda` em Python são funções anônimas de uma única linha, úteis para operações simples e rápidas. Embora compactas, elas podem ser poderosas **quando combinadas** com funções de ordem superior, listas, dicionários e outras estruturas de dados.  \n",
        "Retomando o básico de uma função `lambda`:"
      ],
      "metadata": {
        "id": "FSs2L-_kXqBp"
      }
    },
    {
      "cell_type": "code",
      "source": [
        "soma = lambda x, y: x + y\n",
        "print(soma(3, 5))"
      ],
      "metadata": {
        "id": "nXas5rraX4I5"
      },
      "execution_count": null,
      "outputs": []
    },
    {
      "cell_type": "markdown",
      "source": [
        "A construção básica de uma função `lambda` é expressa em:\n",
        "```\n",
        "lambda <argumentos> : <operações>\n",
        "```\n"
      ],
      "metadata": {
        "id": "4871X_iUX9VN"
      }
    },
    {
      "cell_type": "markdown",
      "source": [
        "Podemos usar estruturas condicionais nessas funções."
      ],
      "metadata": {
        "id": "g2f2Dt21cChi"
      }
    },
    {
      "cell_type": "code",
      "source": [
        "par_ou_impar = lambda x: 'Par' if x % 2 == 0 else 'Ímpar'\n",
        "print(par_ou_impar(10))\n",
        "print(par_ou_impar(7))"
      ],
      "metadata": {
        "id": "UilHO5hNdb0W"
      },
      "execution_count": null,
      "outputs": []
    },
    {
      "cell_type": "markdown",
      "source": [
        "E até mesmo laços de repetição, no contexto de **compreensão em listas**."
      ],
      "metadata": {
        "id": "jZOquyTadtkV"
      }
    },
    {
      "cell_type": "code",
      "source": [
        "quadrados = lambda numeros: [x ** 2 for x in numeros]\n",
        "print(quadrados([1, 2, 3, 4, 5]))"
      ],
      "metadata": {
        "id": "U06r7YWadnKe",
        "outputId": "3d64d930-4075-496a-df9d-ab0396e89f9e",
        "colab": {
          "base_uri": "https://localhost:8080/"
        }
      },
      "execution_count": 17,
      "outputs": [
        {
          "output_type": "stream",
          "name": "stdout",
          "text": [
            "[1, 4, 9, 16, 25]\n"
          ]
        }
      ]
    },
    {
      "cell_type": "markdown",
      "source": [
        "Uma das função mais utilizando junto com `lambda`é a `map()`. Essa função aplica alguma ação em cada um dos items de um iterável.  \n",
        "No exemplo a seguir, a `map()`aplica a função `lambda`em cada um dos elementos da lista."
      ],
      "metadata": {
        "id": "uZtb4oDWjPwq"
      }
    },
    {
      "cell_type": "code",
      "source": [
        "numeros = [1, 2, 3, 4, 5]\n",
        "dobrados = list(map(lambda x: x * 2, numeros))\n",
        "print(dobrados)\n"
      ],
      "metadata": {
        "id": "GnLt47dWjiWm"
      },
      "execution_count": null,
      "outputs": []
    },
    {
      "cell_type": "markdown",
      "source": [
        "Ainda sobre operações em laço, temos também a função `reduce(função, sequência)`, que aplica uma determinada função passada como argumento em todos os elementos da lista. Mas ao contrário da `map()`, o `reduce()` mantém o estado de variáveis, como é necessário no exemplo a seguir, o qual utilizamos uma somatória. Para usarmos a função, temos que importar a biblioteca `functools`, especializada em operações com funções de \"maior ordem\" (*high-order functions*) e as operações em objetos.  \n",
        "Nesse contexto, `x` sempre receberá o retorna da função, e `y` receberá o cada elemento de `numeros`. Ao final, será retornado o valor final da somatória, em `x`."
      ],
      "metadata": {
        "id": "FDG5oJ-Wj04-"
      }
    },
    {
      "cell_type": "code",
      "source": [
        "from functools import reduce\n",
        "\n",
        "numeros = [1, 2, 3, 4, 5]\n",
        "soma = reduce(lambda x, y: x + y, numeros)\n",
        "print(soma)\n"
      ],
      "metadata": {
        "id": "CII3YECFk5hu"
      },
      "execution_count": null,
      "outputs": []
    },
    {
      "cell_type": "markdown",
      "source": [
        "Uma opção por para uma operação que não é exatamente um laço explicíto, mas envolve repetição em cada item e **condicional**, é a função `filter()`. Com ela podemos percorrer cada elemento de uma lista, por exemplo, retornando apenas aqueles que atendem a uma condição.\n"
      ],
      "metadata": {
        "id": "D5pRDUw-maD6"
      }
    },
    {
      "cell_type": "code",
      "source": [
        "numeros = [1, 2, 3, 4, 5, 6, 7, 8, 9]\n",
        "pares = list(filter(lambda x: x % 2 == 0, numeros))\n",
        "print(pares)\n"
      ],
      "metadata": {
        "id": "3KIpnhoCmyrh",
        "outputId": "7ae4b34f-4b39-4011-cf3f-5700cd387468",
        "colab": {
          "base_uri": "https://localhost:8080/"
        }
      },
      "execution_count": 21,
      "outputs": [
        {
          "output_type": "stream",
          "name": "stdout",
          "text": [
            "[2, 4, 6, 8]\n"
          ]
        }
      ]
    },
    {
      "cell_type": "markdown",
      "source": [
        "Outra aplicação interessante são integrando funções da linguagem ou de bibliotecas que aceitam como parâmetros outras funções.  \n",
        "Um exemplo muito comum é o uso de `sorted()`, em que o parâmetro `key`, que define qual é o item referência para ordenação, pode ser passado como `lambda`.\n"
      ],
      "metadata": {
        "id": "I45Zr1iFoImS"
      }
    },
    {
      "cell_type": "code",
      "source": [
        "pessoas = [('Ana', 30), ('Carlos', 25), ('Betina', 6)]\n",
        "\n",
        "ordenado = sorted(pessoas, key=lambda x: x[1] )\n",
        "print(ordenado)\n"
      ],
      "metadata": {
        "id": "2YfBt7e9oY9y"
      },
      "execution_count": null,
      "outputs": []
    },
    {
      "cell_type": "markdown",
      "source": [
        "## Quais as vantagens em usar `lambda`?"
      ],
      "metadata": {
        "id": "6jxpqoHwm_9t"
      }
    },
    {
      "cell_type": "markdown",
      "source": [
        "Usar funções `lambda` em vez de funções normais pode ser interessante em várias situações, especialmente quando você precisa de uma função simples e temporária, sem a necessidade de nomeá-la ou definir uma estrutura mais complexa. Aqui estão algumas razões pelas quais o uso de lambda pode ser vantajoso em certos contextos:\n",
        "+ **concorrência de código**: permitem escrever código mais compacto e legível em casos simples. Isso é especialmente útil quando você quer realizar operações pequenas e rápidas, sem precisar criar uma função normal com nome e `def`;\n",
        "+ **legibilidade no uso de *high-order functions***: como visto com `map()`, `reduce()` e `filter()`;\n",
        "+ **quando a função é utilizada apenas uma vez**: se a função será usada apenas uma vez, é mais eficiente e limpo usar uma ``lambda` em vez de definir uma função normal. Isso evita a criação de um nome de função extra, mantendo o código mais simples;\n",
        "+ **aplicações em funções como argumentos (*callbacks*)**: como visto com `sorted()`;\n",
        "+ **simplicidade e evita nomeação excessiva de funções**: foca na simplicidade em criar uma função extremamente simples e objetiva, deixando o código mais enxuto.\n"
      ],
      "metadata": {
        "id": "-EhHjRVYnE8C"
      }
    },
    {
      "cell_type": "markdown",
      "source": [
        "## Quando não usar?"
      ],
      "metadata": {
        "id": "p9ykNP2jpSpK"
      }
    },
    {
      "cell_type": "markdown",
      "source": [
        "Mesmo sem uma ferramenta excelente, há caso em que `lambdas`não são recomendados:\n",
        "+ **funções complexas**: se a função tem múltiplas expressões ou lógica complexa, é melhor usar a declaração convencional com `def`, pois a `lambda` pode comprometer a legibilidade, além de dificultar ou impossibilitar a lógica;\n",
        "+ **necessidade de documentação**: funções nomeadas têm uma vantagem de poderem ser documentadas com mais facilidade, já com `lambda` a documentação fica restrita à linha em que é utilizada;\n",
        "+ **código muito longo**: se a função `lambda`está longa demais, ela se tornar ilegível."
      ],
      "metadata": {
        "id": "moiwG4IfpUyK"
      }
    }
  ]
}