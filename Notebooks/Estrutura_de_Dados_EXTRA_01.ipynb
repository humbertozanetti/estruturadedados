{
  "nbformat": 4,
  "nbformat_minor": 0,
  "metadata": {
    "colab": {
      "provenance": [],
      "authorship_tag": "ABX9TyN7xjBurgNpJTFSZSSaBZfJ",
      "include_colab_link": true
    },
    "kernelspec": {
      "name": "python3",
      "display_name": "Python 3"
    },
    "language_info": {
      "name": "python"
    }
  },
  "cells": [
    {
      "cell_type": "markdown",
      "metadata": {
        "id": "view-in-github",
        "colab_type": "text"
      },
      "source": [
        "<a href=\"https://colab.research.google.com/github/humbertozanetti/estruturadedados/blob/main/Notebooks/Estrutura_de_Dados_EXTRA_01.ipynb\" target=\"_parent\"><img src=\"https://colab.research.google.com/assets/colab-badge.svg\" alt=\"Open In Colab\"/></a>"
      ]
    },
    {
      "cell_type": "markdown",
      "source": [
        "# **ESTRUTURA DE DADOS - AULA EXTRA 01**\n",
        "# **Prof. Dr. Humberto A. P. Zanetti**\n",
        "# Fatec Deputado Ary Fossen - Jundiaí\n",
        "\n",
        "\n",
        "---\n",
        "\n",
        "**Conteúdo da aula:**\n",
        "\n",
        "* Argumentos `**kwargs`\n",
        "* Funções `lambda`\n",
        "\n",
        "\n",
        "\n",
        "\n",
        "\n",
        "---"
      ],
      "metadata": {
        "id": "z1ogM5U9QEWh"
      }
    },
    {
      "cell_type": "markdown",
      "source": [
        "# **Argumentos** `**kwargs**`"
      ],
      "metadata": {
        "id": "0rMgYu-YUND5"
      }
    },
    {
      "cell_type": "markdown",
      "source": [
        "Os argumentos `**kwargs` em Python são usados para passar um número variável de argumentos nomeados para uma função. Ele transforma esses argumentos em um **dicionário** dentro da função, permitindo acessar os valores pelas chaves correspondentes.  \n",
        "**IMPORTANTE**: Os argumentos passados devem ser sempre **nomenado**, pois assim conseguimos criar o par **\"chave-valor\"**.  \n",
        "São muito utilizados quando não sabemos a quantidade de valores que vamos receber, como mostra o exemplo abaixo:"
      ],
      "metadata": {
        "id": "xwmVvTLVQlWP"
      }
    },
    {
      "cell_type": "code",
      "source": [
        "def exibir_dados(**kwargs):\n",
        "    for chave, valor in kwargs.items():\n",
        "        print(f'{chave}: {valor}')\n",
        "\n",
        "exibir_dados(nome='Betina', idade=6, cidade='Itatiba', hobby='nadar')\n"
      ],
      "metadata": {
        "id": "4-lM1OdTRUDx"
      },
      "execution_count": null,
      "outputs": []
    },
    {
      "cell_type": "markdown",
      "source": [
        "Mesmo parecendo óbvio, ressalto que podemos passar dicionários explícitos como parâmetro. Mas mesmo havendo essa formato padrão no argumento de entrada, temos quen **sinalizar** que estamos passando um dicionário, e para isso usamos `**`.  \n",
        "Essa marcação **\"desempacota\"** o dicionário, transformando cada par chave-valor em argumentos nomeados."
      ],
      "metadata": {
        "id": "0rPv77WvTbZN"
      }
    },
    {
      "cell_type": "code",
      "source": [
        "def exibir_dados(**kwargs):\n",
        "    for chave, valor in kwargs.items():\n",
        "        print(f'{chave}: {valor}')\n",
        "\n",
        "dados = {'nome': 'Betina', 'idade': 6, 'escola': 'Educativa'}\n",
        "exibir_dados(**dados)\n"
      ],
      "metadata": {
        "id": "CIuvyHBOTlY1"
      },
      "execution_count": null,
      "outputs": []
    },
    {
      "cell_type": "markdown",
      "source": [
        "Podemos utilizar também com parâmetros opcionais. é importante notar o uso do método `.get`` associado ao parâmetro. Como visto em dicionários, podemos acessar cada elemento e definir um valor padrão. Caso o valor da chave seja alterado, modifica o valor associado à chave."
      ],
      "metadata": {
        "id": "q6mUQNytSoFR"
      }
    },
    {
      "cell_type": "code",
      "execution_count": null,
      "metadata": {
        "id": "nYacjiCfPmAp"
      },
      "outputs": [],
      "source": [
        "def configurar_sistema(**kwargs):\n",
        "    configuracao = {\n",
        "        'tema': kwargs.get('tema', 'claro'),\n",
        "        'idioma': kwargs.get('idioma', 'português'),\n",
        "        'notificacoes': kwargs.get('notificacoes', True)\n",
        "    }\n",
        "    print('Configuração do sistema:')\n",
        "    for chave, valor in configuracao.items():\n",
        "        print(f'{chave}: {valor}')\n",
        "\n",
        "configurar_sistema(tema='escuro', idioma='inglês')\n"
      ]
    },
    {
      "cell_type": "markdown",
      "source": [
        "Em alguns casos, podemos unir `*args` (para argumentos posicionais) e `**kwargs` (para argumentos nomeados) na mesma função."
      ],
      "metadata": {
        "id": "lg6CWa1DS6qV"
      }
    },
    {
      "cell_type": "code",
      "source": [
        "def fazer_pedido(*itens, **detalhes):\n",
        "    print('Itens do pedido:')\n",
        "    for item in itens:\n",
        "        print(f'- {item}')\n",
        "\n",
        "    print('\\nDetalhes do pedido:')\n",
        "    for chave, valor in detalhes.items():\n",
        "        print(f'{chave}: {valor}')\n",
        "\n",
        "fazer_pedido('Pizza', 'Batata', 'Refrigerante', pagamento='cartão', entrega='expressa')\n"
      ],
      "metadata": {
        "id": "iFsz9nF5THOZ"
      },
      "execution_count": null,
      "outputs": []
    },
    {
      "cell_type": "markdown",
      "source": [
        "# **Funções** `lambdas`"
      ],
      "metadata": {
        "id": "7aD0loT5UYd0"
      }
    },
    {
      "cell_type": "markdown",
      "source": [
        "As funções `lambda` em Python são funções anônimas de uma única linha, úteis para operações simples e rápidas. Embora compactas, elas podem ser poderosas **quando combinadas** com funções de ordem superior, listas, dicionários e outras estruturas de dados.  \n",
        "Retomando o básico de uma função `lambda`:"
      ],
      "metadata": {
        "id": "FSs2L-_kXqBp"
      }
    },
    {
      "cell_type": "code",
      "source": [
        "soma = lambda x, y: x + y\n",
        "print(soma(3, 5))"
      ],
      "metadata": {
        "id": "nXas5rraX4I5"
      },
      "execution_count": null,
      "outputs": []
    },
    {
      "cell_type": "markdown",
      "source": [
        "A construção básica de uma função `lambda` é expressa em:\n",
        "```\n",
        "lambda <argumentos> :\n",
        "```"
      ],
      "metadata": {
        "id": "4871X_iUX9VN"
      }
    }
  ]
}