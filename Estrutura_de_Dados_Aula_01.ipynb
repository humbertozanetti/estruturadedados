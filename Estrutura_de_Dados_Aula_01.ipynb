{
  "nbformat": 4,
  "nbformat_minor": 0,
  "metadata": {
    "colab": {
      "provenance": [],
      "collapsed_sections": [
        "o9uFuG0LKaUT",
        "_g8kRcAS5wt3",
        "fP8e9z-30NiB"
      ],
      "authorship_tag": "ABX9TyOR132jNc/OOucmUQSlz0no",
      "include_colab_link": true
    },
    "kernelspec": {
      "name": "python3",
      "display_name": "Python 3"
    },
    "language_info": {
      "name": "python"
    }
  },
  "cells": [
    {
      "cell_type": "markdown",
      "metadata": {
        "id": "view-in-github",
        "colab_type": "text"
      },
      "source": [
        "<a href=\"https://colab.research.google.com/github/humbertozanetti/estruturadedados/blob/main/Estrutura_de_Dados_Aula_01.ipynb\" target=\"_parent\"><img src=\"https://colab.research.google.com/assets/colab-badge.svg\" alt=\"Open In Colab\"/></a>"
      ]
    },
    {
      "cell_type": "markdown",
      "source": [
        "# **ESTRUTURA DE DADOS - AULA 01**\n",
        "# **Prof. Dr. Humberto A. P. Zanetti**\n",
        "# Fatec Deputado Ary Fossen - Jundiaí\n",
        "\n",
        "\n",
        "---\n",
        "\n",
        "**Conteúdo da aula:**\n",
        "\n",
        "* O que são Estruturas de Dados?\n",
        "* Listas (revisão e compreensão de listas)\n",
        "* Tuplas\n",
        "* Sets (conjuntos)\n",
        "* Dicts (dicionários)\n",
        "\n",
        "\n",
        "\n",
        "\n",
        "\n",
        "---\n",
        "\n",
        "\n",
        "\n"
      ],
      "metadata": {
        "id": "uAWQ78iaPon6"
      }
    },
    {
      "cell_type": "markdown",
      "source": [
        "## **O que são Estuturas de Dados?**\n",
        "Estrtura de Dados (ED) é um dos principais componentes de no desenvolvimento de qualquer sistema de software (mesmo que não seja explícito). Qual ação que tenha que manipular ou armazenar dados em um programa, implica de alguma maneira, na utilização de ED. Os dados utilizados pelo pelo algoritmo para resolver o problema precisam ser armazenados e organizados de maneira eficiente na memória. Isso impacta diretamente no que chamamos de **desempenho** do sistema, pois o acesso e recuperação de dados podem gera um grande \"gargalo\" para o sistema, caso sejam mal implementados.\n",
        "\n",
        "**Por que aprender ED em Ciência de Dados?**\n",
        "\n",
        "Aprender e saber aplicar estruturas de dados é um conehcimento fundamental para qualquer um que precise implementar alguma Algoritmo, independente de qual sua aplicação. Na Ciência de Dados somos inundados com ações recorrentes ao uso de Algoritmos (muitas vezes, mais do que um!).\n",
        "\n",
        "Vamos ver uma breve explanação sobre ED no canal Código Fonte TV: https://youtu.be/EfF1M7myAyY?si=MvndDDokYbgItR-R\n",
        "\n",
        "\n",
        "---\n",
        "\n",
        "\n"
      ],
      "metadata": {
        "id": "klkVT-TTSazK"
      }
    },
    {
      "cell_type": "markdown",
      "source": [
        "# **Listas**\n",
        "\n",
        "Listas em python são usadas para armazenar vários itens na mesma variável (ou referência de variável). A lista é mutável, pode ser heterogênea (vários tipos de dados) e aceita valores duplicados.\n",
        "Nós considerados likstas como sendo uma estrutura \"ordenada\" e \"dinâmica\". Ordenada devido ao uso de índices. Dinâmica é devido sua flexibilidade na adição, exclusão e demais operações com os itens que a compõe.\n",
        "Ainda sobre dinaminismo, vale a pena recordar algumas utilizações de acesso a índices:"
      ],
      "metadata": {
        "id": "o9uFuG0LKaUT"
      }
    },
    {
      "cell_type": "code",
      "execution_count": null,
      "metadata": {
        "colab": {
          "base_uri": "https://localhost:8080/"
        },
        "id": "n63jlcL_PQXA",
        "outputId": "6fd12bde-9d28-4d19-bc2d-8cd8d68d5c29"
      },
      "outputs": [
        {
          "output_type": "stream",
          "name": "stdout",
          "text": [
            "['fatec', 1.8, 42, True]\n",
            "True\n",
            "[1.8, 42]\n"
          ]
        }
      ],
      "source": [
        "lista = ['fatec', 1.8, 42, True]\n",
        "print(lista) #imprimindo a lista toda\n",
        "print(lista[2]) #acessando um determinado índice\n",
        "print(lista[-1]) #acessando índices \"negativos\" (lembrando que iniciamos com -1)\n",
        "print(lista[1:3]) #fazendo slice"
      ]
    },
    {
      "cell_type": "markdown",
      "source": [
        "Também é importante recordar que há ações de operações e funções atribuídas em listas."
      ],
      "metadata": {
        "id": "e6zE-I-QYnOx"
      }
    },
    {
      "cell_type": "code",
      "source": [
        "print(lista * 2)\n",
        "print(lista + ['novo item'])\n",
        "print('fatec' in lista)\n",
        "print(len(lista))"
      ],
      "metadata": {
        "id": "s35MS8PsYzSu"
      },
      "execution_count": null,
      "outputs": []
    },
    {
      "cell_type": "markdown",
      "source": [
        "Mas há algumas funções que dependem do **contexto dos dados**. Por exemplo, a função *`max()`* funcionaria na lista de exemplo?"
      ],
      "metadata": {
        "id": "FZ7T1TPzMEOL"
      }
    },
    {
      "cell_type": "markdown",
      "source": [
        "Em Python também é permitido que faça operações entre listas:\n",
        "\n",
        "**Adição e remoção de elementos**"
      ],
      "metadata": {
        "id": "VvUYXla8bBg0"
      }
    },
    {
      "cell_type": "code",
      "source": [
        "# Lista de números inteiros\n",
        "numeros = [1, 2, 3, 4, 5]\n",
        "\n",
        "# Lista de strings\n",
        "frutas = ['maçã', 'banana', 'cereja']\n",
        "\n",
        "numeros.append(6)  # [1, 2, 3, 4, 5, 6]\n",
        "frutas.extend(['laranja', 'uva'])  # [\"maçã\", \"banana\", \"cereja\", \"laranja\", \"uva\"]\n",
        "numeros.insert(0, 0)  # [0, 1, 2, 3, 4, 5, 6]\n",
        "\n",
        "numeros.remove(2)  # [0, 1, 3, 4, 5, 6]\n",
        "fruta = frutas.pop(1)  # \"banana\", frutas = [\"maçã\", \"cereja\", \"laranja\", \"uva\"]\n",
        "del numeros[0]  # [1, 3, 4, 5, 6]"
      ],
      "metadata": {
        "id": "yDMDPzE_36jz"
      },
      "execution_count": null,
      "outputs": []
    },
    {
      "cell_type": "markdown",
      "source": [
        "**Ordenação e busca**"
      ],
      "metadata": {
        "id": "3vRi3Nvx43Un"
      }
    },
    {
      "cell_type": "code",
      "source": [
        "numeros.sort()  # [1, 3, 4, 5, 6]\n",
        "frutas_ordenadas = sorted(frutas)  # ['cereja', 'laranja', 'maçã', 'uva']\n",
        "indice_cereja = frutas.index('cereja')  # 1\n",
        "contagem_maca = frutas.count('maçã')  # 1"
      ],
      "metadata": {
        "id": "lgBqIsSd5Xzv"
      },
      "execution_count": null,
      "outputs": []
    },
    {
      "cell_type": "markdown",
      "source": [
        "# **Compreensão de listas (*list comprehension*)**\n",
        "\n",
        "Compreensão de listas é uma ferramenta poderosa e concisa em Python para criar novas listas. Ela permite aplicar operações e uso de estruturas de controle sobre elementos iteráveis de forma elegante e eficiente. **EXEMPLOS**:\n",
        "\n",
        "**Criar uma lista de números elevados ao quadrado:** elevar ao quadrado cada número de 0 a 9 e armazenar os resultados em uma nova lista."
      ],
      "metadata": {
        "id": "_g8kRcAS5wt3"
      }
    },
    {
      "cell_type": "code",
      "source": [
        "quadrados = [x**2 for x in range(10)]\n",
        "print(quadrados)"
      ],
      "metadata": {
        "id": "_zDivH4i6wjP"
      },
      "execution_count": null,
      "outputs": []
    },
    {
      "cell_type": "markdown",
      "source": [
        "**Filtrar números pares:** Selecionar apenas números pares de uma sequência de 0 a 19."
      ],
      "metadata": {
        "id": "Llqib-be5wlL"
      }
    },
    {
      "cell_type": "code",
      "source": [
        "pares = [x for x in range(20) if x % 2 == 0]\n",
        "print(pares)"
      ],
      "metadata": {
        "id": "zeGSW3Qo7B4f"
      },
      "execution_count": null,
      "outputs": []
    },
    {
      "cell_type": "markdown",
      "source": [
        "**Aplicar uma operação condicional:** Criar uma lista onde números menores que 5 são elevados ao quadrado e os demais são mantidos iguais."
      ],
      "metadata": {
        "id": "9qgR3apj7BQn"
      }
    },
    {
      "cell_type": "code",
      "source": [
        "resultado = [x**2 if x < 5 else x for x in range(10)]\n",
        "print(resultado)"
      ],
      "metadata": {
        "id": "uf89_rhl7V6_"
      },
      "execution_count": null,
      "outputs": []
    },
    {
      "cell_type": "markdown",
      "source": [
        "**Transformar strings em uma lista de seus comprimentos:** Dada uma lista de palavras, criar uma lista contendo o comprimento de cada palavra."
      ],
      "metadata": {
        "id": "U2Sb0MNvBEYF"
      }
    },
    {
      "cell_type": "code",
      "source": [
        "palavras = [\"maçã\", \"banana\", \"cereja\"]\n",
        "comprimentos = [len(palavra) for palavra in palavras]\n",
        "print(comprimentos)"
      ],
      "metadata": {
        "id": "mGf8X-KlBRVD"
      },
      "execution_count": null,
      "outputs": []
    },
    {
      "cell_type": "markdown",
      "source": [
        "**Filtrar e transformar simultaneamente:** De uma lista de números, criar uma lista contendo apenas os quadrados dos números ímpares."
      ],
      "metadata": {
        "id": "gySW71NZBSDf"
      }
    },
    {
      "cell_type": "code",
      "source": [
        "quadrados_impares = [x**2 for x in range(10) if x % 2 != 0]\n",
        "print(quadrados_impares)"
      ],
      "metadata": {
        "id": "U1mQOgIaBvc0"
      },
      "execution_count": null,
      "outputs": []
    },
    {
      "cell_type": "markdown",
      "source": [
        "**Trabalhar com listas aninhadas:** Achatar (*flatten*) uma lista de listas, criando uma lista plana com todos os elementos."
      ],
      "metadata": {
        "id": "t43ypXiEBweQ"
      }
    },
    {
      "cell_type": "code",
      "source": [
        "listas_aninhadas = [[1, 2, 3], [4, 5, 6], [7, 8, 9]]\n",
        "lista_planada = [num for sublista in listas_aninhadas for num in sublista]\n",
        "print(lista_planada)"
      ],
      "metadata": {
        "id": "pDBPqlg7B7DI"
      },
      "execution_count": null,
      "outputs": []
    },
    {
      "cell_type": "markdown",
      "source": [
        "**Converter todos os caracteres de uma string para maiúsculas:** Dada uma string, criar uma lista com cada caractere convertido para maiúscula."
      ],
      "metadata": {
        "id": "mFSYKKCfB_JE"
      }
    },
    {
      "cell_type": "code",
      "source": [
        "frase = \"ola mundo\"\n",
        "maiusculas = [char.upper() for char in frase]\n",
        "print(maiusculas)"
      ],
      "metadata": {
        "id": "lw5Q82wRCBuj"
      },
      "execution_count": null,
      "outputs": []
    },
    {
      "cell_type": "markdown",
      "source": [
        "**Usar funções em compreensão de listas:** Aplicar uma função a cada elemento de uma lista."
      ],
      "metadata": {
        "id": "AI6gWSenCGq4"
      }
    },
    {
      "cell_type": "code",
      "source": [
        "def dobro(x):\n",
        "    return x * 2\n",
        "\n",
        "numeros = [1, 2, 3, 4, 5]\n",
        "dobrados = [dobro(x) for x in numeros]\n",
        "print(dobrados)"
      ],
      "metadata": {
        "id": "m8XvSLfPCLjP"
      },
      "execution_count": null,
      "outputs": []
    },
    {
      "cell_type": "markdown",
      "source": [
        "**Compreensão de listas com múltiplos iteráveis:** Combinar elementos de duas listas, gerando todos os pares possíveis."
      ],
      "metadata": {
        "id": "_36leuhICNIP"
      }
    },
    {
      "cell_type": "code",
      "source": [
        "letras = ['a', 'b', 'c']\n",
        "numeros = [1, 2, 3]\n",
        "combinacoes = [(letra, numero) for letra in letras for numero in numeros]\n",
        "print(combinacoes)"
      ],
      "metadata": {
        "id": "5GE_F8lGCRWg"
      },
      "execution_count": null,
      "outputs": []
    },
    {
      "cell_type": "markdown",
      "source": [
        "## **EXERCÍCIOS**\n",
        "\n",
        "\n",
        "\n",
        "1.   Dada uma lista de números inteiros, implemente a compreensão que cria uma nova lista contendo os cubos dos números ímpares da lista original.\n",
        "2.   Dadas duas listas de números inteiros **a** e **b**, implemente uma fcompreensão que crie uma lista contendo a soma de todos os pares possíveis formados por um elemento de **a** e um elemento de **b**.\n",
        "\n"
      ],
      "metadata": {
        "id": "F2nVlCv4CVkB"
      }
    },
    {
      "cell_type": "markdown",
      "source": [
        "\n",
        "\n",
        "---\n",
        "\n",
        "\n",
        "# **Tuplas**\n",
        "\n",
        "As tuplas são um tipo de estrutura de dados em Python que, assim como as listas, podem armazenar múltiplos itens. No entanto, diferentemente das listas, as tuplas são imutáveis, ou seja, uma vez criadas, seus elementos não podem ser alterados. As tuplas são definidas usando parênteses () e são frequentemente utilizadas quando você quer garantir que os dados não serão modificados\n",
        "Características das Tuplas:\n",
        "* Imutáveis: Uma vez criada, você não pode adicionar, remover ou modificar os\n",
        "elementos de uma tupla.\n",
        "* Ordenadas: Os elementos têm uma ordem definida e mantêm essa ordem.\n",
        "* Podem conter elementos heterogêneos: Uma tupla pode armazenar diferentes tipos de dados (inteiros, strings, listas, etc.).\n",
        "\n",
        "**Criando uma tupla**\n"
      ],
      "metadata": {
        "id": "fP8e9z-30NiB"
      }
    },
    {
      "cell_type": "code",
      "source": [
        "tupla_vazia = ()  # Tupla vazia\n",
        "tupla_simples = (1, 2, 3)  # Tupla com três elementos\n",
        "tupla_heterogenea = (1, 'Python', 3.14)  # Tupla com tipos de dados diferentes\n"
      ],
      "metadata": {
        "id": "MI8aOA1e0yQ1"
      },
      "execution_count": null,
      "outputs": []
    },
    {
      "cell_type": "markdown",
      "source": [
        "**Acessando elementos em uma tupla**"
      ],
      "metadata": {
        "id": "rK4a3zKq0_ig"
      }
    },
    {
      "cell_type": "code",
      "source": [
        "minha_tupla = (10, 20, 30, 40)\n",
        "print(minha_tupla[0])  # Acesso ao primeiro elemento: Saída: 10\n",
        "print(minha_tupla[2])  # Acesso ao terceiro elemento: Saída: 30"
      ],
      "metadata": {
        "id": "4pOPMPDx1Gq5"
      },
      "execution_count": null,
      "outputs": []
    },
    {
      "cell_type": "markdown",
      "source": [
        "**Tentando modificar uma tupla (o que gera um erro):**"
      ],
      "metadata": {
        "id": "EKOCtbjR1EPl"
      }
    },
    {
      "cell_type": "code",
      "source": [
        "minha_tupla = (1, 2, 3)\n",
        "# minha_tupla[0] = 10  # Isso causará um erro, pois tuplas são imutáveis"
      ],
      "metadata": {
        "id": "JL-6NqNm1LN9"
      },
      "execution_count": null,
      "outputs": []
    },
    {
      "cell_type": "markdown",
      "source": [
        "**Desempacotamento de Tuplas:**\n",
        "\n",
        "Você pode \"desempacotar\" os valores de uma tupla em variáveis individuais."
      ],
      "metadata": {
        "id": "qGNhaEnr1OkB"
      }
    },
    {
      "cell_type": "code",
      "source": [
        "tupla = (\"a\", \"b\", \"c\")\n",
        "x, y, z = tupla\n",
        "print(x)  # Saída: \"a\"\n",
        "print(y)  # Saída: \"b\"\n",
        "print(z)  # Saída: \"c\""
      ],
      "metadata": {
        "id": "qki-96B61bsd"
      },
      "execution_count": null,
      "outputs": []
    },
    {
      "cell_type": "markdown",
      "source": [
        "**Tuplas dentro de listas e vice-versa:**\n",
        "\n",
        "Tuplas podem ser elementos de uma lista, e listas podem ser elementos de uma tupla."
      ],
      "metadata": {
        "id": "rFCiyqb91hq1"
      }
    },
    {
      "cell_type": "code",
      "source": [
        "lista_com_tuplas = [(1, 2), (3, 4), (5, 6)]\n",
        "tupla_com_listas = ([1, 2], [3, 4], [5, 6])"
      ],
      "metadata": {
        "id": "H0bipK4f1j6p"
      },
      "execution_count": null,
      "outputs": []
    },
    {
      "cell_type": "markdown",
      "source": [
        "**Operações com Tuplas:**\n",
        "\n",
        "Como as tuplas são imutáveis, operações como a adição de elementos, remoção ou modificação direta não são permitidas. No entanto, você pode concatenar tuplas ou repetir seus elementos."
      ],
      "metadata": {
        "id": "hBjp7ZLD1n3p"
      }
    },
    {
      "cell_type": "code",
      "source": [
        "tupla1 = (1, 2, 3)\n",
        "tupla2 = (4, 5, 6)\n",
        "\n",
        "# Concatenar duas tuplas\n",
        "tupla_concatenada = tupla1 + tupla2\n",
        "print(tupla_concatenada)  # Saída: (1, 2, 3, 4, 5, 6)\n",
        "\n",
        "# Repetir elementos de uma tupla\n",
        "tupla_repetida = tupla1 * 2\n",
        "print(tupla_repetida)  # Saída: (1, 2, 3, 1, 2, 3)"
      ],
      "metadata": {
        "id": "RhfLcLLr1sNR"
      },
      "execution_count": null,
      "outputs": []
    },
    {
      "cell_type": "markdown",
      "source": [
        "**Verificando a existência de um elemento em uma tupla:**\n",
        "\n",
        "Você pode verificar se um item está presente em uma tupla usando o operador in."
      ],
      "metadata": {
        "id": "9kvJphlr11kj"
      }
    },
    {
      "cell_type": "code",
      "source": [
        "minha_tupla = (10, 20, 30, 40)\n",
        "print(20 in minha_tupla)  # Saída: True\n",
        "print(50 in minha_tupla)  # Saída: False"
      ],
      "metadata": {
        "id": "X4VOTw3913JM"
      },
      "execution_count": null,
      "outputs": []
    },
    {
      "cell_type": "markdown",
      "source": [
        "**Quando usar Tuplas:**\n",
        "* **Segurança**: Quando você deseja garantir que os dados não sejam modificados por\n",
        "acidente.\n",
        "* **Desempenho**: Tuplas podem ser mais rápidas que listas para operações simples, devido à sua imutabilidade.\n",
        "* **Chaves em Dicionários (dict)**: Tuplas podem ser usadas como chaves em dicionários, pois são imutáveis, enquanto listas não podem."
      ],
      "metadata": {
        "id": "DB5kpMzw160Z"
      }
    },
    {
      "cell_type": "markdown",
      "source": [
        "## **EXERCÍCIO**\n",
        "\n",
        "Dada uma lista de tuplas onde cada tupla representa as coordenadas de um ponto no plano cartesiano (x, y), implemente uma compreensão de lista que crie uma nova lista contendo a distância de cada ponto até a origem (0, 0). A distância de um ponto (x, y) até a origem pode ser calculada usando a fórmula:\n",
        "\n",
        "$distancia = \\sqrt{x^2+y^2}$\n",
        "\n",
        "Implemente uma compreensão de lista que crie uma nova lista chamada distancias contendo a distância de cada ponto até a origem.\n",
        "Exiba a lista distancias.\n",
        "**Dica**: Utilize a função math.sqrt() para calcular a raiz quadrada."
      ],
      "metadata": {
        "id": "6hVhu3v6AbvH"
      }
    },
    {
      "cell_type": "markdown",
      "source": [
        "\n",
        "\n",
        "---\n",
        "\n",
        "\n",
        "# ***Sets* (conjuntos)**\n",
        "\n",
        "Um set em Python é uma coleção não ordenada e não indexada de elementos únicos. Ou seja, dentro de um set, não há elementos duplicados, e a ordem dos elementos não é garantida. Sets são úteis quando você precisa garantir que uma coleção de elementos não tenha duplicatas ou quando precisa realizar operações matemáticas como união, interseção, diferença, etc.\n",
        "\n",
        "**Características dos Sets:**\n",
        "* Elementos únicos: Um set não permite duplicatas; se você tentar adicionar um item que já está no set, ele será ignorado.\n",
        "* Não ordenado: A ordem dos elementos em um set não é garantida e pode mudar.\n",
        "* Mutável: Você pode adicionar e remover itens de um set, mas os elementos em si devem ser imutáveis (por exemplo, números, strings, tuplas)."
      ],
      "metadata": {
        "id": "SOnOI8DF2Lmc"
      }
    },
    {
      "cell_type": "markdown",
      "source": [
        "**Criando Sets:**\n",
        "Criando um set vazio e adicionando elementos:"
      ],
      "metadata": {
        "id": "zM1iEVbA2jnl"
      }
    },
    {
      "cell_type": "code",
      "source": [
        "meu_set = set()  # Set vazio\n",
        "meu_set.add(1)\n",
        "meu_set.add(2)\n",
        "meu_set.add(3)\n",
        "print(meu_set)  # Saída: {1, 2, 3}"
      ],
      "metadata": {
        "id": "RuJ11gGk2h2B"
      },
      "execution_count": null,
      "outputs": []
    },
    {
      "cell_type": "markdown",
      "source": [
        "**Criando um set com elementos:**"
      ],
      "metadata": {
        "id": "J1F_f4yN2p2l"
      }
    },
    {
      "cell_type": "code",
      "source": [
        "meu_set = {1, 2, 3, 4, 5}\n",
        "print(meu_set)  # Saída: {1, 2, 3, 4, 5}"
      ],
      "metadata": {
        "id": "F7J4nOxl2r6S"
      },
      "execution_count": null,
      "outputs": []
    },
    {
      "cell_type": "markdown",
      "source": [
        "**Tentando adicionar elementos duplicados:**"
      ],
      "metadata": {
        "id": "PFcrBCZj2vpm"
      }
    },
    {
      "cell_type": "code",
      "source": [
        "meu_set = {1, 2, 3, 4, 5}\n",
        "meu_set.add(3)  # 3 já está no set, não será adicionado novamente\n",
        "print(meu_set)  # Saída: {1, 2, 3, 4, 5}"
      ],
      "metadata": {
        "id": "HDID7Hc22xcG"
      },
      "execution_count": null,
      "outputs": []
    },
    {
      "cell_type": "markdown",
      "source": [
        "## Operações Comuns com Sets:\n",
        "**União de sets:**\n",
        "\n",
        "A união de dois sets contém todos os elementos de ambos os sets, sem duplicatas."
      ],
      "metadata": {
        "id": "V5cy3fbm2102"
      }
    },
    {
      "cell_type": "code",
      "source": [
        "set1 = {1, 2, 3}\n",
        "set2 = {3, 4, 5}\n",
        "set_uniao = set1.union(set2)\n",
        "print(set_uniao)  # Saída: {1, 2, 3, 4, 5}"
      ],
      "metadata": {
        "id": "4thIYkyH27FJ"
      },
      "execution_count": null,
      "outputs": []
    },
    {
      "cell_type": "markdown",
      "source": [
        "**Interseção de sets:**\n",
        "\n",
        "A interseção de dois sets contém apenas os elementos que estão presentes em ambos."
      ],
      "metadata": {
        "id": "ssk8iwGN3AAd"
      }
    },
    {
      "cell_type": "code",
      "source": [
        "set1 = {1, 2, 3}\n",
        "set2 = {2, 3, 4}\n",
        "set_intersecao = set1.intersection(set2)\n",
        "print(set_intersecao)  # Saída: {2, 3}"
      ],
      "metadata": {
        "id": "giDYmVn43Bal"
      },
      "execution_count": null,
      "outputs": []
    },
    {
      "cell_type": "markdown",
      "source": [
        "**Diferença de sets:**\n",
        "\n",
        "A diferença entre dois sets contém os elementos que estão em um set, mas não no outro."
      ],
      "metadata": {
        "id": "17_o2ieV3FjV"
      }
    },
    {
      "cell_type": "code",
      "source": [
        "set1 = {1, 2, 3}\n",
        "set2 = {2, 3, 4}\n",
        "set_diferenca = set1.difference(set2)\n",
        "print(set_diferenca)  # Saída: {1}"
      ],
      "metadata": {
        "id": "ciirqaCZ3Grf"
      },
      "execution_count": null,
      "outputs": []
    },
    {
      "cell_type": "markdown",
      "source": [
        "**Diferença simétrica de sets:**\n",
        "\n",
        "A diferença simétrica contém os elementos que estão em um set ou no outro, mas não em ambos."
      ],
      "metadata": {
        "id": "7AKb0XsK3Jnd"
      }
    },
    {
      "cell_type": "code",
      "source": [
        "set1 = {1, 2, 3}\n",
        "set2 = {2, 3, 4}\n",
        "set_diff_simetrica = set1.symmetric_difference(set2)\n",
        "print(set_diff_simetrica)  # Saída: {1, 4}"
      ],
      "metadata": {
        "id": "o7jiFSYW3LXJ"
      },
      "execution_count": null,
      "outputs": []
    },
    {
      "cell_type": "markdown",
      "source": [
        "**Verificando a existência de um elemento em um set:**"
      ],
      "metadata": {
        "id": "Y-tZwY3r3NjN"
      }
    },
    {
      "cell_type": "code",
      "source": [
        "meu_set = {1, 2, 3, 4, 5}\n",
        "print(3 in meu_set)  # Saída: True\n",
        "print(6 in meu_set)  # Saída: False"
      ],
      "metadata": {
        "id": "hkhExIeW3R5d"
      },
      "execution_count": null,
      "outputs": []
    },
    {
      "cell_type": "markdown",
      "source": [
        "**Removendo elementos de um set:**\n",
        "\n",
        "Você pode remover um elemento de um set usando remove() (gera erro se o elemento não existir) ou discard() (não gera erro)."
      ],
      "metadata": {
        "id": "siJRIrBr3VY9"
      }
    },
    {
      "cell_type": "code",
      "source": [
        "meu_set = {1, 2, 3, 4, 5}\n",
        "meu_set.remove(3)\n",
        "print(meu_set)  # Saída: {1, 2, 4, 5}"
      ],
      "metadata": {
        "id": "L934tyu63YW9"
      },
      "execution_count": null,
      "outputs": []
    },
    {
      "cell_type": "markdown",
      "source": [
        "**Método pop():**\n",
        "\n",
        "Remove e retorna um elemento arbitrário do set. Como o set não é ordenado, você não pode escolher qual elemento será removido."
      ],
      "metadata": {
        "id": "_ifKguEG3cMN"
      }
    },
    {
      "cell_type": "code",
      "source": [
        "meu_set = {1, 2, 3, 4, 5}\n",
        "elemento = meu_set.pop()\n",
        "print(elemento)  # Saída: (um elemento aleatório)\n",
        "print(meu_set)  # Saída: (set com um elemento a menos)"
      ],
      "metadata": {
        "id": "qNX3kVNh3eeV"
      },
      "execution_count": null,
      "outputs": []
    },
    {
      "cell_type": "markdown",
      "source": [
        "**Esvaziando um set:**\n",
        "\n",
        "Você pode remover todos os elementos de um set usando o método clear()."
      ],
      "metadata": {
        "id": "MRAehB0E3g3i"
      }
    },
    {
      "cell_type": "code",
      "source": [
        "meu_set = {1, 2, 3, 4, 5}\n",
        "meu_set.clear()\n",
        "print(meu_set)  # Saída: set()"
      ],
      "metadata": {
        "id": "RwtAGrSy3iyR"
      },
      "execution_count": null,
      "outputs": []
    },
    {
      "cell_type": "markdown",
      "source": [
        "**Exemplo Prático:**\n",
        "Imagine que você tenha duas listas de estudantes que participaram de diferentes workshops e quer encontrar os alunos que participaram de ambos os workshops, ou apenas um deles."
      ],
      "metadata": {
        "id": "n3XpefUL3mbl"
      }
    },
    {
      "cell_type": "code",
      "source": [
        "workshop1 = {'Ana', 'Bruno', 'Carlos', 'Daniel'}\n",
        "workshop2 = {'Carlos', 'Daniel', 'Eduardo', 'Fernanda'}\n",
        "\n",
        "# Estudantes que participaram de ambos os workshops\n",
        "participaram_ambos = workshop1.intersection(workshop2)\n",
        "print(participaram_ambos)  # Saída: {'Carlos', 'Daniel'}\n",
        "\n",
        "# Estudantes que participaram de apenas um dos workshops\n",
        "participaram_um = workshop1.symmetric_difference(workshop2)\n",
        "print(participaram_um)  # Saída: {'Ana', 'Bruno', 'Eduardo', 'Fernanda'}\n"
      ],
      "metadata": {
        "id": "y0ST67Zd3pm-"
      },
      "execution_count": null,
      "outputs": []
    },
    {
      "cell_type": "markdown",
      "source": [
        "Sets são uma estrutura de dados poderosa e eficiente em Python para armazenar coleções de elementos únicos e realizar operações matemáticas como união, interseção e diferença. Eles são particularmente úteis quando a ordem dos elementos não é importante e a duplicação precisa ser evitada."
      ],
      "metadata": {
        "id": "lTkFrW1l3-G-"
      }
    },
    {
      "cell_type": "markdown",
      "source": [
        "## **EXERCÍCIOS**\n",
        "\n",
        "Dadas duas listas de números inteiros, a e b, implemente um programa em Python que faça o seguinte:\n",
        "\n",
        "* Converta as listas em conjuntos (sets) para remover duplicatas.\n",
        "* Encontre os números que estão presentes em ambas as listas (interseção).\n",
        "* Encontre os números que estão presentes em a, mas não em b (diferença)."
      ],
      "metadata": {
        "id": "SZm5APDtD65k"
      }
    },
    {
      "cell_type": "markdown",
      "source": [
        "\n",
        "\n",
        "---\n",
        "\n",
        "# ***Dict* (Dicionário)**\n",
        "\n",
        "Dicionários em Python (dict)\n",
        "Um dicionário em Python, ou dict, é uma coleção de pares chave-valor. Cada chave é única e está associada a um valor. Os dicionários são úteis para armazenar dados que precisam ser rapidamente acessados por meio de uma chave, como registros, configurações, ou contagens.\n",
        "\n",
        "**Características dos Dicionários:**\n",
        "* Chaves únicas: Cada chave em um dicionário deve ser única. Se você atribuir um novo valor a uma chave já existente, o valor antigo será sobrescrito.\n",
        "* Mutáveis: Você pode adicionar, modificar ou remover pares chave-valor.\n",
        "* Desordenados (até Python 3.6): A partir do Python 3.7, a ordem dos itens inseridos no dicionário é mantida.\n",
        "* Acesso rápido: Os valores podem ser acessados rapidamente usando as chaves."
      ],
      "metadata": {
        "id": "_WGLAddc4AHd"
      }
    },
    {
      "cell_type": "code",
      "source": [
        "meu_dict = {}  # Dicionário vazio\n",
        "meu_dict['nome'] = 'Alice'\n",
        "meu_dict['idade'] = 25\n",
        "meu_dict['cidade'] = 'São Paulo'\n",
        "print(meu_dict)  # Saída: {'nome': 'Alice', 'idade': 25, 'cidade': 'São Paulo'}"
      ],
      "metadata": {
        "id": "NDd8OVgs4hcB"
      },
      "execution_count": null,
      "outputs": []
    },
    {
      "cell_type": "markdown",
      "source": [
        "**Criando um dicionário com valores iniciais:**"
      ],
      "metadata": {
        "id": "f7gFtWk-4iw9"
      }
    },
    {
      "cell_type": "code",
      "source": [
        "meu_dict = {\n",
        "    'nome': 'Betina',\n",
        "    'idade': 6,\n",
        "    'cidade': 'Itatiba'\n",
        "}\n",
        "print(meu_dict)  # Saída: {'nome': 'Betina', 'idade': 6, 'cidade': 'Itatiba'}"
      ],
      "metadata": {
        "id": "qkYF_7hE4lz1"
      },
      "execution_count": null,
      "outputs": []
    },
    {
      "cell_type": "markdown",
      "source": [
        "**Acessando valores em um dicionário usando chaves:**"
      ],
      "metadata": {
        "id": "zzZGFY4f5JgB"
      }
    },
    {
      "cell_type": "code",
      "source": [
        "meu_dict = {'nome': 'Betina', 'idade': 6, 'cidade': 'Itatiba'}\n",
        "print(meu_dict['nome'])  # Saída: Betina\n",
        "print(meu_dict['idade'])  # Saída: 6"
      ],
      "metadata": {
        "id": "lbFu-oEo5Ku_"
      },
      "execution_count": null,
      "outputs": []
    },
    {
      "cell_type": "markdown",
      "source": [
        "**Usando o método get() para acessar valores:**\n",
        "\n",
        "O método get() permite acessar valores em um dicionário sem gerar um erro se a chave não existir."
      ],
      "metadata": {
        "id": "z_veuCeA5kKV"
      }
    },
    {
      "cell_type": "code",
      "source": [
        "meu_dict = {'nome': 'Betina', 'idade': 6}\n",
        "print(meu_dict.get('nome'))  # Saída: Betina\n",
        "print(meu_dict.get('profissao', 'Desconhecido'))  # Saída: Desconhecido"
      ],
      "metadata": {
        "id": "gad1HzbK5pfl"
      },
      "execution_count": null,
      "outputs": []
    },
    {
      "cell_type": "markdown",
      "source": [
        "**Modificando Dicionários:**\n",
        "Adicionando ou atualizando um par chave-valor:"
      ],
      "metadata": {
        "id": "9vauGEin5q6t"
      }
    },
    {
      "cell_type": "code",
      "source": [
        "meu_dict = {'nome': 'Betina', 'idade': 6}\n",
        "meu_dict['idade'] = 7  # Atualizando a idade\n",
        "meu_dict['profissao'] = 'Estudante'  # Adicionando uma nova chave\n",
        "print(meu_dict)  # Saída: {'nome': 'Betina', 'idade': 7, 'profissao': 'Estudante'}"
      ],
      "metadata": {
        "id": "EBrzyacv5t_z"
      },
      "execution_count": null,
      "outputs": []
    },
    {
      "cell_type": "markdown",
      "source": [
        "**Removendo pares chave-valor:**\n",
        "\n",
        "Você pode remover itens usando del, pop() ou popitem()."
      ],
      "metadata": {
        "id": "1gWYfUhf5wph"
      }
    },
    {
      "cell_type": "code",
      "source": [
        "meu_dict = {'nome': 'Betina', 'idade': 6, 'cidade': 'São Paulo'}\n",
        "\n",
        "# Usando del\n",
        "del meu_dict['cidade']\n",
        "print(meu_dict)  # Saída: {'nome': 'Betina', 'idade': 6}\n",
        "\n",
        "# Usando pop()\n",
        "idade = meu_dict.pop('idade')\n",
        "print(idade)  # Saída: 6\n",
        "print(meu_dict)  # Saída: {'nome': 'Betina'}\n",
        "\n",
        "# Usando popitem() (remove o último item inserido)\n",
        "meu_dict['pais'] = 'Brasil'\n",
        "item_removido = meu_dict.popitem()\n",
        "print(item_removido)  # Saída: ('pais', 'Brasil')\n",
        "print(meu_dict)  # Saída: {'nome': 'Betina'}"
      ],
      "metadata": {
        "id": "G1I5kSX35yPh"
      },
      "execution_count": null,
      "outputs": []
    },
    {
      "cell_type": "markdown",
      "source": [
        "**Limpando todos os itens de um dicionário:**"
      ],
      "metadata": {
        "id": "ZqRQx6x850R5"
      }
    },
    {
      "cell_type": "code",
      "source": [
        "meu_dict = {'nome': 'Betina', 'idade': 6}\n",
        "meu_dict.clear()\n",
        "print(meu_dict)  # Saída: {}"
      ],
      "metadata": {
        "id": "UYEoT86u53Gt"
      },
      "execution_count": null,
      "outputs": []
    },
    {
      "cell_type": "markdown",
      "source": [
        "**Iterando sobre Dicionários:**\n",
        "Iterando sobre as chaves de um dicionário:"
      ],
      "metadata": {
        "id": "oOPqUdun54vK"
      }
    },
    {
      "cell_type": "code",
      "source": [
        "meu_dict = {'nome': 'Betina', 'idade': 6, 'cidade': 'Itatiba'}\n",
        "for chave in meu_dict:\n",
        "    print(chave)"
      ],
      "metadata": {
        "id": "qq9L6FK357TD"
      },
      "execution_count": null,
      "outputs": []
    },
    {
      "cell_type": "markdown",
      "source": [
        "**Iterando sobre os valores de um dicionário:**"
      ],
      "metadata": {
        "id": "-vZFv3ZO6KEV"
      }
    },
    {
      "cell_type": "code",
      "source": [
        "meu_dict = {'nome': 'Betina', 'idade': 6, 'cidade': 'São Paulo'}\n",
        "for valor in meu_dict.values():\n",
        "    print(valor)"
      ],
      "metadata": {
        "id": "c8KeumWu6Lvh"
      },
      "execution_count": null,
      "outputs": []
    },
    {
      "cell_type": "markdown",
      "source": [
        "**Iterando sobre as chaves e valores de um dicionário:**"
      ],
      "metadata": {
        "id": "R2jW0Ecc6VSJ"
      }
    },
    {
      "cell_type": "code",
      "source": [
        "meu_dict = {'nome': 'Betina', 'idade': 6, 'cidade': 'São Paulo'}\n",
        "for chave, valor in meu_dict.items():\n",
        "    print(f'Chave: {chave}, Valor: {valor}')"
      ],
      "metadata": {
        "id": "J2H6WSwj6WWC"
      },
      "execution_count": null,
      "outputs": []
    },
    {
      "cell_type": "markdown",
      "source": [
        "**Mesclando dois dicionários:**\n",
        "\n",
        "A partir do Python 3.9, você pode usar o operador | para mesclar dicionários."
      ],
      "metadata": {
        "id": "2RNLUWiP6aYi"
      }
    },
    {
      "cell_type": "code",
      "source": [
        "dict1 = {'nome': 'Betina', 'idade': 6}\n",
        "dict2 = {'cidade': 'Itatiba', 'pais': 'Brasil'}\n",
        "dict_mesclado = dict1 | dict2\n",
        "print(dict_mesclado)  # Saída: {'nome': 'Betina', 'idade': 6, 'cidade': 'Itatiba', 'pais': 'Brasil'}"
      ],
      "metadata": {
        "id": "PkAlqK-06bqB"
      },
      "execution_count": null,
      "outputs": []
    },
    {
      "cell_type": "markdown",
      "source": [
        "**Exemplo Prático:**\n",
        "Imagine que você tem um registro de estudantes com suas notas e quer calcular a média das notas de cada aluno:"
      ],
      "metadata": {
        "id": "Ov9WiPtL6jV5"
      }
    },
    {
      "cell_type": "code",
      "source": [
        "notas = {\n",
        "    'Betina': [8, 7.5, 9],\n",
        "    'Bruno': [6, 7, 8],\n",
        "    'Carla': [9, 9.5, 10]\n",
        "}\n",
        "\n",
        "# Calculando a média das notas\n",
        "medias = {}\n",
        "for aluno, notas_aluno in notas.items():\n",
        "    media = sum(notas_aluno) / len(notas_aluno)\n",
        "    medias[aluno] = media\n",
        "\n",
        "print(medias)"
      ],
      "metadata": {
        "id": "rzzzFr6w6lKN"
      },
      "execution_count": null,
      "outputs": []
    },
    {
      "cell_type": "markdown",
      "source": [
        "Os dicionários são uma das estruturas de dados mais flexíveis e úteis em Python. Eles permitem um acesso rápido e eficiente aos dados através de chaves e são ideais para situações onde você precisa armazenar e manipular associações entre valores (como registros, contagens e configurações). A capacidade de modificar, adicionar e remover pares chave-valor torna os dicionários uma ferramenta essencial para a programação em Python."
      ],
      "metadata": {
        "id": "4_ME_hUd6ok2"
      }
    },
    {
      "cell_type": "markdown",
      "source": [
        "## **EXERCÍCIOS**\n",
        "\n",
        "Você recebeu um arquivo JSON contendo informações de vários alunos, incluindo nome, idade e as notas que eles tiraram em três disciplinas. Sua tarefa é implementar um programa em Python que:\n",
        "\n",
        "Calcule a média das notas de cada aluno.\n",
        "Adicione a média ao dicionário de cada aluno.\n",
        "Salve o dicionário atualizado de volta em um arquivo JSON.\n",
        "\n",
        "**Arquivo \"alunos.json\"**"
      ],
      "metadata": {
        "id": "haZcdMUXEv8Q"
      }
    },
    {
      "cell_type": "markdown",
      "source": [
        "[\n",
        "    {\"nome\": \"Betina\", \"idade\": 6, \"notas\": [9, 8, 10]},\n",
        "    {\"nome\": \"Bruno\", \"idade\": 7, \"notas\": [7, 8, 6]},\n",
        "    {\"nome\": \"Carla\", \"idade\": 8, \"notas\": [10, 9, 10]}\n",
        "]"
      ],
      "metadata": {
        "id": "P0EsrAYyFEt-"
      }
    },
    {
      "cell_type": "markdown",
      "source": [
        "Para carregar e salvar os dados em um dict:"
      ],
      "metadata": {
        "id": "ifWcIZYBFPE3"
      }
    },
    {
      "cell_type": "code",
      "source": [
        "import json\n",
        "\n",
        "# Carregando os dados do arquivo JSON\n",
        "with open('alunos.json', 'r') as arquivo:\n",
        "    alunos = json.load(arquivo)\n",
        "\n",
        "with open('alunos_atualizado.json', 'w') as arquivo:\n",
        "    json.dump(alunos, arquivo, indent=4)"
      ],
      "metadata": {
        "id": "erIFsUK7FULx"
      },
      "execution_count": null,
      "outputs": []
    }
  ]
}